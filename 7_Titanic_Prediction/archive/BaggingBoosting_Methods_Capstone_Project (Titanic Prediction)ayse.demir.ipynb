{
 "cells": [
  {
   "cell_type": "markdown",
   "metadata": {},
   "source": [
    "# <p style=\"background-color:green;font-family:newtimeroman;font-size:200%;color:white;text-align:center;border-radius:20px 20px;\"><b>Bagging & Boosting Methods Capstone Project (Titanic Prediction)</b></p>\n",
    "![](https://www.techproeducation.com/logo/headerlogo.svg)\n",
    "\n",
    "<b>Yeniliklerden ilk siz haberdar olmak istiyorsanız lütfen bizi takip etmeyi unutmayın </b>[YouTube](https://www.youtube.com/c/techproeducation) | [Instagram](https://www.instagram.com/techproeducation) | [Facebook](https://www.facebook.com/techproeducation) | [Telegram](https://t.me/joinchat/HH2qRvA-ulh4OWbb) | [Whatsapp](https://api.whatsapp.com/send/?phone=%2B15853042959&text&type=phone_number&app_absent=0) | [LinkedIn](https://www.linkedin.com/company/techproeducation/mycompany/) |"
   ]
  },
  {
   "cell_type": "markdown",
   "metadata": {},
   "source": [
    "![image.png](attachment:image.png)"
   ]
  },
  {
   "cell_type": "markdown",
   "metadata": {},
   "source": [
    "Makine öğrenmesi dünyasının meşhur problemi (bir proje) olan Titanic data seti ile tanışmaya hoş geldiniz arkadaşlar. Bu projemiz bir Kaggle Projesi olup sıklıkla kullanılan bir gerçek dünya data setidir. Data seti ile ilgili açıklamaya alttaki linkten ulaşabilirsiniz.\n",
    "\n",
    "https://www.kaggle.com/c/titanic/overview"
   ]
  },
  {
   "cell_type": "markdown",
   "metadata": {},
   "source": [
    "Bu problemde amacımız https://www.kaggle.com/c/titanic/overview linkindeki görevi yerine getirmek.\n",
    "\n",
    "**Önemli Not:** Kaggle yarışmalarında bazen data,\n",
    "* train data\n",
    "* test data\n",
    "olarak ayrı verilir.\n",
    "\n",
    "Buradaki test data bizim model oluştururken kullanacağımız test data değildir.\n",
    "\n",
    "Bu test data Kaggle'in yarışma sonuçları test etmek için kullandığı datadır.\n",
    "\n",
    "Dolayısı ile bu test data içinde target variable yani gerçek label değeri (grand truth) bulunmaz.\n",
    "\n",
    "Bu sebeple kendi model doğruluğumuzu ölçerken bu test datayı kullanamayacağınızdan mevcut train data ile train_test_split yaparak kendi test datanızı oluşturmayı unutmayın!"
   ]
  },
  {
   "cell_type": "markdown",
   "metadata": {},
   "source": [
    "https://scikit-learn.org/stable/modules/generated/sklearn.ensemble.RandomForestClassifier.html"
   ]
  },
  {
   "cell_type": "markdown",
   "metadata": {},
   "source": [
    "## ---------------------------- Titanic - Machine Learning from Disaster-----------------------------"
   ]
  },
  {
   "cell_type": "markdown",
   "metadata": {},
   "source": [
    "### Dataset İnfo"
   ]
  },
  {
   "cell_type": "markdown",
   "metadata": {},
   "source": [
    "* PassengerId: Her yolcu için benzersiz bir tanımlayıcı.\n",
    "* Survived: Hayatta kalma durumu (0 = Hayır, 1 = Evet).\n",
    "* Pclass: Bilet sınıfı (1 = 1. sınıf, 2 = 2. sınıf, 3 = 3. sınıf) sosyo-ekonomik durumu temsil ediyor.\n",
    "* Name: Yolcunun adı.\n",
    "* Sex: Yolcunun cinsiyeti (erkek veya kadın).\n",
    "* Age: Yolcunun yaşı. Bazı girişlerde eksik değerler (NaN) var.\n",
    "* SibSp: Yolcunun Titanic'te bulunan kardeş veya eş sayısı.\n",
    "* Parch: Yolcunun Titanic'te bulunan ebeveyn veya çocuk sayısı.\n",
    "* Ticket: Bilet numarası.\n",
    "* Fare: Bilete ödenen para miktarı.\n",
    "* Cabin: Kabin numarası. Bu alan birçok eksik değer (NaN) içeriyor.\n",
    "* Embarked: Biniş yapılan liman (C = Cherbourg, Q = Queenstown, S = Southampton)."
   ]
  },
  {
   "cell_type": "markdown",
   "metadata": {
    "id": "vGy9FUWFKwvt"
   },
   "source": [
    "# Import the Libarys"
   ]
  },
  {
   "cell_type": "code",
   "execution_count": 1,
   "metadata": {
    "ExecuteTime": {
     "end_time": "2024-03-29T12:30:25.390230Z",
     "start_time": "2024-03-29T12:30:23.850625Z"
    },
    "execution": {
     "iopub.execute_input": "2022-09-14T09:59:23.265702Z",
     "iopub.status.busy": "2022-09-14T09:59:23.265387Z",
     "iopub.status.idle": "2022-09-14T09:59:23.272700Z",
     "shell.execute_reply": "2022-09-14T09:59:23.271770Z",
     "shell.execute_reply.started": "2022-09-14T09:59:23.265669Z"
    },
    "executionInfo": {
     "elapsed": 320,
     "status": "ok",
     "timestamp": 1639566122527,
     "user": {
      "displayName": "Mesut Bilgin",
      "photoUrl": "https://lh3.googleusercontent.com/a/default-user=s64",
      "userId": "17511617768644180086"
     },
     "user_tz": -180
    },
    "id": "5lv0HYmNQ49n"
   },
   "outputs": [],
   "source": [
    "import pandas as pd\n",
    "import numpy as np\n",
    "import matplotlib.pyplot as plt\n",
    "import seaborn as sb\n",
    "\n",
    "from sklearn.model_selection import train_test_split\n",
    "from sklearn.svm import SVC\n",
    "from sklearn.model_selection import GridSearchCV\n",
    "from sklearn.metrics import r2_score\n",
    "from sklearn.metrics import confusion_matrix, classification_report, plot_confusion_matrix\n",
    "from sklearn.metrics import accuracy_score, f1_score, recall_score, precision_score\n",
    "from sklearn.ensemble import RandomForestClassifier\n",
    "from sklearn.model_selection import GridSearchCV\n",
    "from sklearn.linear_model import LogisticRegression\n",
    "from xgboost import XGBClassifier\n",
    "from sklearn.metrics import explained_variance_score\n",
    "\n",
    "import warnings\n",
    "warnings.filterwarnings(\"ignore\")\n"
   ]
  },
  {
   "cell_type": "markdown",
   "metadata": {
    "id": "WhJVElpEKk8q"
   },
   "source": [
    "# Import the Dataset"
   ]
  },
  {
   "cell_type": "code",
   "execution_count": 8,
   "metadata": {
    "ExecuteTime": {
     "end_time": "2024-03-29T12:39:40.861270Z",
     "start_time": "2024-03-29T12:39:40.850682Z"
    },
    "execution": {
     "iopub.execute_input": "2022-09-14T09:59:23.274952Z",
     "iopub.status.busy": "2022-09-14T09:59:23.274517Z",
     "iopub.status.idle": "2022-09-14T09:59:23.291510Z",
     "shell.execute_reply": "2022-09-14T09:59:23.290830Z",
     "shell.execute_reply.started": "2022-09-14T09:59:23.274919Z"
    },
    "executionInfo": {
     "elapsed": 5,
     "status": "ok",
     "timestamp": 1639566124218,
     "user": {
      "displayName": "Mesut Bilgin",
      "photoUrl": "https://lh3.googleusercontent.com/a/default-user=s64",
      "userId": "17511617768644180086"
     },
     "user_tz": -180
    },
    "id": "6aCuQOzAROVn"
   },
   "outputs": [],
   "source": [
    "df = pd.read_csv(r\"C:\\Users\\Hp\\Desktop\\Github_Data_Science\\Machine_Learning_Project\\ML Project 6\\gender_submission.csv\")"
   ]
  },
  {
   "cell_type": "code",
   "execution_count": 9,
   "metadata": {
    "ExecuteTime": {
     "end_time": "2024-03-29T12:39:44.064922Z",
     "start_time": "2024-03-29T12:39:44.054922Z"
    },
    "execution": {
     "iopub.execute_input": "2022-09-14T09:59:23.293257Z",
     "iopub.status.busy": "2022-09-14T09:59:23.292821Z",
     "iopub.status.idle": "2022-09-14T09:59:23.303320Z",
     "shell.execute_reply": "2022-09-14T09:59:23.302427Z",
     "shell.execute_reply.started": "2022-09-14T09:59:23.293225Z"
    },
    "executionInfo": {
     "elapsed": 35,
     "status": "ok",
     "timestamp": 1639566124620,
     "user": {
      "displayName": "Mesut Bilgin",
      "photoUrl": "https://lh3.googleusercontent.com/a/default-user=s64",
      "userId": "17511617768644180086"
     },
     "user_tz": -180
    },
    "id": "k-e-rSjGRPTi"
   },
   "outputs": [],
   "source": [
    "train = pd.read_csv(r\"C:\\Users\\Hp\\Desktop\\Github_Data_Science\\Machine_Learning_Project\\ML Project 6\\train.csv\")"
   ]
  },
  {
   "cell_type": "code",
   "execution_count": 10,
   "metadata": {
    "ExecuteTime": {
     "end_time": "2024-03-29T12:39:45.064850Z",
     "start_time": "2024-03-29T12:39:45.048762Z"
    },
    "execution": {
     "iopub.execute_input": "2022-09-14T09:59:23.305860Z",
     "iopub.status.busy": "2022-09-14T09:59:23.305593Z",
     "iopub.status.idle": "2022-09-14T09:59:23.318500Z",
     "shell.execute_reply": "2022-09-14T09:59:23.317546Z",
     "shell.execute_reply.started": "2022-09-14T09:59:23.305827Z"
    }
   },
   "outputs": [],
   "source": [
    "train2 = train.copy()"
   ]
  },
  {
   "cell_type": "code",
   "execution_count": 11,
   "metadata": {
    "ExecuteTime": {
     "end_time": "2024-03-29T12:40:06.516417Z",
     "start_time": "2024-03-29T12:40:06.497303Z"
    },
    "execution": {
     "iopub.execute_input": "2022-09-14T09:59:23.321073Z",
     "iopub.status.busy": "2022-09-14T09:59:23.320093Z",
     "iopub.status.idle": "2022-09-14T09:59:23.335253Z",
     "shell.execute_reply": "2022-09-14T09:59:23.334591Z",
     "shell.execute_reply.started": "2022-09-14T09:59:23.321012Z"
    },
    "executionInfo": {
     "elapsed": 37,
     "status": "ok",
     "timestamp": 1639566124624,
     "user": {
      "displayName": "Mesut Bilgin",
      "photoUrl": "https://lh3.googleusercontent.com/a/default-user=s64",
      "userId": "17511617768644180086"
     },
     "user_tz": -180
    },
    "id": "f9hFKEuiRPQ-"
   },
   "outputs": [],
   "source": [
    "test = pd.read_csv(r\"C:\\Users\\Hp\\Desktop\\Github_Data_Science\\Machine_Learning_Project\\ML Project 6\\train.csv\")"
   ]
  },
  {
   "cell_type": "code",
   "execution_count": 12,
   "metadata": {
    "ExecuteTime": {
     "end_time": "2024-03-29T12:40:07.344126Z",
     "start_time": "2024-03-29T12:40:07.340114Z"
    },
    "execution": {
     "iopub.execute_input": "2022-09-14T09:59:23.337274Z",
     "iopub.status.busy": "2022-09-14T09:59:23.336376Z",
     "iopub.status.idle": "2022-09-14T09:59:23.344099Z",
     "shell.execute_reply": "2022-09-14T09:59:23.343488Z",
     "shell.execute_reply.started": "2022-09-14T09:59:23.337217Z"
    }
   },
   "outputs": [],
   "source": [
    "test2 = test.copy()"
   ]
  },
  {
   "cell_type": "code",
   "execution_count": 13,
   "metadata": {
    "ExecuteTime": {
     "end_time": "2024-03-29T12:40:08.078845Z",
     "start_time": "2024-03-29T12:40:08.058302Z"
    },
    "execution": {
     "iopub.execute_input": "2022-09-14T09:59:23.345866Z",
     "iopub.status.busy": "2022-09-14T09:59:23.345183Z",
     "iopub.status.idle": "2022-09-14T09:59:23.362039Z",
     "shell.execute_reply": "2022-09-14T09:59:23.361149Z",
     "shell.execute_reply.started": "2022-09-14T09:59:23.345833Z"
    },
    "executionInfo": {
     "elapsed": 38,
     "status": "ok",
     "timestamp": 1639566124626,
     "user": {
      "displayName": "Mesut Bilgin",
      "photoUrl": "https://lh3.googleusercontent.com/a/default-user=s64",
      "userId": "17511617768644180086"
     },
     "user_tz": -180
    },
    "id": "NWXPsjZJRPOL",
    "outputId": "b91a1dc1-cc32-41f0-a961-a27c954e705f"
   },
   "outputs": [
    {
     "data": {
      "text/html": [
       "<div>\n",
       "<style scoped>\n",
       "    .dataframe tbody tr th:only-of-type {\n",
       "        vertical-align: middle;\n",
       "    }\n",
       "\n",
       "    .dataframe tbody tr th {\n",
       "        vertical-align: top;\n",
       "    }\n",
       "\n",
       "    .dataframe thead th {\n",
       "        text-align: right;\n",
       "    }\n",
       "</style>\n",
       "<table border=\"1\" class=\"dataframe\">\n",
       "  <thead>\n",
       "    <tr style=\"text-align: right;\">\n",
       "      <th></th>\n",
       "      <th>PassengerId</th>\n",
       "      <th>Survived</th>\n",
       "    </tr>\n",
       "  </thead>\n",
       "  <tbody>\n",
       "    <tr>\n",
       "      <th>0</th>\n",
       "      <td>892</td>\n",
       "      <td>0</td>\n",
       "    </tr>\n",
       "    <tr>\n",
       "      <th>1</th>\n",
       "      <td>893</td>\n",
       "      <td>1</td>\n",
       "    </tr>\n",
       "    <tr>\n",
       "      <th>2</th>\n",
       "      <td>894</td>\n",
       "      <td>0</td>\n",
       "    </tr>\n",
       "    <tr>\n",
       "      <th>3</th>\n",
       "      <td>895</td>\n",
       "      <td>0</td>\n",
       "    </tr>\n",
       "    <tr>\n",
       "      <th>4</th>\n",
       "      <td>896</td>\n",
       "      <td>1</td>\n",
       "    </tr>\n",
       "  </tbody>\n",
       "</table>\n",
       "</div>"
      ],
      "text/plain": [
       "   PassengerId  Survived\n",
       "0          892         0\n",
       "1          893         1\n",
       "2          894         0\n",
       "3          895         0\n",
       "4          896         1"
      ]
     },
     "execution_count": 13,
     "metadata": {},
     "output_type": "execute_result"
    }
   ],
   "source": [
    "df.head()"
   ]
  },
  {
   "cell_type": "code",
   "execution_count": 14,
   "metadata": {
    "ExecuteTime": {
     "end_time": "2024-03-29T12:40:08.794643Z",
     "start_time": "2024-03-29T12:40:08.770944Z"
    },
    "execution": {
     "iopub.execute_input": "2022-09-14T09:59:23.364119Z",
     "iopub.status.busy": "2022-09-14T09:59:23.363247Z",
     "iopub.status.idle": "2022-09-14T09:59:23.377289Z",
     "shell.execute_reply": "2022-09-14T09:59:23.376252Z",
     "shell.execute_reply.started": "2022-09-14T09:59:23.364078Z"
    },
    "executionInfo": {
     "elapsed": 37,
     "status": "ok",
     "timestamp": 1639566124627,
     "user": {
      "displayName": "Mesut Bilgin",
      "photoUrl": "https://lh3.googleusercontent.com/a/default-user=s64",
      "userId": "17511617768644180086"
     },
     "user_tz": -180
    },
    "id": "JJ0mWnooRPLs",
    "outputId": "73658319-2e4a-4491-a146-7165a5dd2361"
   },
   "outputs": [
    {
     "name": "stdout",
     "output_type": "stream",
     "text": [
      "<class 'pandas.core.frame.DataFrame'>\n",
      "RangeIndex: 418 entries, 0 to 417\n",
      "Data columns (total 2 columns):\n",
      " #   Column       Non-Null Count  Dtype\n",
      "---  ------       --------------  -----\n",
      " 0   PassengerId  418 non-null    int64\n",
      " 1   Survived     418 non-null    int64\n",
      "dtypes: int64(2)\n",
      "memory usage: 6.7 KB\n"
     ]
    }
   ],
   "source": [
    "df.info()"
   ]
  },
  {
   "cell_type": "code",
   "execution_count": 15,
   "metadata": {
    "ExecuteTime": {
     "end_time": "2024-03-29T12:40:09.727859Z",
     "start_time": "2024-03-29T12:40:09.708385Z"
    },
    "execution": {
     "iopub.execute_input": "2022-09-14T09:59:23.382005Z",
     "iopub.status.busy": "2022-09-14T09:59:23.381159Z",
     "iopub.status.idle": "2022-09-14T09:59:23.399375Z",
     "shell.execute_reply": "2022-09-14T09:59:23.398484Z",
     "shell.execute_reply.started": "2022-09-14T09:59:23.381965Z"
    },
    "executionInfo": {
     "elapsed": 36,
     "status": "ok",
     "timestamp": 1639566124628,
     "user": {
      "displayName": "Mesut Bilgin",
      "photoUrl": "https://lh3.googleusercontent.com/a/default-user=s64",
      "userId": "17511617768644180086"
     },
     "user_tz": -180
    },
    "id": "ugXZcaIORPJO",
    "outputId": "309104b8-4a03-450c-eddb-f886fa285340"
   },
   "outputs": [
    {
     "data": {
      "text/html": [
       "<div>\n",
       "<style scoped>\n",
       "    .dataframe tbody tr th:only-of-type {\n",
       "        vertical-align: middle;\n",
       "    }\n",
       "\n",
       "    .dataframe tbody tr th {\n",
       "        vertical-align: top;\n",
       "    }\n",
       "\n",
       "    .dataframe thead th {\n",
       "        text-align: right;\n",
       "    }\n",
       "</style>\n",
       "<table border=\"1\" class=\"dataframe\">\n",
       "  <thead>\n",
       "    <tr style=\"text-align: right;\">\n",
       "      <th></th>\n",
       "      <th>PassengerId</th>\n",
       "      <th>Survived</th>\n",
       "      <th>Pclass</th>\n",
       "      <th>Name</th>\n",
       "      <th>Sex</th>\n",
       "      <th>Age</th>\n",
       "      <th>SibSp</th>\n",
       "      <th>Parch</th>\n",
       "      <th>Ticket</th>\n",
       "      <th>Fare</th>\n",
       "      <th>Cabin</th>\n",
       "      <th>Embarked</th>\n",
       "    </tr>\n",
       "  </thead>\n",
       "  <tbody>\n",
       "    <tr>\n",
       "      <th>0</th>\n",
       "      <td>1</td>\n",
       "      <td>0</td>\n",
       "      <td>3</td>\n",
       "      <td>Braund, Mr. Owen Harris</td>\n",
       "      <td>male</td>\n",
       "      <td>22.0</td>\n",
       "      <td>1</td>\n",
       "      <td>0</td>\n",
       "      <td>A/5 21171</td>\n",
       "      <td>7.2500</td>\n",
       "      <td>NaN</td>\n",
       "      <td>S</td>\n",
       "    </tr>\n",
       "    <tr>\n",
       "      <th>1</th>\n",
       "      <td>2</td>\n",
       "      <td>1</td>\n",
       "      <td>1</td>\n",
       "      <td>Cumings, Mrs. John Bradley (Florence Briggs Th...</td>\n",
       "      <td>female</td>\n",
       "      <td>38.0</td>\n",
       "      <td>1</td>\n",
       "      <td>0</td>\n",
       "      <td>PC 17599</td>\n",
       "      <td>71.2833</td>\n",
       "      <td>C85</td>\n",
       "      <td>C</td>\n",
       "    </tr>\n",
       "    <tr>\n",
       "      <th>2</th>\n",
       "      <td>3</td>\n",
       "      <td>1</td>\n",
       "      <td>3</td>\n",
       "      <td>Heikkinen, Miss. Laina</td>\n",
       "      <td>female</td>\n",
       "      <td>26.0</td>\n",
       "      <td>0</td>\n",
       "      <td>0</td>\n",
       "      <td>STON/O2. 3101282</td>\n",
       "      <td>7.9250</td>\n",
       "      <td>NaN</td>\n",
       "      <td>S</td>\n",
       "    </tr>\n",
       "    <tr>\n",
       "      <th>3</th>\n",
       "      <td>4</td>\n",
       "      <td>1</td>\n",
       "      <td>1</td>\n",
       "      <td>Futrelle, Mrs. Jacques Heath (Lily May Peel)</td>\n",
       "      <td>female</td>\n",
       "      <td>35.0</td>\n",
       "      <td>1</td>\n",
       "      <td>0</td>\n",
       "      <td>113803</td>\n",
       "      <td>53.1000</td>\n",
       "      <td>C123</td>\n",
       "      <td>S</td>\n",
       "    </tr>\n",
       "    <tr>\n",
       "      <th>4</th>\n",
       "      <td>5</td>\n",
       "      <td>0</td>\n",
       "      <td>3</td>\n",
       "      <td>Allen, Mr. William Henry</td>\n",
       "      <td>male</td>\n",
       "      <td>35.0</td>\n",
       "      <td>0</td>\n",
       "      <td>0</td>\n",
       "      <td>373450</td>\n",
       "      <td>8.0500</td>\n",
       "      <td>NaN</td>\n",
       "      <td>S</td>\n",
       "    </tr>\n",
       "  </tbody>\n",
       "</table>\n",
       "</div>"
      ],
      "text/plain": [
       "   PassengerId  Survived  Pclass  \\\n",
       "0            1         0       3   \n",
       "1            2         1       1   \n",
       "2            3         1       3   \n",
       "3            4         1       1   \n",
       "4            5         0       3   \n",
       "\n",
       "                                                Name     Sex   Age  SibSp  \\\n",
       "0                            Braund, Mr. Owen Harris    male  22.0      1   \n",
       "1  Cumings, Mrs. John Bradley (Florence Briggs Th...  female  38.0      1   \n",
       "2                             Heikkinen, Miss. Laina  female  26.0      0   \n",
       "3       Futrelle, Mrs. Jacques Heath (Lily May Peel)  female  35.0      1   \n",
       "4                           Allen, Mr. William Henry    male  35.0      0   \n",
       "\n",
       "   Parch            Ticket     Fare Cabin Embarked  \n",
       "0      0         A/5 21171   7.2500   NaN        S  \n",
       "1      0          PC 17599  71.2833   C85        C  \n",
       "2      0  STON/O2. 3101282   7.9250   NaN        S  \n",
       "3      0            113803  53.1000  C123        S  \n",
       "4      0            373450   8.0500   NaN        S  "
      ]
     },
     "execution_count": 15,
     "metadata": {},
     "output_type": "execute_result"
    }
   ],
   "source": [
    "train.head()"
   ]
  },
  {
   "cell_type": "code",
   "execution_count": 16,
   "metadata": {
    "ExecuteTime": {
     "end_time": "2024-03-29T12:40:10.299574Z",
     "start_time": "2024-03-29T12:40:10.293719Z"
    },
    "execution": {
     "iopub.execute_input": "2022-09-14T09:59:23.403007Z",
     "iopub.status.busy": "2022-09-14T09:59:23.402175Z",
     "iopub.status.idle": "2022-09-14T09:59:23.412874Z",
     "shell.execute_reply": "2022-09-14T09:59:23.412190Z",
     "shell.execute_reply.started": "2022-09-14T09:59:23.402966Z"
    },
    "executionInfo": {
     "elapsed": 42,
     "status": "ok",
     "timestamp": 1639566124637,
     "user": {
      "displayName": "Mesut Bilgin",
      "photoUrl": "https://lh3.googleusercontent.com/a/default-user=s64",
      "userId": "17511617768644180086"
     },
     "user_tz": -180
    },
    "id": "I9deXUcBRPET",
    "outputId": "53d505b4-97a3-4eb7-d09c-77ed75b6e01d"
   },
   "outputs": [
    {
     "data": {
      "text/plain": [
       "PassengerId      0\n",
       "Survived         0\n",
       "Pclass           0\n",
       "Name             0\n",
       "Sex              0\n",
       "Age            177\n",
       "SibSp            0\n",
       "Parch            0\n",
       "Ticket           0\n",
       "Fare             0\n",
       "Cabin          687\n",
       "Embarked         2\n",
       "dtype: int64"
      ]
     },
     "execution_count": 16,
     "metadata": {},
     "output_type": "execute_result"
    }
   ],
   "source": [
    "train.isna().sum()"
   ]
  },
  {
   "cell_type": "code",
   "execution_count": 17,
   "metadata": {
    "ExecuteTime": {
     "end_time": "2024-03-29T12:40:10.988083Z",
     "start_time": "2024-03-29T12:40:10.978088Z"
    },
    "execution": {
     "iopub.execute_input": "2022-09-14T09:59:23.415061Z",
     "iopub.status.busy": "2022-09-14T09:59:23.414401Z",
     "iopub.status.idle": "2022-09-14T09:59:23.436331Z",
     "shell.execute_reply": "2022-09-14T09:59:23.435180Z",
     "shell.execute_reply.started": "2022-09-14T09:59:23.415027Z"
    },
    "executionInfo": {
     "elapsed": 42,
     "status": "ok",
     "timestamp": 1639566124640,
     "user": {
      "displayName": "Mesut Bilgin",
      "photoUrl": "https://lh3.googleusercontent.com/a/default-user=s64",
      "userId": "17511617768644180086"
     },
     "user_tz": -180
    },
    "id": "LzX_QHnwRO_x",
    "outputId": "d93c970e-84e9-438a-fe7e-75eb4c008bcf"
   },
   "outputs": [
    {
     "name": "stdout",
     "output_type": "stream",
     "text": [
      "<class 'pandas.core.frame.DataFrame'>\n",
      "RangeIndex: 891 entries, 0 to 890\n",
      "Data columns (total 12 columns):\n",
      " #   Column       Non-Null Count  Dtype  \n",
      "---  ------       --------------  -----  \n",
      " 0   PassengerId  891 non-null    int64  \n",
      " 1   Survived     891 non-null    int64  \n",
      " 2   Pclass       891 non-null    int64  \n",
      " 3   Name         891 non-null    object \n",
      " 4   Sex          891 non-null    object \n",
      " 5   Age          714 non-null    float64\n",
      " 6   SibSp        891 non-null    int64  \n",
      " 7   Parch        891 non-null    int64  \n",
      " 8   Ticket       891 non-null    object \n",
      " 9   Fare         891 non-null    float64\n",
      " 10  Cabin        204 non-null    object \n",
      " 11  Embarked     889 non-null    object \n",
      "dtypes: float64(2), int64(5), object(5)\n",
      "memory usage: 83.7+ KB\n"
     ]
    }
   ],
   "source": [
    "train.info()"
   ]
  },
  {
   "cell_type": "code",
   "execution_count": 18,
   "metadata": {
    "ExecuteTime": {
     "end_time": "2024-03-29T12:40:11.690330Z",
     "start_time": "2024-03-29T12:40:11.673937Z"
    },
    "execution": {
     "iopub.execute_input": "2022-09-14T09:59:23.439792Z",
     "iopub.status.busy": "2022-09-14T09:59:23.437780Z",
     "iopub.status.idle": "2022-09-14T09:59:23.449347Z",
     "shell.execute_reply": "2022-09-14T09:59:23.448498Z",
     "shell.execute_reply.started": "2022-09-14T09:59:23.439741Z"
    },
    "executionInfo": {
     "elapsed": 42,
     "status": "ok",
     "timestamp": 1639566124642,
     "user": {
      "displayName": "Mesut Bilgin",
      "photoUrl": "https://lh3.googleusercontent.com/a/default-user=s64",
      "userId": "17511617768644180086"
     },
     "user_tz": -180
    },
    "id": "9KEhUoa2uhFo",
    "outputId": "5e517b73-2430-4949-dade-a6b8151f0f2b"
   },
   "outputs": [
    {
     "data": {
      "text/plain": [
       "PassengerId      0\n",
       "Pclass           0\n",
       "Name             0\n",
       "Sex              0\n",
       "Age             86\n",
       "SibSp            0\n",
       "Parch            0\n",
       "Ticket           0\n",
       "Fare             1\n",
       "Cabin          327\n",
       "Embarked         0\n",
       "dtype: int64"
      ]
     },
     "execution_count": 18,
     "metadata": {},
     "output_type": "execute_result"
    }
   ],
   "source": [
    "test.isna().sum()"
   ]
  },
  {
   "cell_type": "markdown",
   "metadata": {
    "id": "rNV6xEA-Kr0V"
   },
   "source": []
  },
  {
   "cell_type": "markdown",
   "metadata": {
    "id": "bClyHwFDTS3F"
   },
   "source": [
    "# Visualization"
   ]
  },
  {
   "cell_type": "code",
   "execution_count": 19,
   "metadata": {
    "ExecuteTime": {
     "end_time": "2024-03-29T12:40:13.734187Z",
     "start_time": "2024-03-29T12:40:13.712984Z"
    },
    "execution": {
     "iopub.execute_input": "2022-09-14T09:59:23.451207Z",
     "iopub.status.busy": "2022-09-14T09:59:23.450606Z",
     "iopub.status.idle": "2022-09-14T09:59:23.460934Z",
     "shell.execute_reply": "2022-09-14T09:59:23.460064Z",
     "shell.execute_reply.started": "2022-09-14T09:59:23.451174Z"
    },
    "executionInfo": {
     "elapsed": 376,
     "status": "ok",
     "timestamp": 1639566126852,
     "user": {
      "displayName": "Mesut Bilgin",
      "photoUrl": "https://lh3.googleusercontent.com/a/default-user=s64",
      "userId": "17511617768644180086"
     },
     "user_tz": -180
    },
    "id": "2UwizrgMVZY6",
    "outputId": "068215ea-ea45-4013-a7dd-967dd1e34dae"
   },
   "outputs": [
    {
     "data": {
      "text/plain": [
       "0    549\n",
       "1    342\n",
       "Name: Survived, dtype: int64"
      ]
     },
     "execution_count": 19,
     "metadata": {},
     "output_type": "execute_result"
    }
   ],
   "source": [
    "train.Survived.value_counts(dropna = False)"
   ]
  },
  {
   "cell_type": "code",
   "execution_count": 20,
   "metadata": {
    "ExecuteTime": {
     "end_time": "2024-03-29T12:40:14.496324Z",
     "start_time": "2024-03-29T12:40:14.396742Z"
    },
    "execution": {
     "iopub.execute_input": "2022-09-14T09:59:23.463375Z",
     "iopub.status.busy": "2022-09-14T09:59:23.462973Z",
     "iopub.status.idle": "2022-09-14T09:59:23.663131Z",
     "shell.execute_reply": "2022-09-14T09:59:23.662409Z",
     "shell.execute_reply.started": "2022-09-14T09:59:23.463343Z"
    },
    "executionInfo": {
     "elapsed": 13,
     "status": "ok",
     "timestamp": 1639566126853,
     "user": {
      "displayName": "Mesut Bilgin",
      "photoUrl": "https://lh3.googleusercontent.com/a/default-user=s64",
      "userId": "17511617768644180086"
     },
     "user_tz": -180
    },
    "id": "2ymN-3V0RO9W",
    "outputId": "d0574b07-7d3c-4f63-a69c-d966a00f6601"
   },
   "outputs": [
    {
     "data": {
      "image/png": "[encoded data removed]",
      "text/plain": [
       "<Figure size 640x480 with 1 Axes>"
      ]
     },
     "metadata": {},
     "output_type": "display_data"
    }
   ],
   "source": [
    "palette = [\"red\", \"blue\"]\n",
    "sb.countplot(train.Survived, palette = palette)\n",
    "plt.title(\"Number of Passengers Who Survived vs Died\", fontdict = {\"fontsize\" : 18});"
   ]
  },
  {
   "cell_type": "markdown",
   "metadata": {
    "id": "DYt4Z9RRe3Fc"
   },
   "source": [
    "## Pclass Feature"
   ]
  },
  {
   "cell_type": "code",
   "execution_count": 21,
   "metadata": {
    "ExecuteTime": {
     "end_time": "2024-03-29T12:40:15.861519Z",
     "start_time": "2024-03-29T12:40:15.844517Z"
    },
    "execution": {
     "iopub.execute_input": "2022-09-14T09:59:23.664955Z",
     "iopub.status.busy": "2022-09-14T09:59:23.664152Z",
     "iopub.status.idle": "2022-09-14T09:59:23.672769Z",
     "shell.execute_reply": "2022-09-14T09:59:23.671901Z",
     "shell.execute_reply.started": "2022-09-14T09:59:23.664917Z"
    },
    "executionInfo": {
     "elapsed": 12,
     "status": "ok",
     "timestamp": 1639566126854,
     "user": {
      "displayName": "Mesut Bilgin",
      "photoUrl": "https://lh3.googleusercontent.com/a/default-user=s64",
      "userId": "17511617768644180086"
     },
     "user_tz": -180
    },
    "id": "bKn9SoPIVke6",
    "outputId": "b7707841-0262-409c-8637-dcfa7c3673d9"
   },
   "outputs": [
    {
     "data": {
      "text/plain": [
       "3    491\n",
       "1    216\n",
       "2    184\n",
       "Name: Pclass, dtype: int64"
      ]
     },
     "execution_count": 21,
     "metadata": {},
     "output_type": "execute_result"
    }
   ],
   "source": [
    "train.Pclass.value_counts(dropna = False)"
   ]
  },
  {
   "cell_type": "code",
   "execution_count": 22,
   "metadata": {
    "ExecuteTime": {
     "end_time": "2024-03-29T12:40:16.485768Z",
     "start_time": "2024-03-29T12:40:16.369998Z"
    },
    "execution": {
     "iopub.execute_input": "2022-09-14T09:59:23.674271Z",
     "iopub.status.busy": "2022-09-14T09:59:23.673976Z",
     "iopub.status.idle": "2022-09-14T09:59:23.862252Z",
     "shell.execute_reply": "2022-09-14T09:59:23.861623Z",
     "shell.execute_reply.started": "2022-09-14T09:59:23.674240Z"
    },
    "executionInfo": {
     "elapsed": 597,
     "status": "ok",
     "timestamp": 1639566127441,
     "user": {
      "displayName": "Mesut Bilgin",
      "photoUrl": "https://lh3.googleusercontent.com/a/default-user=s64",
      "userId": "17511617768644180086"
     },
     "user_tz": -180
    },
    "id": "a4N11QG0iQz2",
    "outputId": "b049bdbc-d04a-42f0-b52e-0ea37726e866"
   },
   "outputs": [
    {
     "data": {
      "image/png": "[encoded data removed]",
      "text/plain": [
       "<Figure size 640x480 with 1 Axes>"
      ]
     },
     "metadata": {},
     "output_type": "display_data"
    }
   ],
   "source": [
    "sb.countplot(train.Pclass, palette = \"viridis\")\n",
    "plt.title(\"Number of Pclasses\")\n",
    "plt.show()"
   ]
  },
  {
   "cell_type": "markdown",
   "metadata": {
    "id": "a7uf7JdBe-N-"
   },
   "source": [
    "## Sex Feature"
   ]
  },
  {
   "cell_type": "code",
   "execution_count": 24,
   "metadata": {
    "ExecuteTime": {
     "end_time": "2024-03-29T12:40:26.688911Z",
     "start_time": "2024-03-29T12:40:26.680290Z"
    },
    "execution": {
     "iopub.execute_input": "2022-09-14T09:59:24.091809Z",
     "iopub.status.busy": "2022-09-14T09:59:24.090652Z",
     "iopub.status.idle": "2022-09-14T09:59:24.100669Z",
     "shell.execute_reply": "2022-09-14T09:59:24.099689Z",
     "shell.execute_reply.started": "2022-09-14T09:59:24.091753Z"
    },
    "executionInfo": {
     "elapsed": 47,
     "status": "ok",
     "timestamp": 1639566127447,
     "user": {
      "displayName": "Mesut Bilgin",
      "photoUrl": "https://lh3.googleusercontent.com/a/default-user=s64",
      "userId": "17511617768644180086"
     },
     "user_tz": -180
    },
    "id": "lW2MzytQROv0",
    "outputId": "94725c4a-e931-42fe-f3ce-b61ecc29c103"
   },
   "outputs": [
    {
     "data": {
      "text/plain": [
       "male      577\n",
       "female    314\n",
       "Name: Sex, dtype: int64"
      ]
     },
     "execution_count": 24,
     "metadata": {},
     "output_type": "execute_result"
    }
   ],
   "source": [
    "train.Sex.value_counts(dropna = False)"
   ]
  },
  {
   "cell_type": "code",
   "execution_count": 27,
   "metadata": {
    "ExecuteTime": {
     "end_time": "2024-03-29T12:48:56.188457Z",
     "start_time": "2024-03-29T12:48:56.123777Z"
    },
    "execution": {
     "iopub.execute_input": "2022-09-14T09:59:24.102639Z",
     "iopub.status.busy": "2022-09-14T09:59:24.102038Z",
     "iopub.status.idle": "2022-09-14T09:59:24.284635Z",
     "shell.execute_reply": "2022-09-14T09:59:24.283762Z",
     "shell.execute_reply.started": "2022-09-14T09:59:24.102593Z"
    },
    "executionInfo": {
     "elapsed": 45,
     "status": "ok",
     "timestamp": 1639566127447,
     "user": {
      "displayName": "Mesut Bilgin",
      "photoUrl": "https://lh3.googleusercontent.com/a/default-user=s64",
      "userId": "17511617768644180086"
     },
     "user_tz": -180
    },
    "id": "r6ZGfu7AROTZ",
    "outputId": "f57fe87f-5ca2-44d7-d4f8-0530922a09d1"
   },
   "outputs": [
    {
     "data": {
      "image/png": "[encoded data removed]",
      "text/plain": [
       "<Figure size 640x480 with 1 Axes>"
      ]
     },
     "metadata": {},
     "output_type": "display_data"
    }
   ],
   "source": [
    "# 'train' isimli DataFrame'in 'Sex' sütunu kategorik veri içeriyor.\n",
    "sb.countplot(data=train, x='Sex', palette=\"viridis\")\n",
    "plt.title(\"Sex Feature\")\n",
    "plt.show()"
   ]
  },
  {
   "cell_type": "code",
   "execution_count": 28,
   "metadata": {
    "ExecuteTime": {
     "end_time": "2024-03-29T12:49:34.863200Z",
     "start_time": "2024-03-29T12:49:34.785022Z"
    },
    "execution": {
     "iopub.execute_input": "2022-09-14T09:59:24.286642Z",
     "iopub.status.busy": "2022-09-14T09:59:24.286174Z",
     "iopub.status.idle": "2022-09-14T09:59:24.486417Z",
     "shell.execute_reply": "2022-09-14T09:59:24.485576Z",
     "shell.execute_reply.started": "2022-09-14T09:59:24.286608Z"
    },
    "executionInfo": {
     "elapsed": 397,
     "status": "ok",
     "timestamp": 1639566127801,
     "user": {
      "displayName": "Mesut Bilgin",
      "photoUrl": "https://lh3.googleusercontent.com/a/default-user=s64",
      "userId": "17511617768644180086"
     },
     "user_tz": -180
    },
    "id": "tQzo-DUFiFt5",
    "outputId": "302f8594-8282-4fad-f2a8-4fa973fbf350"
   },
   "outputs": [
    {
     "data": {
      "image/png": "[encoded data removed]",
      "text/plain": [
       "<Figure size 640x480 with 1 Axes>"
      ]
     },
     "metadata": {},
     "output_type": "display_data"
    }
   ],
   "source": [
    "# 'train' DataFrame'inin 'Sex' sütunu için bir countplot çizin,\n",
    "# ve 'Survived' sütunuyla hue (renk tonu) parametresini kullanın.\n",
    "sb.countplot(data=train, x='Sex', hue='Survived', palette=\"viridis\")\n",
    "plt.title(\"Sex vs Survived\")\n",
    "plt.show()"
   ]
  },
  {
   "cell_type": "markdown",
   "metadata": {
    "id": "wo_NF2zIWzXj"
   },
   "source": [
    "## Age Feature"
   ]
  },
  {
   "cell_type": "code",
   "execution_count": 29,
   "metadata": {
    "ExecuteTime": {
     "end_time": "2024-03-29T12:49:41.610007Z",
     "start_time": "2024-03-29T12:49:41.588341Z"
    },
    "execution": {
     "iopub.execute_input": "2022-09-14T09:59:24.488082Z",
     "iopub.status.busy": "2022-09-14T09:59:24.487834Z",
     "iopub.status.idle": "2022-09-14T09:59:24.496576Z",
     "shell.execute_reply": "2022-09-14T09:59:24.495586Z",
     "shell.execute_reply.started": "2022-09-14T09:59:24.488052Z"
    },
    "executionInfo": {
     "elapsed": 19,
     "status": "ok",
     "timestamp": 1639566127803,
     "user": {
      "displayName": "Mesut Bilgin",
      "photoUrl": "https://lh3.googleusercontent.com/a/default-user=s64",
      "userId": "17511617768644180086"
     },
     "user_tz": -180
    },
    "id": "FD3ZBdkdWRp8",
    "outputId": "575d638b-2fba-4787-dee0-125cacd3a660"
   },
   "outputs": [
    {
     "data": {
      "text/plain": [
       "NaN      177\n",
       "24.00     30\n",
       "22.00     27\n",
       "18.00     26\n",
       "28.00     25\n",
       "        ... \n",
       "36.50      1\n",
       "55.50      1\n",
       "0.92       1\n",
       "23.50      1\n",
       "74.00      1\n",
       "Name: Age, Length: 89, dtype: int64"
      ]
     },
     "execution_count": 29,
     "metadata": {},
     "output_type": "execute_result"
    }
   ],
   "source": [
    "train.Age.value_counts(dropna = False)"
   ]
  },
  {
   "cell_type": "code",
   "execution_count": 30,
   "metadata": {
    "ExecuteTime": {
     "end_time": "2024-03-29T12:49:42.198316Z",
     "start_time": "2024-03-29T12:49:42.188322Z"
    },
    "execution": {
     "iopub.execute_input": "2022-09-14T09:59:24.498715Z",
     "iopub.status.busy": "2022-09-14T09:59:24.498149Z",
     "iopub.status.idle": "2022-09-14T09:59:24.507378Z",
     "shell.execute_reply": "2022-09-14T09:59:24.506520Z",
     "shell.execute_reply.started": "2022-09-14T09:59:24.498673Z"
    },
    "executionInfo": {
     "elapsed": 18,
     "status": "ok",
     "timestamp": 1639566127804,
     "user": {
      "displayName": "Mesut Bilgin",
      "photoUrl": "https://lh3.googleusercontent.com/a/default-user=s64",
      "userId": "17511617768644180086"
     },
     "user_tz": -180
    },
    "id": "mkR6x8zFW6XS"
   },
   "outputs": [],
   "source": [
    "age = train.Age.value_counts().iloc[:10]"
   ]
  },
  {
   "cell_type": "code",
   "execution_count": 31,
   "metadata": {
    "ExecuteTime": {
     "end_time": "2024-03-29T12:49:42.680680Z",
     "start_time": "2024-03-29T12:49:42.668169Z"
    },
    "execution": {
     "iopub.execute_input": "2022-09-14T09:59:24.510876Z",
     "iopub.status.busy": "2022-09-14T09:59:24.510318Z",
     "iopub.status.idle": "2022-09-14T09:59:24.521085Z",
     "shell.execute_reply": "2022-09-14T09:59:24.520477Z",
     "shell.execute_reply.started": "2022-09-14T09:59:24.510841Z"
    },
    "executionInfo": {
     "elapsed": 18,
     "status": "ok",
     "timestamp": 1639566127805,
     "user": {
      "displayName": "Mesut Bilgin",
      "photoUrl": "https://lh3.googleusercontent.com/a/default-user=s64",
      "userId": "17511617768644180086"
     },
     "user_tz": -180
    },
    "id": "voqUmtCsX-Q_",
    "outputId": "fc15ad70-3a91-4d51-e6c5-fc2a14739a9f"
   },
   "outputs": [
    {
     "data": {
      "text/plain": [
       "24.0    30\n",
       "22.0    27\n",
       "18.0    26\n",
       "19.0    25\n",
       "28.0    25\n",
       "30.0    25\n",
       "21.0    24\n",
       "25.0    23\n",
       "36.0    22\n",
       "29.0    20\n",
       "Name: Age, dtype: int64"
      ]
     },
     "execution_count": 31,
     "metadata": {},
     "output_type": "execute_result"
    }
   ],
   "source": [
    "age"
   ]
  },
  {
   "cell_type": "code",
   "execution_count": 32,
   "metadata": {
    "ExecuteTime": {
     "end_time": "2024-03-29T12:49:43.275000Z",
     "start_time": "2024-03-29T12:49:43.178396Z"
    },
    "execution": {
     "iopub.execute_input": "2022-09-14T09:59:24.522665Z",
     "iopub.status.busy": "2022-09-14T09:59:24.522240Z",
     "iopub.status.idle": "2022-09-14T09:59:24.771649Z",
     "shell.execute_reply": "2022-09-14T09:59:24.770956Z",
     "shell.execute_reply.started": "2022-09-14T09:59:24.522585Z"
    },
    "executionInfo": {
     "elapsed": 18,
     "status": "ok",
     "timestamp": 1639566127806,
     "user": {
      "displayName": "Mesut Bilgin",
      "photoUrl": "https://lh3.googleusercontent.com/a/default-user=s64",
      "userId": "17511617768644180086"
     },
     "user_tz": -180
    },
    "id": "Oa2ctB33WRnm",
    "outputId": "134e3b89-c1d4-4337-8e0c-9467f242b052"
   },
   "outputs": [
    {
     "data": {
      "image/png": "[encoded data removed]",
      "text/plain": [
       "<Figure size 640x480 with 1 Axes>"
      ]
     },
     "metadata": {},
     "output_type": "display_data"
    }
   ],
   "source": [
    "sb.barplot(x = age.index, y= age, palette= \"viridis\")\n",
    "plt.title(\"Most common 10-age- values\")\n",
    "plt.show()"
   ]
  },
  {
   "cell_type": "markdown",
   "metadata": {
    "id": "wr0LIBDAZhRU"
   },
   "source": [
    "## SibSp Feature"
   ]
  },
  {
   "cell_type": "code",
   "execution_count": 33,
   "metadata": {
    "ExecuteTime": {
     "end_time": "2024-03-29T12:49:44.474515Z",
     "start_time": "2024-03-29T12:49:44.467852Z"
    },
    "execution": {
     "iopub.execute_input": "2022-09-14T09:59:24.773250Z",
     "iopub.status.busy": "2022-09-14T09:59:24.772864Z",
     "iopub.status.idle": "2022-09-14T09:59:24.780611Z",
     "shell.execute_reply": "2022-09-14T09:59:24.779596Z",
     "shell.execute_reply.started": "2022-09-14T09:59:24.773209Z"
    },
    "executionInfo": {
     "elapsed": 17,
     "status": "ok",
     "timestamp": 1639566127807,
     "user": {
      "displayName": "Mesut Bilgin",
      "photoUrl": "https://lh3.googleusercontent.com/a/default-user=s64",
      "userId": "17511617768644180086"
     },
     "user_tz": -180
    },
    "id": "qSGLzh-rWRlM",
    "outputId": "0f256b60-7bfc-470f-c159-5073798cad59"
   },
   "outputs": [
    {
     "data": {
      "text/plain": [
       "0    608\n",
       "1    209\n",
       "2     28\n",
       "4     18\n",
       "3     16\n",
       "8      7\n",
       "5      5\n",
       "Name: SibSp, dtype: int64"
      ]
     },
     "execution_count": 33,
     "metadata": {},
     "output_type": "execute_result"
    }
   ],
   "source": [
    "train.SibSp.value_counts()"
   ]
  },
  {
   "cell_type": "code",
   "execution_count": 34,
   "metadata": {
    "ExecuteTime": {
     "end_time": "2024-03-29T12:49:45.097695Z",
     "start_time": "2024-03-29T12:49:45.033047Z"
    },
    "execution": {
     "iopub.execute_input": "2022-09-14T09:59:24.782816Z",
     "iopub.status.busy": "2022-09-14T09:59:24.781975Z",
     "iopub.status.idle": "2022-09-14T09:59:25.001359Z",
     "shell.execute_reply": "2022-09-14T09:59:25.000319Z",
     "shell.execute_reply.started": "2022-09-14T09:59:24.782768Z"
    },
    "executionInfo": {
     "elapsed": 445,
     "status": "ok",
     "timestamp": 1639566128237,
     "user": {
      "displayName": "Mesut Bilgin",
      "photoUrl": "https://lh3.googleusercontent.com/a/default-user=s64",
      "userId": "17511617768644180086"
     },
     "user_tz": -180
    },
    "id": "19o103QYWRir",
    "outputId": "5f96a325-d515-4666-b6b6-5f6af97d358c"
   },
   "outputs": [
    {
     "data": {
      "image/png": "[encoded data removed]",
      "text/plain": [
       "<Figure size 640x480 with 1 Axes>"
      ]
     },
     "metadata": {},
     "output_type": "display_data"
    }
   ],
   "source": [
    "sb.countplot(train.SibSp, palette = \"viridis\")\n",
    "plt.title(\"SibSp Feature\")\n",
    "plt.show()"
   ]
  },
  {
   "cell_type": "code",
   "execution_count": 36,
   "metadata": {
    "ExecuteTime": {
     "end_time": "2024-03-29T12:50:16.946336Z",
     "start_time": "2024-03-29T12:50:16.845169Z"
    },
    "execution": {
     "iopub.execute_input": "2022-09-14T09:59:25.002858Z",
     "iopub.status.busy": "2022-09-14T09:59:25.002621Z",
     "iopub.status.idle": "2022-09-14T09:59:25.271590Z",
     "shell.execute_reply": "2022-09-14T09:59:25.270955Z",
     "shell.execute_reply.started": "2022-09-14T09:59:25.002830Z"
    },
    "executionInfo": {
     "elapsed": 357,
     "status": "ok",
     "timestamp": 1639566128577,
     "user": {
      "displayName": "Mesut Bilgin",
      "photoUrl": "https://lh3.googleusercontent.com/a/default-user=s64",
      "userId": "17511617768644180086"
     },
     "user_tz": -180
    },
    "id": "e_34PP0Ahq3c",
    "outputId": "a0804887-62e5-41d9-d867-22207e6a6b4a"
   },
   "outputs": [
    {
     "data": {
      "image/png": "[encoded data removed]",
      "text/plain": [
       "<Figure size 640x480 with 1 Axes>"
      ]
     },
     "metadata": {},
     "output_type": "display_data"
    }
   ],
   "source": [
    "# 'train' DataFrame'inin 'SibSp' sütunu için bir countplot çizin,\n",
    "# ve 'Survived' sütunuyla hue (renk tonu) parametresini kullanın.\n",
    "sb.countplot(data=train, x='SibSp', hue='Survived', palette=\"viridis\")\n",
    "plt.title(\"SibSp Feature vs Survived\")\n",
    "plt.show()"
   ]
  },
  {
   "cell_type": "markdown",
   "metadata": {
    "id": "D4agbJmdaB3E"
   },
   "source": [
    "## Parch Feaure"
   ]
  },
  {
   "cell_type": "code",
   "execution_count": 37,
   "metadata": {
    "ExecuteTime": {
     "end_time": "2024-03-29T12:50:20.416750Z",
     "start_time": "2024-03-29T12:50:20.407048Z"
    },
    "execution": {
     "iopub.execute_input": "2022-09-14T09:59:25.273586Z",
     "iopub.status.busy": "2022-09-14T09:59:25.273058Z",
     "iopub.status.idle": "2022-09-14T09:59:25.281223Z",
     "shell.execute_reply": "2022-09-14T09:59:25.280633Z",
     "shell.execute_reply.started": "2022-09-14T09:59:25.273539Z"
    },
    "executionInfo": {
     "elapsed": 21,
     "status": "ok",
     "timestamp": 1639566128578,
     "user": {
      "displayName": "Mesut Bilgin",
      "photoUrl": "https://lh3.googleusercontent.com/a/default-user=s64",
      "userId": "17511617768644180086"
     },
     "user_tz": -180
    },
    "id": "G5KPbD7_WRgD",
    "outputId": "da80e886-2687-471d-c471-1fe2ad5d7d87"
   },
   "outputs": [
    {
     "data": {
      "text/plain": [
       "0    678\n",
       "1    118\n",
       "2     80\n",
       "5      5\n",
       "3      5\n",
       "4      4\n",
       "6      1\n",
       "Name: Parch, dtype: int64"
      ]
     },
     "execution_count": 37,
     "metadata": {},
     "output_type": "execute_result"
    }
   ],
   "source": [
    "train.Parch.value_counts(dropna = False )"
   ]
  },
  {
   "cell_type": "code",
   "execution_count": 38,
   "metadata": {
    "ExecuteTime": {
     "end_time": "2024-03-29T12:50:20.945650Z",
     "start_time": "2024-03-29T12:50:20.896900Z"
    },
    "execution": {
     "iopub.execute_input": "2022-09-14T09:59:25.282652Z",
     "iopub.status.busy": "2022-09-14T09:59:25.282397Z",
     "iopub.status.idle": "2022-09-14T09:59:25.508598Z",
     "shell.execute_reply": "2022-09-14T09:59:25.507467Z",
     "shell.execute_reply.started": "2022-09-14T09:59:25.282620Z"
    },
    "executionInfo": {
     "elapsed": 21,
     "status": "ok",
     "timestamp": 1639566128579,
     "user": {
      "displayName": "Mesut Bilgin",
      "photoUrl": "https://lh3.googleusercontent.com/a/default-user=s64",
      "userId": "17511617768644180086"
     },
     "user_tz": -180
    },
    "id": "FFnJWsOdWRdb",
    "outputId": "c0020180-4da1-4866-c464-151c33d6391a"
   },
   "outputs": [
    {
     "data": {
      "image/png": "[encoded data removed]",
      "text/plain": [
       "<Figure size 640x480 with 1 Axes>"
      ]
     },
     "metadata": {},
     "output_type": "display_data"
    }
   ],
   "source": [
    "sb.countplot(train.Parch, palette = \"viridis\")\n",
    "plt.title(\"Parch Feature\")\n",
    "plt.show()"
   ]
  },
  {
   "cell_type": "code",
   "execution_count": 40,
   "metadata": {
    "ExecuteTime": {
     "end_time": "2024-03-29T12:50:54.258105Z",
     "start_time": "2024-03-29T12:50:54.167781Z"
    },
    "execution": {
     "iopub.execute_input": "2022-09-14T09:59:25.510416Z",
     "iopub.status.busy": "2022-09-14T09:59:25.510097Z",
     "iopub.status.idle": "2022-09-14T09:59:25.767217Z",
     "shell.execute_reply": "2022-09-14T09:59:25.766524Z",
     "shell.execute_reply.started": "2022-09-14T09:59:25.510367Z"
    },
    "executionInfo": {
     "elapsed": 21,
     "status": "ok",
     "timestamp": 1639566128581,
     "user": {
      "displayName": "Mesut Bilgin",
      "photoUrl": "https://lh3.googleusercontent.com/a/default-user=s64",
      "userId": "17511617768644180086"
     },
     "user_tz": -180
    },
    "id": "XeuLTBQDhRFQ",
    "outputId": "d08c0631-a303-4101-a998-87add33f50e3"
   },
   "outputs": [
    {
     "data": {
      "image/png": "[encoded data removed]",
      "text/plain": [
       "<Figure size 640x480 with 1 Axes>"
      ]
     },
     "metadata": {},
     "output_type": "display_data"
    }
   ],
   "source": [
    "# 'train' DataFrame'inin 'Parch' sütunu için bir countplot çizin,\n",
    "# ve 'Survived' sütunuyla hue (renk tonu) parametresini kullanın.\n",
    "sb.countplot(data=train, x='Parch', hue='Survived', palette=\"viridis\")\n",
    "plt.title(\"Parch Feature vs Survived\")\n",
    "plt.show()"
   ]
  },
  {
   "cell_type": "markdown",
   "metadata": {
    "id": "nC3-VHo_ayc2"
   },
   "source": [
    "## Ticket Feaure"
   ]
  },
  {
   "cell_type": "code",
   "execution_count": 41,
   "metadata": {
    "ExecuteTime": {
     "end_time": "2024-03-29T12:50:56.995912Z",
     "start_time": "2024-03-29T12:50:56.977490Z"
    },
    "execution": {
     "iopub.execute_input": "2022-09-14T09:59:25.768998Z",
     "iopub.status.busy": "2022-09-14T09:59:25.768556Z",
     "iopub.status.idle": "2022-09-14T09:59:25.777684Z",
     "shell.execute_reply": "2022-09-14T09:59:25.776521Z",
     "shell.execute_reply.started": "2022-09-14T09:59:25.768964Z"
    },
    "executionInfo": {
     "elapsed": 20,
     "status": "ok",
     "timestamp": 1639566128582,
     "user": {
      "displayName": "Mesut Bilgin",
      "photoUrl": "https://lh3.googleusercontent.com/a/default-user=s64",
      "userId": "17511617768644180086"
     },
     "user_tz": -180
    },
    "id": "AhxEkWOYWRSj",
    "outputId": "b5337649-ba5e-47e4-f671-3b7046d4f110"
   },
   "outputs": [
    {
     "data": {
      "text/plain": [
       "347082      7\n",
       "CA. 2343    7\n",
       "1601        7\n",
       "3101295     6\n",
       "CA 2144     6\n",
       "           ..\n",
       "9234        1\n",
       "19988       1\n",
       "2693        1\n",
       "PC 17612    1\n",
       "370376      1\n",
       "Name: Ticket, Length: 681, dtype: int64"
      ]
     },
     "execution_count": 41,
     "metadata": {},
     "output_type": "execute_result"
    }
   ],
   "source": [
    "train.Ticket.value_counts(dropna = False)"
   ]
  },
  {
   "cell_type": "code",
   "execution_count": 42,
   "metadata": {
    "ExecuteTime": {
     "end_time": "2024-03-29T12:50:57.388149Z",
     "start_time": "2024-03-29T12:50:57.368616Z"
    },
    "execution": {
     "iopub.execute_input": "2022-09-14T09:59:25.779622Z",
     "iopub.status.busy": "2022-09-14T09:59:25.779134Z",
     "iopub.status.idle": "2022-09-14T09:59:25.802171Z",
     "shell.execute_reply": "2022-09-14T09:59:25.801148Z",
     "shell.execute_reply.started": "2022-09-14T09:59:25.779586Z"
    },
    "executionInfo": {
     "elapsed": 393,
     "status": "ok",
     "timestamp": 1639566128955,
     "user": {
      "displayName": "Mesut Bilgin",
      "photoUrl": "https://lh3.googleusercontent.com/a/default-user=s64",
      "userId": "17511617768644180086"
     },
     "user_tz": -180
    },
    "id": "n0yVjRV_bB53",
    "outputId": "d5d97e88-2e9b-4d62-e8ab-f6d4d0ed2d51"
   },
   "outputs": [
    {
     "data": {
      "text/html": [
       "<div>\n",
       "<style scoped>\n",
       "    .dataframe tbody tr th:only-of-type {\n",
       "        vertical-align: middle;\n",
       "    }\n",
       "\n",
       "    .dataframe tbody tr th {\n",
       "        vertical-align: top;\n",
       "    }\n",
       "\n",
       "    .dataframe thead th {\n",
       "        text-align: right;\n",
       "    }\n",
       "</style>\n",
       "<table border=\"1\" class=\"dataframe\">\n",
       "  <thead>\n",
       "    <tr style=\"text-align: right;\">\n",
       "      <th></th>\n",
       "      <th>PassengerId</th>\n",
       "      <th>Survived</th>\n",
       "      <th>Pclass</th>\n",
       "      <th>Name</th>\n",
       "      <th>Sex</th>\n",
       "      <th>Age</th>\n",
       "      <th>SibSp</th>\n",
       "      <th>Parch</th>\n",
       "      <th>Ticket</th>\n",
       "      <th>Fare</th>\n",
       "      <th>Cabin</th>\n",
       "      <th>Embarked</th>\n",
       "    </tr>\n",
       "  </thead>\n",
       "  <tbody>\n",
       "    <tr>\n",
       "      <th>13</th>\n",
       "      <td>14</td>\n",
       "      <td>0</td>\n",
       "      <td>3</td>\n",
       "      <td>Andersson, Mr. Anders Johan</td>\n",
       "      <td>male</td>\n",
       "      <td>39.0</td>\n",
       "      <td>1</td>\n",
       "      <td>5</td>\n",
       "      <td>347082</td>\n",
       "      <td>31.275</td>\n",
       "      <td>NaN</td>\n",
       "      <td>S</td>\n",
       "    </tr>\n",
       "    <tr>\n",
       "      <th>119</th>\n",
       "      <td>120</td>\n",
       "      <td>0</td>\n",
       "      <td>3</td>\n",
       "      <td>Andersson, Miss. Ellis Anna Maria</td>\n",
       "      <td>female</td>\n",
       "      <td>2.0</td>\n",
       "      <td>4</td>\n",
       "      <td>2</td>\n",
       "      <td>347082</td>\n",
       "      <td>31.275</td>\n",
       "      <td>NaN</td>\n",
       "      <td>S</td>\n",
       "    </tr>\n",
       "    <tr>\n",
       "      <th>541</th>\n",
       "      <td>542</td>\n",
       "      <td>0</td>\n",
       "      <td>3</td>\n",
       "      <td>Andersson, Miss. Ingeborg Constanzia</td>\n",
       "      <td>female</td>\n",
       "      <td>9.0</td>\n",
       "      <td>4</td>\n",
       "      <td>2</td>\n",
       "      <td>347082</td>\n",
       "      <td>31.275</td>\n",
       "      <td>NaN</td>\n",
       "      <td>S</td>\n",
       "    </tr>\n",
       "    <tr>\n",
       "      <th>542</th>\n",
       "      <td>543</td>\n",
       "      <td>0</td>\n",
       "      <td>3</td>\n",
       "      <td>Andersson, Miss. Sigrid Elisabeth</td>\n",
       "      <td>female</td>\n",
       "      <td>11.0</td>\n",
       "      <td>4</td>\n",
       "      <td>2</td>\n",
       "      <td>347082</td>\n",
       "      <td>31.275</td>\n",
       "      <td>NaN</td>\n",
       "      <td>S</td>\n",
       "    </tr>\n",
       "    <tr>\n",
       "      <th>610</th>\n",
       "      <td>611</td>\n",
       "      <td>0</td>\n",
       "      <td>3</td>\n",
       "      <td>Andersson, Mrs. Anders Johan (Alfrida Konstant...</td>\n",
       "      <td>female</td>\n",
       "      <td>39.0</td>\n",
       "      <td>1</td>\n",
       "      <td>5</td>\n",
       "      <td>347082</td>\n",
       "      <td>31.275</td>\n",
       "      <td>NaN</td>\n",
       "      <td>S</td>\n",
       "    </tr>\n",
       "    <tr>\n",
       "      <th>813</th>\n",
       "      <td>814</td>\n",
       "      <td>0</td>\n",
       "      <td>3</td>\n",
       "      <td>Andersson, Miss. Ebba Iris Alfrida</td>\n",
       "      <td>female</td>\n",
       "      <td>6.0</td>\n",
       "      <td>4</td>\n",
       "      <td>2</td>\n",
       "      <td>347082</td>\n",
       "      <td>31.275</td>\n",
       "      <td>NaN</td>\n",
       "      <td>S</td>\n",
       "    </tr>\n",
       "    <tr>\n",
       "      <th>850</th>\n",
       "      <td>851</td>\n",
       "      <td>0</td>\n",
       "      <td>3</td>\n",
       "      <td>Andersson, Master. Sigvard Harald Elias</td>\n",
       "      <td>male</td>\n",
       "      <td>4.0</td>\n",
       "      <td>4</td>\n",
       "      <td>2</td>\n",
       "      <td>347082</td>\n",
       "      <td>31.275</td>\n",
       "      <td>NaN</td>\n",
       "      <td>S</td>\n",
       "    </tr>\n",
       "  </tbody>\n",
       "</table>\n",
       "</div>"
      ],
      "text/plain": [
       "     PassengerId  Survived  Pclass  \\\n",
       "13            14         0       3   \n",
       "119          120         0       3   \n",
       "541          542         0       3   \n",
       "542          543         0       3   \n",
       "610          611         0       3   \n",
       "813          814         0       3   \n",
       "850          851         0       3   \n",
       "\n",
       "                                                  Name     Sex   Age  SibSp  \\\n",
       "13                         Andersson, Mr. Anders Johan    male  39.0      1   \n",
       "119                  Andersson, Miss. Ellis Anna Maria  female   2.0      4   \n",
       "541               Andersson, Miss. Ingeborg Constanzia  female   9.0      4   \n",
       "542                  Andersson, Miss. Sigrid Elisabeth  female  11.0      4   \n",
       "610  Andersson, Mrs. Anders Johan (Alfrida Konstant...  female  39.0      1   \n",
       "813                 Andersson, Miss. Ebba Iris Alfrida  female   6.0      4   \n",
       "850            Andersson, Master. Sigvard Harald Elias    male   4.0      4   \n",
       "\n",
       "     Parch  Ticket    Fare Cabin Embarked  \n",
       "13       5  347082  31.275   NaN        S  \n",
       "119      2  347082  31.275   NaN        S  \n",
       "541      2  347082  31.275   NaN        S  \n",
       "542      2  347082  31.275   NaN        S  \n",
       "610      5  347082  31.275   NaN        S  \n",
       "813      2  347082  31.275   NaN        S  \n",
       "850      2  347082  31.275   NaN        S  "
      ]
     },
     "execution_count": 42,
     "metadata": {},
     "output_type": "execute_result"
    }
   ],
   "source": [
    "train[train.Ticket == \"347082\"]"
   ]
  },
  {
   "cell_type": "code",
   "execution_count": 43,
   "metadata": {
    "ExecuteTime": {
     "end_time": "2024-03-29T12:50:57.872946Z",
     "start_time": "2024-03-29T12:50:57.864683Z"
    },
    "execution": {
     "iopub.execute_input": "2022-09-14T09:59:25.803689Z",
     "iopub.status.busy": "2022-09-14T09:59:25.803401Z",
     "iopub.status.idle": "2022-09-14T09:59:25.823407Z",
     "shell.execute_reply": "2022-09-14T09:59:25.822422Z",
     "shell.execute_reply.started": "2022-09-14T09:59:25.803659Z"
    },
    "executionInfo": {
     "elapsed": 23,
     "status": "ok",
     "timestamp": 1639566128963,
     "user": {
      "displayName": "Mesut Bilgin",
      "photoUrl": "https://lh3.googleusercontent.com/a/default-user=s64",
      "userId": "17511617768644180086"
     },
     "user_tz": -180
    },
    "id": "y6QdRSUkbB3e",
    "outputId": "5c57b4bb-6084-4475-e30a-993f80fc8d2d"
   },
   "outputs": [
    {
     "data": {
      "text/html": [
       "<div>\n",
       "<style scoped>\n",
       "    .dataframe tbody tr th:only-of-type {\n",
       "        vertical-align: middle;\n",
       "    }\n",
       "\n",
       "    .dataframe tbody tr th {\n",
       "        vertical-align: top;\n",
       "    }\n",
       "\n",
       "    .dataframe thead th {\n",
       "        text-align: right;\n",
       "    }\n",
       "</style>\n",
       "<table border=\"1\" class=\"dataframe\">\n",
       "  <thead>\n",
       "    <tr style=\"text-align: right;\">\n",
       "      <th></th>\n",
       "      <th>PassengerId</th>\n",
       "      <th>Survived</th>\n",
       "      <th>Pclass</th>\n",
       "      <th>Name</th>\n",
       "      <th>Sex</th>\n",
       "      <th>Age</th>\n",
       "      <th>SibSp</th>\n",
       "      <th>Parch</th>\n",
       "      <th>Ticket</th>\n",
       "      <th>Fare</th>\n",
       "      <th>Cabin</th>\n",
       "      <th>Embarked</th>\n",
       "    </tr>\n",
       "  </thead>\n",
       "  <tbody>\n",
       "    <tr>\n",
       "      <th>159</th>\n",
       "      <td>160</td>\n",
       "      <td>0</td>\n",
       "      <td>3</td>\n",
       "      <td>Sage, Master. Thomas Henry</td>\n",
       "      <td>male</td>\n",
       "      <td>NaN</td>\n",
       "      <td>8</td>\n",
       "      <td>2</td>\n",
       "      <td>CA. 2343</td>\n",
       "      <td>69.55</td>\n",
       "      <td>NaN</td>\n",
       "      <td>S</td>\n",
       "    </tr>\n",
       "    <tr>\n",
       "      <th>180</th>\n",
       "      <td>181</td>\n",
       "      <td>0</td>\n",
       "      <td>3</td>\n",
       "      <td>Sage, Miss. Constance Gladys</td>\n",
       "      <td>female</td>\n",
       "      <td>NaN</td>\n",
       "      <td>8</td>\n",
       "      <td>2</td>\n",
       "      <td>CA. 2343</td>\n",
       "      <td>69.55</td>\n",
       "      <td>NaN</td>\n",
       "      <td>S</td>\n",
       "    </tr>\n",
       "    <tr>\n",
       "      <th>201</th>\n",
       "      <td>202</td>\n",
       "      <td>0</td>\n",
       "      <td>3</td>\n",
       "      <td>Sage, Mr. Frederick</td>\n",
       "      <td>male</td>\n",
       "      <td>NaN</td>\n",
       "      <td>8</td>\n",
       "      <td>2</td>\n",
       "      <td>CA. 2343</td>\n",
       "      <td>69.55</td>\n",
       "      <td>NaN</td>\n",
       "      <td>S</td>\n",
       "    </tr>\n",
       "    <tr>\n",
       "      <th>324</th>\n",
       "      <td>325</td>\n",
       "      <td>0</td>\n",
       "      <td>3</td>\n",
       "      <td>Sage, Mr. George John Jr</td>\n",
       "      <td>male</td>\n",
       "      <td>NaN</td>\n",
       "      <td>8</td>\n",
       "      <td>2</td>\n",
       "      <td>CA. 2343</td>\n",
       "      <td>69.55</td>\n",
       "      <td>NaN</td>\n",
       "      <td>S</td>\n",
       "    </tr>\n",
       "    <tr>\n",
       "      <th>792</th>\n",
       "      <td>793</td>\n",
       "      <td>0</td>\n",
       "      <td>3</td>\n",
       "      <td>Sage, Miss. Stella Anna</td>\n",
       "      <td>female</td>\n",
       "      <td>NaN</td>\n",
       "      <td>8</td>\n",
       "      <td>2</td>\n",
       "      <td>CA. 2343</td>\n",
       "      <td>69.55</td>\n",
       "      <td>NaN</td>\n",
       "      <td>S</td>\n",
       "    </tr>\n",
       "    <tr>\n",
       "      <th>846</th>\n",
       "      <td>847</td>\n",
       "      <td>0</td>\n",
       "      <td>3</td>\n",
       "      <td>Sage, Mr. Douglas Bullen</td>\n",
       "      <td>male</td>\n",
       "      <td>NaN</td>\n",
       "      <td>8</td>\n",
       "      <td>2</td>\n",
       "      <td>CA. 2343</td>\n",
       "      <td>69.55</td>\n",
       "      <td>NaN</td>\n",
       "      <td>S</td>\n",
       "    </tr>\n",
       "    <tr>\n",
       "      <th>863</th>\n",
       "      <td>864</td>\n",
       "      <td>0</td>\n",
       "      <td>3</td>\n",
       "      <td>Sage, Miss. Dorothy Edith \"Dolly\"</td>\n",
       "      <td>female</td>\n",
       "      <td>NaN</td>\n",
       "      <td>8</td>\n",
       "      <td>2</td>\n",
       "      <td>CA. 2343</td>\n",
       "      <td>69.55</td>\n",
       "      <td>NaN</td>\n",
       "      <td>S</td>\n",
       "    </tr>\n",
       "  </tbody>\n",
       "</table>\n",
       "</div>"
      ],
      "text/plain": [
       "     PassengerId  Survived  Pclass                               Name     Sex  \\\n",
       "159          160         0       3         Sage, Master. Thomas Henry    male   \n",
       "180          181         0       3       Sage, Miss. Constance Gladys  female   \n",
       "201          202         0       3                Sage, Mr. Frederick    male   \n",
       "324          325         0       3           Sage, Mr. George John Jr    male   \n",
       "792          793         0       3            Sage, Miss. Stella Anna  female   \n",
       "846          847         0       3           Sage, Mr. Douglas Bullen    male   \n",
       "863          864         0       3  Sage, Miss. Dorothy Edith \"Dolly\"  female   \n",
       "\n",
       "     Age  SibSp  Parch    Ticket   Fare Cabin Embarked  \n",
       "159  NaN      8      2  CA. 2343  69.55   NaN        S  \n",
       "180  NaN      8      2  CA. 2343  69.55   NaN        S  \n",
       "201  NaN      8      2  CA. 2343  69.55   NaN        S  \n",
       "324  NaN      8      2  CA. 2343  69.55   NaN        S  \n",
       "792  NaN      8      2  CA. 2343  69.55   NaN        S  \n",
       "846  NaN      8      2  CA. 2343  69.55   NaN        S  \n",
       "863  NaN      8      2  CA. 2343  69.55   NaN        S  "
      ]
     },
     "execution_count": 43,
     "metadata": {},
     "output_type": "execute_result"
    }
   ],
   "source": [
    "train[train.Ticket == \"CA. 2343\"]"
   ]
  },
  {
   "cell_type": "code",
   "execution_count": 44,
   "metadata": {
    "ExecuteTime": {
     "end_time": "2024-03-29T12:50:58.648384Z",
     "start_time": "2024-03-29T12:50:58.636386Z"
    },
    "execution": {
     "iopub.execute_input": "2022-09-14T09:59:25.825495Z",
     "iopub.status.busy": "2022-09-14T09:59:25.824986Z",
     "iopub.status.idle": "2022-09-14T09:59:25.848169Z",
     "shell.execute_reply": "2022-09-14T09:59:25.847238Z",
     "shell.execute_reply.started": "2022-09-14T09:59:25.825427Z"
    },
    "executionInfo": {
     "elapsed": 24,
     "status": "ok",
     "timestamp": 1639566128966,
     "user": {
      "displayName": "Mesut Bilgin",
      "photoUrl": "https://lh3.googleusercontent.com/a/default-user=s64",
      "userId": "17511617768644180086"
     },
     "user_tz": -180
    },
    "id": "CrcnaoIgbB03",
    "outputId": "5e2cf4a2-c344-418e-a628-9049eabba2da"
   },
   "outputs": [
    {
     "data": {
      "text/html": [
       "<div>\n",
       "<style scoped>\n",
       "    .dataframe tbody tr th:only-of-type {\n",
       "        vertical-align: middle;\n",
       "    }\n",
       "\n",
       "    .dataframe tbody tr th {\n",
       "        vertical-align: top;\n",
       "    }\n",
       "\n",
       "    .dataframe thead th {\n",
       "        text-align: right;\n",
       "    }\n",
       "</style>\n",
       "<table border=\"1\" class=\"dataframe\">\n",
       "  <thead>\n",
       "    <tr style=\"text-align: right;\">\n",
       "      <th></th>\n",
       "      <th>PassengerId</th>\n",
       "      <th>Survived</th>\n",
       "      <th>Pclass</th>\n",
       "      <th>Name</th>\n",
       "      <th>Sex</th>\n",
       "      <th>Age</th>\n",
       "      <th>SibSp</th>\n",
       "      <th>Parch</th>\n",
       "      <th>Ticket</th>\n",
       "      <th>Fare</th>\n",
       "      <th>Cabin</th>\n",
       "      <th>Embarked</th>\n",
       "    </tr>\n",
       "  </thead>\n",
       "  <tbody>\n",
       "    <tr>\n",
       "      <th>74</th>\n",
       "      <td>75</td>\n",
       "      <td>1</td>\n",
       "      <td>3</td>\n",
       "      <td>Bing, Mr. Lee</td>\n",
       "      <td>male</td>\n",
       "      <td>32.0</td>\n",
       "      <td>0</td>\n",
       "      <td>0</td>\n",
       "      <td>1601</td>\n",
       "      <td>56.4958</td>\n",
       "      <td>NaN</td>\n",
       "      <td>S</td>\n",
       "    </tr>\n",
       "    <tr>\n",
       "      <th>169</th>\n",
       "      <td>170</td>\n",
       "      <td>0</td>\n",
       "      <td>3</td>\n",
       "      <td>Ling, Mr. Lee</td>\n",
       "      <td>male</td>\n",
       "      <td>28.0</td>\n",
       "      <td>0</td>\n",
       "      <td>0</td>\n",
       "      <td>1601</td>\n",
       "      <td>56.4958</td>\n",
       "      <td>NaN</td>\n",
       "      <td>S</td>\n",
       "    </tr>\n",
       "    <tr>\n",
       "      <th>509</th>\n",
       "      <td>510</td>\n",
       "      <td>1</td>\n",
       "      <td>3</td>\n",
       "      <td>Lang, Mr. Fang</td>\n",
       "      <td>male</td>\n",
       "      <td>26.0</td>\n",
       "      <td>0</td>\n",
       "      <td>0</td>\n",
       "      <td>1601</td>\n",
       "      <td>56.4958</td>\n",
       "      <td>NaN</td>\n",
       "      <td>S</td>\n",
       "    </tr>\n",
       "    <tr>\n",
       "      <th>643</th>\n",
       "      <td>644</td>\n",
       "      <td>1</td>\n",
       "      <td>3</td>\n",
       "      <td>Foo, Mr. Choong</td>\n",
       "      <td>male</td>\n",
       "      <td>NaN</td>\n",
       "      <td>0</td>\n",
       "      <td>0</td>\n",
       "      <td>1601</td>\n",
       "      <td>56.4958</td>\n",
       "      <td>NaN</td>\n",
       "      <td>S</td>\n",
       "    </tr>\n",
       "    <tr>\n",
       "      <th>692</th>\n",
       "      <td>693</td>\n",
       "      <td>1</td>\n",
       "      <td>3</td>\n",
       "      <td>Lam, Mr. Ali</td>\n",
       "      <td>male</td>\n",
       "      <td>NaN</td>\n",
       "      <td>0</td>\n",
       "      <td>0</td>\n",
       "      <td>1601</td>\n",
       "      <td>56.4958</td>\n",
       "      <td>NaN</td>\n",
       "      <td>S</td>\n",
       "    </tr>\n",
       "    <tr>\n",
       "      <th>826</th>\n",
       "      <td>827</td>\n",
       "      <td>0</td>\n",
       "      <td>3</td>\n",
       "      <td>Lam, Mr. Len</td>\n",
       "      <td>male</td>\n",
       "      <td>NaN</td>\n",
       "      <td>0</td>\n",
       "      <td>0</td>\n",
       "      <td>1601</td>\n",
       "      <td>56.4958</td>\n",
       "      <td>NaN</td>\n",
       "      <td>S</td>\n",
       "    </tr>\n",
       "    <tr>\n",
       "      <th>838</th>\n",
       "      <td>839</td>\n",
       "      <td>1</td>\n",
       "      <td>3</td>\n",
       "      <td>Chip, Mr. Chang</td>\n",
       "      <td>male</td>\n",
       "      <td>32.0</td>\n",
       "      <td>0</td>\n",
       "      <td>0</td>\n",
       "      <td>1601</td>\n",
       "      <td>56.4958</td>\n",
       "      <td>NaN</td>\n",
       "      <td>S</td>\n",
       "    </tr>\n",
       "  </tbody>\n",
       "</table>\n",
       "</div>"
      ],
      "text/plain": [
       "     PassengerId  Survived  Pclass             Name   Sex   Age  SibSp  Parch  \\\n",
       "74            75         1       3    Bing, Mr. Lee  male  32.0      0      0   \n",
       "169          170         0       3    Ling, Mr. Lee  male  28.0      0      0   \n",
       "509          510         1       3   Lang, Mr. Fang  male  26.0      0      0   \n",
       "643          644         1       3  Foo, Mr. Choong  male   NaN      0      0   \n",
       "692          693         1       3     Lam, Mr. Ali  male   NaN      0      0   \n",
       "826          827         0       3     Lam, Mr. Len  male   NaN      0      0   \n",
       "838          839         1       3  Chip, Mr. Chang  male  32.0      0      0   \n",
       "\n",
       "    Ticket     Fare Cabin Embarked  \n",
       "74    1601  56.4958   NaN        S  \n",
       "169   1601  56.4958   NaN        S  \n",
       "509   1601  56.4958   NaN        S  \n",
       "643   1601  56.4958   NaN        S  \n",
       "692   1601  56.4958   NaN        S  \n",
       "826   1601  56.4958   NaN        S  \n",
       "838   1601  56.4958   NaN        S  "
      ]
     },
     "execution_count": 44,
     "metadata": {},
     "output_type": "execute_result"
    }
   ],
   "source": [
    "train[train.Ticket == \"1601\"]"
   ]
  },
  {
   "cell_type": "markdown",
   "metadata": {
    "id": "RJfgArm3cK2I"
   },
   "source": [
    "## Fare Faeture"
   ]
  },
  {
   "cell_type": "code",
   "execution_count": 45,
   "metadata": {
    "ExecuteTime": {
     "end_time": "2024-03-29T12:50:59.944390Z",
     "start_time": "2024-03-29T12:50:59.925577Z"
    },
    "execution": {
     "iopub.execute_input": "2022-09-14T09:59:25.850364Z",
     "iopub.status.busy": "2022-09-14T09:59:25.849590Z",
     "iopub.status.idle": "2022-09-14T09:59:25.866211Z",
     "shell.execute_reply": "2022-09-14T09:59:25.865295Z",
     "shell.execute_reply.started": "2022-09-14T09:59:25.850315Z"
    },
    "executionInfo": {
     "elapsed": 26,
     "status": "ok",
     "timestamp": 1639566128970,
     "user": {
      "displayName": "Mesut Bilgin",
      "photoUrl": "https://lh3.googleusercontent.com/a/default-user=s64",
      "userId": "17511617768644180086"
     },
     "user_tz": -180
    },
    "id": "tyt86RTHbBoo",
    "outputId": "22d38f92-0ece-401e-876b-34e76f6c9dfe"
   },
   "outputs": [
    {
     "data": {
      "text/plain": [
       "8.0500     43\n",
       "13.0000    42\n",
       "7.8958     38\n",
       "7.7500     34\n",
       "26.0000    31\n",
       "           ..\n",
       "35.0000     1\n",
       "28.5000     1\n",
       "6.2375      1\n",
       "14.0000     1\n",
       "10.5167     1\n",
       "Name: Fare, Length: 248, dtype: int64"
      ]
     },
     "execution_count": 45,
     "metadata": {},
     "output_type": "execute_result"
    }
   ],
   "source": [
    "train.Fare.value_counts(dropna = False)"
   ]
  },
  {
   "cell_type": "code",
   "execution_count": 46,
   "metadata": {
    "ExecuteTime": {
     "end_time": "2024-03-29T12:51:00.571081Z",
     "start_time": "2024-03-29T12:51:00.421601Z"
    },
    "execution": {
     "iopub.execute_input": "2022-09-14T09:59:25.868607Z",
     "iopub.status.busy": "2022-09-14T09:59:25.868026Z",
     "iopub.status.idle": "2022-09-14T09:59:26.208666Z",
     "shell.execute_reply": "2022-09-14T09:59:26.207783Z",
     "shell.execute_reply.started": "2022-09-14T09:59:25.868560Z"
    },
    "executionInfo": {
     "elapsed": 425,
     "status": "ok",
     "timestamp": 1639566129370,
     "user": {
      "displayName": "Mesut Bilgin",
      "photoUrl": "https://lh3.googleusercontent.com/a/default-user=s64",
      "userId": "17511617768644180086"
     },
     "user_tz": -180
    },
    "id": "q2m_dv5Pc7JD",
    "outputId": "b7028ce9-026d-4e3b-aa27-cbba1858a417"
   },
   "outputs": [
    {
     "data": {
      "text/plain": [
       "<AxesSubplot:xlabel='Pclass', ylabel='Fare'>"
      ]
     },
     "execution_count": 46,
     "metadata": {},
     "output_type": "execute_result"
    },
    {
     "data": {
      "image/png": "[encoded data removed]",
      "text/plain": [
       "<Figure size 640x480 with 1 Axes>"
      ]
     },
     "metadata": {},
     "output_type": "display_data"
    }
   ],
   "source": [
    "sb.scatterplot(x = train.Pclass, y = train.Fare, hue = train.Survived )"
   ]
  },
  {
   "cell_type": "markdown",
   "metadata": {
    "id": "-ZU1jMqVgKDX"
   },
   "source": [
    "## Embarked Feature"
   ]
  },
  {
   "cell_type": "code",
   "execution_count": 47,
   "metadata": {
    "ExecuteTime": {
     "end_time": "2024-03-29T12:51:01.749965Z",
     "start_time": "2024-03-29T12:51:01.742578Z"
    },
    "execution": {
     "iopub.execute_input": "2022-09-14T09:59:26.210789Z",
     "iopub.status.busy": "2022-09-14T09:59:26.210255Z",
     "iopub.status.idle": "2022-09-14T09:59:26.219231Z",
     "shell.execute_reply": "2022-09-14T09:59:26.218232Z",
     "shell.execute_reply.started": "2022-09-14T09:59:26.210741Z"
    },
    "executionInfo": {
     "elapsed": 29,
     "status": "ok",
     "timestamp": 1639566129372,
     "user": {
      "displayName": "Mesut Bilgin",
      "photoUrl": "https://lh3.googleusercontent.com/a/default-user=s64",
      "userId": "17511617768644180086"
     },
     "user_tz": -180
    },
    "id": "wTHRHPbCc7HB",
    "outputId": "958c4baa-da94-474f-f775-9965745f6da6"
   },
   "outputs": [
    {
     "data": {
      "text/plain": [
       "S      644\n",
       "C      168\n",
       "Q       77\n",
       "NaN      2\n",
       "Name: Embarked, dtype: int64"
      ]
     },
     "execution_count": 47,
     "metadata": {},
     "output_type": "execute_result"
    }
   ],
   "source": [
    "train.Embarked.value_counts(dropna = False)"
   ]
  },
  {
   "cell_type": "code",
   "execution_count": 49,
   "metadata": {
    "ExecuteTime": {
     "end_time": "2024-03-29T12:51:35.692982Z",
     "start_time": "2024-03-29T12:51:35.612350Z"
    },
    "execution": {
     "iopub.execute_input": "2022-09-14T09:59:26.221235Z",
     "iopub.status.busy": "2022-09-14T09:59:26.220648Z",
     "iopub.status.idle": "2022-09-14T09:59:26.398624Z",
     "shell.execute_reply": "2022-09-14T09:59:26.397994Z",
     "shell.execute_reply.started": "2022-09-14T09:59:26.221198Z"
    },
    "executionInfo": {
     "elapsed": 29,
     "status": "ok",
     "timestamp": 1639566129374,
     "user": {
      "displayName": "Mesut Bilgin",
      "photoUrl": "https://lh3.googleusercontent.com/a/default-user=s64",
      "userId": "17511617768644180086"
     },
     "user_tz": -180
    },
    "id": "js_PI7Evc7Eu",
    "outputId": "f02b5a22-62a6-4340-f6fd-7d66757c2056"
   },
   "outputs": [
    {
     "data": {
      "image/png": "[encoded data removed]",
      "text/plain": [
       "<Figure size 640x480 with 1 Axes>"
      ]
     },
     "metadata": {},
     "output_type": "display_data"
    }
   ],
   "source": [
    "# 'train' DataFrame'inin 'Embarked' sütunu için bir countplot çizin,\n",
    "# ve 'Survived' sütunuyla hue (renk tonu) parametresini kullanın.\n",
    "sb.countplot(data=train, x='Embarked', hue='Survived', palette=\"viridis\")\n",
    "plt.title(\"Embarked vs Survived\")\n",
    "plt.show()"
   ]
  },
  {
   "cell_type": "code",
   "execution_count": 52,
   "metadata": {
    "ExecuteTime": {
     "end_time": "2024-03-29T13:20:21.189278Z",
     "start_time": "2024-03-29T13:20:21.098083Z"
    },
    "execution": {
     "iopub.execute_input": "2022-09-14T09:59:26.401195Z",
     "iopub.status.busy": "2022-09-14T09:59:26.400089Z",
     "iopub.status.idle": "2022-09-14T09:59:26.750064Z",
     "shell.execute_reply": "2022-09-14T09:59:26.749005Z",
     "shell.execute_reply.started": "2022-09-14T09:59:26.401145Z"
    },
    "executionInfo": {
     "elapsed": 331,
     "status": "ok",
     "timestamp": 1639566129682,
     "user": {
      "displayName": "Mesut Bilgin",
      "photoUrl": "https://lh3.googleusercontent.com/a/default-user=s64",
      "userId": "17511617768644180086"
     },
     "user_tz": -180
    },
    "id": "oczmEqmGc7CJ",
    "outputId": "8b9a0286-f267-44d3-a2e5-ba543b7293b1"
   },
   "outputs": [
    {
     "data": {
      "image/png": "[encoded data removed]",
      "text/plain": [
       "<Figure size 640x480 with 1 Axes>"
      ]
     },
     "metadata": {},
     "output_type": "display_data"
    }
   ],
   "source": [
    "# 'train' DataFrame'inin 'Embarked' sütunu için bir countplot çizin,\n",
    "# ve 'Pclass' sütunuyla hue (renk tonu) parametresini kullanın.\n",
    "sb.countplot(data=train, x='Embarked', hue='Pclass', palette=\"viridis\")\n",
    "plt.title(\"Embarked vs Pclass\")\n",
    "plt.show()"
   ]
  },
  {
   "cell_type": "markdown",
   "metadata": {
    "id": "Y3eSbTFMwJod"
   },
   "source": []
  },
  {
   "cell_type": "markdown",
   "metadata": {
    "id": "pzdnEfNBwOG8"
   },
   "source": [
    "# Feature Enginering"
   ]
  },
  {
   "cell_type": "code",
   "execution_count": 53,
   "metadata": {
    "ExecuteTime": {
     "end_time": "2024-03-29T13:20:24.191720Z",
     "start_time": "2024-03-29T13:20:24.174724Z"
    },
    "execution": {
     "iopub.execute_input": "2022-09-14T09:59:26.751796Z",
     "iopub.status.busy": "2022-09-14T09:59:26.751271Z",
     "iopub.status.idle": "2022-09-14T09:59:26.761819Z",
     "shell.execute_reply": "2022-09-14T09:59:26.760823Z",
     "shell.execute_reply.started": "2022-09-14T09:59:26.751759Z"
    },
    "executionInfo": {
     "elapsed": 8,
     "status": "ok",
     "timestamp": 1639566130922,
     "user": {
      "displayName": "Mesut Bilgin",
      "photoUrl": "https://lh3.googleusercontent.com/a/default-user=s64",
      "userId": "17511617768644180086"
     },
     "user_tz": -180
    },
    "id": "oqPtz2k9wXEv",
    "outputId": "68837949-cd5d-4e60-dac3-472d9f13ef35"
   },
   "outputs": [
    {
     "data": {
      "text/html": [
       "<div>\n",
       "<style scoped>\n",
       "    .dataframe tbody tr th:only-of-type {\n",
       "        vertical-align: middle;\n",
       "    }\n",
       "\n",
       "    .dataframe tbody tr th {\n",
       "        vertical-align: top;\n",
       "    }\n",
       "\n",
       "    .dataframe thead th {\n",
       "        text-align: right;\n",
       "    }\n",
       "</style>\n",
       "<table border=\"1\" class=\"dataframe\">\n",
       "  <thead>\n",
       "    <tr style=\"text-align: right;\">\n",
       "      <th></th>\n",
       "      <th>PassengerId</th>\n",
       "      <th>Survived</th>\n",
       "    </tr>\n",
       "  </thead>\n",
       "  <tbody>\n",
       "    <tr>\n",
       "      <th>0</th>\n",
       "      <td>892</td>\n",
       "      <td>0</td>\n",
       "    </tr>\n",
       "    <tr>\n",
       "      <th>1</th>\n",
       "      <td>893</td>\n",
       "      <td>1</td>\n",
       "    </tr>\n",
       "    <tr>\n",
       "      <th>2</th>\n",
       "      <td>894</td>\n",
       "      <td>0</td>\n",
       "    </tr>\n",
       "    <tr>\n",
       "      <th>3</th>\n",
       "      <td>895</td>\n",
       "      <td>0</td>\n",
       "    </tr>\n",
       "    <tr>\n",
       "      <th>4</th>\n",
       "      <td>896</td>\n",
       "      <td>1</td>\n",
       "    </tr>\n",
       "  </tbody>\n",
       "</table>\n",
       "</div>"
      ],
      "text/plain": [
       "   PassengerId  Survived\n",
       "0          892         0\n",
       "1          893         1\n",
       "2          894         0\n",
       "3          895         0\n",
       "4          896         1"
      ]
     },
     "execution_count": 53,
     "metadata": {},
     "output_type": "execute_result"
    }
   ],
   "source": [
    "df.head()"
   ]
  },
  {
   "cell_type": "code",
   "execution_count": 54,
   "metadata": {
    "ExecuteTime": {
     "end_time": "2024-03-29T13:20:24.689765Z",
     "start_time": "2024-03-29T13:20:24.668673Z"
    },
    "execution": {
     "iopub.execute_input": "2022-09-14T09:59:26.763771Z",
     "iopub.status.busy": "2022-09-14T09:59:26.763390Z",
     "iopub.status.idle": "2022-09-14T09:59:26.787114Z",
     "shell.execute_reply": "2022-09-14T09:59:26.786281Z",
     "shell.execute_reply.started": "2022-09-14T09:59:26.763737Z"
    },
    "executionInfo": {
     "elapsed": 13,
     "status": "ok",
     "timestamp": 1639566131266,
     "user": {
      "displayName": "Mesut Bilgin",
      "photoUrl": "https://lh3.googleusercontent.com/a/default-user=s64",
      "userId": "17511617768644180086"
     },
     "user_tz": -180
    },
    "id": "j1jkOr8nwe8D",
    "outputId": "e8651b59-5410-4c7e-dde6-d368b2b42f42"
   },
   "outputs": [
    {
     "data": {
      "text/html": [
       "<div>\n",
       "<style scoped>\n",
       "    .dataframe tbody tr th:only-of-type {\n",
       "        vertical-align: middle;\n",
       "    }\n",
       "\n",
       "    .dataframe tbody tr th {\n",
       "        vertical-align: top;\n",
       "    }\n",
       "\n",
       "    .dataframe thead th {\n",
       "        text-align: right;\n",
       "    }\n",
       "</style>\n",
       "<table border=\"1\" class=\"dataframe\">\n",
       "  <thead>\n",
       "    <tr style=\"text-align: right;\">\n",
       "      <th></th>\n",
       "      <th>PassengerId</th>\n",
       "      <th>Survived</th>\n",
       "      <th>Pclass</th>\n",
       "      <th>Name</th>\n",
       "      <th>Sex</th>\n",
       "      <th>Age</th>\n",
       "      <th>SibSp</th>\n",
       "      <th>Parch</th>\n",
       "      <th>Ticket</th>\n",
       "      <th>Fare</th>\n",
       "      <th>Cabin</th>\n",
       "      <th>Embarked</th>\n",
       "    </tr>\n",
       "  </thead>\n",
       "  <tbody>\n",
       "    <tr>\n",
       "      <th>0</th>\n",
       "      <td>1</td>\n",
       "      <td>0</td>\n",
       "      <td>3</td>\n",
       "      <td>Braund, Mr. Owen Harris</td>\n",
       "      <td>male</td>\n",
       "      <td>22.0</td>\n",
       "      <td>1</td>\n",
       "      <td>0</td>\n",
       "      <td>A/5 21171</td>\n",
       "      <td>7.2500</td>\n",
       "      <td>NaN</td>\n",
       "      <td>S</td>\n",
       "    </tr>\n",
       "    <tr>\n",
       "      <th>1</th>\n",
       "      <td>2</td>\n",
       "      <td>1</td>\n",
       "      <td>1</td>\n",
       "      <td>Cumings, Mrs. John Bradley (Florence Briggs Th...</td>\n",
       "      <td>female</td>\n",
       "      <td>38.0</td>\n",
       "      <td>1</td>\n",
       "      <td>0</td>\n",
       "      <td>PC 17599</td>\n",
       "      <td>71.2833</td>\n",
       "      <td>C85</td>\n",
       "      <td>C</td>\n",
       "    </tr>\n",
       "    <tr>\n",
       "      <th>2</th>\n",
       "      <td>3</td>\n",
       "      <td>1</td>\n",
       "      <td>3</td>\n",
       "      <td>Heikkinen, Miss. Laina</td>\n",
       "      <td>female</td>\n",
       "      <td>26.0</td>\n",
       "      <td>0</td>\n",
       "      <td>0</td>\n",
       "      <td>STON/O2. 3101282</td>\n",
       "      <td>7.9250</td>\n",
       "      <td>NaN</td>\n",
       "      <td>S</td>\n",
       "    </tr>\n",
       "    <tr>\n",
       "      <th>3</th>\n",
       "      <td>4</td>\n",
       "      <td>1</td>\n",
       "      <td>1</td>\n",
       "      <td>Futrelle, Mrs. Jacques Heath (Lily May Peel)</td>\n",
       "      <td>female</td>\n",
       "      <td>35.0</td>\n",
       "      <td>1</td>\n",
       "      <td>0</td>\n",
       "      <td>113803</td>\n",
       "      <td>53.1000</td>\n",
       "      <td>C123</td>\n",
       "      <td>S</td>\n",
       "    </tr>\n",
       "    <tr>\n",
       "      <th>4</th>\n",
       "      <td>5</td>\n",
       "      <td>0</td>\n",
       "      <td>3</td>\n",
       "      <td>Allen, Mr. William Henry</td>\n",
       "      <td>male</td>\n",
       "      <td>35.0</td>\n",
       "      <td>0</td>\n",
       "      <td>0</td>\n",
       "      <td>373450</td>\n",
       "      <td>8.0500</td>\n",
       "      <td>NaN</td>\n",
       "      <td>S</td>\n",
       "    </tr>\n",
       "  </tbody>\n",
       "</table>\n",
       "</div>"
      ],
      "text/plain": [
       "   PassengerId  Survived  Pclass  \\\n",
       "0            1         0       3   \n",
       "1            2         1       1   \n",
       "2            3         1       3   \n",
       "3            4         1       1   \n",
       "4            5         0       3   \n",
       "\n",
       "                                                Name     Sex   Age  SibSp  \\\n",
       "0                            Braund, Mr. Owen Harris    male  22.0      1   \n",
       "1  Cumings, Mrs. John Bradley (Florence Briggs Th...  female  38.0      1   \n",
       "2                             Heikkinen, Miss. Laina  female  26.0      0   \n",
       "3       Futrelle, Mrs. Jacques Heath (Lily May Peel)  female  35.0      1   \n",
       "4                           Allen, Mr. William Henry    male  35.0      0   \n",
       "\n",
       "   Parch            Ticket     Fare Cabin Embarked  \n",
       "0      0         A/5 21171   7.2500   NaN        S  \n",
       "1      0          PC 17599  71.2833   C85        C  \n",
       "2      0  STON/O2. 3101282   7.9250   NaN        S  \n",
       "3      0            113803  53.1000  C123        S  \n",
       "4      0            373450   8.0500   NaN        S  "
      ]
     },
     "execution_count": 54,
     "metadata": {},
     "output_type": "execute_result"
    }
   ],
   "source": [
    "train.head()"
   ]
  },
  {
   "cell_type": "code",
   "execution_count": 55,
   "metadata": {
    "ExecuteTime": {
     "end_time": "2024-03-29T13:20:25.187077Z",
     "start_time": "2024-03-29T13:20:25.148475Z"
    },
    "execution": {
     "iopub.execute_input": "2022-09-14T09:59:26.788772Z",
     "iopub.status.busy": "2022-09-14T09:59:26.788371Z",
     "iopub.status.idle": "2022-09-14T09:59:26.826700Z",
     "shell.execute_reply": "2022-09-14T09:59:26.825893Z",
     "shell.execute_reply.started": "2022-09-14T09:59:26.788741Z"
    },
    "executionInfo": {
     "elapsed": 13,
     "status": "ok",
     "timestamp": 1639566131268,
     "user": {
      "displayName": "Mesut Bilgin",
      "photoUrl": "https://lh3.googleusercontent.com/a/default-user=s64",
      "userId": "17511617768644180086"
     },
     "user_tz": -180
    },
    "id": "6vcD_uiOwe5i",
    "outputId": "4d9f8680-b8a9-4598-d5b4-47dd3d4c1ca5"
   },
   "outputs": [
    {
     "data": {
      "text/html": [
       "<div>\n",
       "<style scoped>\n",
       "    .dataframe tbody tr th:only-of-type {\n",
       "        vertical-align: middle;\n",
       "    }\n",
       "\n",
       "    .dataframe tbody tr th {\n",
       "        vertical-align: top;\n",
       "    }\n",
       "\n",
       "    .dataframe thead th {\n",
       "        text-align: right;\n",
       "    }\n",
       "</style>\n",
       "<table border=\"1\" class=\"dataframe\">\n",
       "  <thead>\n",
       "    <tr style=\"text-align: right;\">\n",
       "      <th>Cabin</th>\n",
       "      <th>A10</th>\n",
       "      <th>A14</th>\n",
       "      <th>A16</th>\n",
       "      <th>A19</th>\n",
       "      <th>A20</th>\n",
       "      <th>A23</th>\n",
       "      <th>A24</th>\n",
       "      <th>A26</th>\n",
       "      <th>A31</th>\n",
       "      <th>A32</th>\n",
       "      <th>...</th>\n",
       "      <th>E8</th>\n",
       "      <th>F E69</th>\n",
       "      <th>F G63</th>\n",
       "      <th>F G73</th>\n",
       "      <th>F2</th>\n",
       "      <th>F33</th>\n",
       "      <th>F38</th>\n",
       "      <th>F4</th>\n",
       "      <th>G6</th>\n",
       "      <th>T</th>\n",
       "    </tr>\n",
       "    <tr>\n",
       "      <th>Survived</th>\n",
       "      <th></th>\n",
       "      <th></th>\n",
       "      <th></th>\n",
       "      <th></th>\n",
       "      <th></th>\n",
       "      <th></th>\n",
       "      <th></th>\n",
       "      <th></th>\n",
       "      <th></th>\n",
       "      <th></th>\n",
       "      <th></th>\n",
       "      <th></th>\n",
       "      <th></th>\n",
       "      <th></th>\n",
       "      <th></th>\n",
       "      <th></th>\n",
       "      <th></th>\n",
       "      <th></th>\n",
       "      <th></th>\n",
       "      <th></th>\n",
       "      <th></th>\n",
       "    </tr>\n",
       "  </thead>\n",
       "  <tbody>\n",
       "    <tr>\n",
       "      <th>0</th>\n",
       "      <td>1</td>\n",
       "      <td>1</td>\n",
       "      <td>0</td>\n",
       "      <td>1</td>\n",
       "      <td>0</td>\n",
       "      <td>0</td>\n",
       "      <td>1</td>\n",
       "      <td>0</td>\n",
       "      <td>0</td>\n",
       "      <td>1</td>\n",
       "      <td>...</td>\n",
       "      <td>0</td>\n",
       "      <td>0</td>\n",
       "      <td>1</td>\n",
       "      <td>2</td>\n",
       "      <td>1</td>\n",
       "      <td>0</td>\n",
       "      <td>1</td>\n",
       "      <td>0</td>\n",
       "      <td>2</td>\n",
       "      <td>1</td>\n",
       "    </tr>\n",
       "    <tr>\n",
       "      <th>1</th>\n",
       "      <td>0</td>\n",
       "      <td>0</td>\n",
       "      <td>1</td>\n",
       "      <td>0</td>\n",
       "      <td>1</td>\n",
       "      <td>1</td>\n",
       "      <td>0</td>\n",
       "      <td>1</td>\n",
       "      <td>1</td>\n",
       "      <td>0</td>\n",
       "      <td>...</td>\n",
       "      <td>2</td>\n",
       "      <td>1</td>\n",
       "      <td>0</td>\n",
       "      <td>0</td>\n",
       "      <td>2</td>\n",
       "      <td>3</td>\n",
       "      <td>0</td>\n",
       "      <td>2</td>\n",
       "      <td>2</td>\n",
       "      <td>0</td>\n",
       "    </tr>\n",
       "  </tbody>\n",
       "</table>\n",
       "<p>2 rows × 147 columns</p>\n",
       "</div>"
      ],
      "text/plain": [
       "Cabin     A10  A14  A16  A19  A20  A23  A24  A26  A31  A32  ...  E8  F E69  \\\n",
       "Survived                                                    ...              \n",
       "0           1    1    0    1    0    0    1    0    0    1  ...   0      0   \n",
       "1           0    0    1    0    1    1    0    1    1    0  ...   2      1   \n",
       "\n",
       "Cabin     F G63  F G73  F2  F33  F38  F4  G6  T  \n",
       "Survived                                         \n",
       "0             1      2   1    0    1   0   2  1  \n",
       "1             0      0   2    3    0   2   2  0  \n",
       "\n",
       "[2 rows x 147 columns]"
      ]
     },
     "execution_count": 55,
     "metadata": {},
     "output_type": "execute_result"
    }
   ],
   "source": [
    "pd.crosstab(train.Cabin, train.Survived).T"
   ]
  },
  {
   "cell_type": "code",
   "execution_count": 56,
   "metadata": {
    "ExecuteTime": {
     "end_time": "2024-03-29T13:20:25.623244Z",
     "start_time": "2024-03-29T13:20:25.611226Z"
    },
    "execution": {
     "iopub.execute_input": "2022-09-14T09:59:26.828300Z",
     "iopub.status.busy": "2022-09-14T09:59:26.827708Z",
     "iopub.status.idle": "2022-09-14T09:59:26.836257Z",
     "shell.execute_reply": "2022-09-14T09:59:26.835534Z",
     "shell.execute_reply.started": "2022-09-14T09:59:26.828268Z"
    },
    "executionInfo": {
     "elapsed": 589,
     "status": "ok",
     "timestamp": 1639566131845,
     "user": {
      "displayName": "Mesut Bilgin",
      "photoUrl": "https://lh3.googleusercontent.com/a/default-user=s64",
      "userId": "17511617768644180086"
     },
     "user_tz": -180
    },
    "id": "-V52UOB_we3E",
    "outputId": "1348dc8e-42d4-4b30-ed55-42ffe8bcfcad"
   },
   "outputs": [
    {
     "data": {
      "text/plain": [
       "NaN            687\n",
       "C23 C25 C27      4\n",
       "G6               4\n",
       "B96 B98          4\n",
       "C22 C26          3\n",
       "              ... \n",
       "E34              1\n",
       "C7               1\n",
       "C54              1\n",
       "E36              1\n",
       "C148             1\n",
       "Name: Cabin, Length: 148, dtype: int64"
      ]
     },
     "execution_count": 56,
     "metadata": {},
     "output_type": "execute_result"
    }
   ],
   "source": [
    "train.Cabin.value_counts( dropna = False)"
   ]
  },
  {
   "cell_type": "code",
   "execution_count": 57,
   "metadata": {
    "ExecuteTime": {
     "end_time": "2024-03-29T13:20:26.136217Z",
     "start_time": "2024-03-29T13:20:26.131248Z"
    },
    "execution": {
     "iopub.execute_input": "2022-09-14T09:59:26.838085Z",
     "iopub.status.busy": "2022-09-14T09:59:26.837766Z",
     "iopub.status.idle": "2022-09-14T09:59:26.849605Z",
     "shell.execute_reply": "2022-09-14T09:59:26.848734Z",
     "shell.execute_reply.started": "2022-09-14T09:59:26.838052Z"
    },
    "executionInfo": {
     "elapsed": 44,
     "status": "ok",
     "timestamp": 1639566131847,
     "user": {
      "displayName": "Mesut Bilgin",
      "photoUrl": "https://lh3.googleusercontent.com/a/default-user=s64",
      "userId": "17511617768644180086"
     },
     "user_tz": -180
    },
    "id": "NlgG0k3eweyt",
    "outputId": "c3d3bcc6-f4d6-4ccc-a488-43ce7601a649"
   },
   "outputs": [
    {
     "data": {
      "text/plain": [
       "NaN      177\n",
       "24.00     30\n",
       "22.00     27\n",
       "18.00     26\n",
       "28.00     25\n",
       "        ... \n",
       "36.50      1\n",
       "55.50      1\n",
       "0.92       1\n",
       "23.50      1\n",
       "74.00      1\n",
       "Name: Age, Length: 89, dtype: int64"
      ]
     },
     "execution_count": 57,
     "metadata": {},
     "output_type": "execute_result"
    }
   ],
   "source": [
    "train.Age.value_counts(dropna = False)"
   ]
  },
  {
   "cell_type": "code",
   "execution_count": 58,
   "metadata": {
    "ExecuteTime": {
     "end_time": "2024-03-29T13:20:26.619249Z",
     "start_time": "2024-03-29T13:20:26.610209Z"
    },
    "execution": {
     "iopub.execute_input": "2022-09-14T09:59:26.850944Z",
     "iopub.status.busy": "2022-09-14T09:59:26.850725Z",
     "iopub.status.idle": "2022-09-14T09:59:26.864537Z",
     "shell.execute_reply": "2022-09-14T09:59:26.863548Z",
     "shell.execute_reply.started": "2022-09-14T09:59:26.850918Z"
    },
    "executionInfo": {
     "elapsed": 45,
     "status": "ok",
     "timestamp": 1639566131849,
     "user": {
      "displayName": "Mesut Bilgin",
      "photoUrl": "https://lh3.googleusercontent.com/a/default-user=s64",
      "userId": "17511617768644180086"
     },
     "user_tz": -180
    },
    "id": "Nci0OuCKweq8",
    "outputId": "428cdf7c-cc97-4c91-cd5c-6514d8acb1bf"
   },
   "outputs": [
    {
     "data": {
      "text/plain": [
       "Pclass\n",
       "1    37.0\n",
       "2    29.0\n",
       "3    24.0\n",
       "Name: Age, dtype: float64"
      ]
     },
     "execution_count": 58,
     "metadata": {},
     "output_type": "execute_result"
    }
   ],
   "source": [
    "train.Age.groupby([train.Pclass]).median()"
   ]
  },
  {
   "cell_type": "code",
   "execution_count": 59,
   "metadata": {
    "ExecuteTime": {
     "end_time": "2024-03-29T13:20:27.243567Z",
     "start_time": "2024-03-29T13:20:27.188940Z"
    },
    "execution": {
     "iopub.execute_input": "2022-09-14T09:59:26.866805Z",
     "iopub.status.busy": "2022-09-14T09:59:26.866279Z",
     "iopub.status.idle": "2022-09-14T09:59:26.973370Z",
     "shell.execute_reply": "2022-09-14T09:59:26.972531Z",
     "shell.execute_reply.started": "2022-09-14T09:59:26.866757Z"
    },
    "executionInfo": {
     "elapsed": 46,
     "status": "ok",
     "timestamp": 1639566131851,
     "user": {
      "displayName": "Mesut Bilgin",
      "photoUrl": "https://lh3.googleusercontent.com/a/default-user=s64",
      "userId": "17511617768644180086"
     },
     "user_tz": -180
    },
    "id": "_3dcXAgnoKS3",
    "outputId": "9af8b064-5616-46e8-8f8c-59b8746ee02f"
   },
   "outputs": [
    {
     "data": {
      "text/plain": [
       "24.00    166\n",
       "37.00     36\n",
       "29.00     31\n",
       "22.00     27\n",
       "18.00     26\n",
       "        ... \n",
       "36.50      1\n",
       "55.50      1\n",
       "0.92       1\n",
       "23.50      1\n",
       "74.00      1\n",
       "Name: Age, Length: 88, dtype: int64"
      ]
     },
     "execution_count": 59,
     "metadata": {},
     "output_type": "execute_result"
    }
   ],
   "source": [
    "for i in range(len(train.Age)):\n",
    "    if (train.Pclass[i] == 1) and (pd.isna(train.Age[i])):\n",
    "        train.Age[i] = 37\n",
    "    elif (train.Pclass[i] == 2) and (pd.isna(train.Age[i])): \n",
    "        train.Age[i] = 29\n",
    "    elif (train.Pclass[i] == 3) and (pd.isna(train.Age[i])):    \n",
    "        train.Age[i] = 24\n",
    "        \n",
    "train.Age.value_counts(dropna = False)      "
   ]
  },
  {
   "cell_type": "code",
   "execution_count": 60,
   "metadata": {
    "ExecuteTime": {
     "end_time": "2024-03-29T13:20:27.758027Z",
     "start_time": "2024-03-29T13:20:27.726494Z"
    },
    "execution": {
     "iopub.execute_input": "2022-09-14T09:59:26.975427Z",
     "iopub.status.busy": "2022-09-14T09:59:26.974949Z",
     "iopub.status.idle": "2022-09-14T09:59:27.035946Z",
     "shell.execute_reply": "2022-09-14T09:59:27.035032Z",
     "shell.execute_reply.started": "2022-09-14T09:59:26.975385Z"
    },
    "executionInfo": {
     "elapsed": 43,
     "status": "ok",
     "timestamp": 1639566131852,
     "user": {
      "displayName": "Mesut Bilgin",
      "photoUrl": "https://lh3.googleusercontent.com/a/default-user=s64",
      "userId": "17511617768644180086"
     },
     "user_tz": -180
    },
    "id": "k8lOpQYroKNg",
    "outputId": "8c146f30-cd7d-4ebb-a9f5-55752e40d7db"
   },
   "outputs": [
    {
     "data": {
      "text/plain": [
       "24.0    89\n",
       "21.0    17\n",
       "22.0    16\n",
       "29.0    15\n",
       "30.0    15\n",
       "        ..\n",
       "67.0     1\n",
       "28.5     1\n",
       "22.5     1\n",
       "62.0     1\n",
       "38.5     1\n",
       "Name: Age, Length: 79, dtype: int64"
      ]
     },
     "execution_count": 60,
     "metadata": {},
     "output_type": "execute_result"
    }
   ],
   "source": [
    "for i in range(len(test.Age)):\n",
    "    if (test.Pclass[i] == 1) and (pd.isna(test.Age[i])):\n",
    "        test.Age[i] = 37\n",
    "    elif (test.Pclass[i] == 2) and (pd.isna(test.Age[i])): \n",
    "        test.Age[i] = 29\n",
    "    elif (test.Pclass[i] == 3) and (pd.isna(test.Age[i])):    \n",
    "        test.Age[i] = 24\n",
    "        \n",
    "test.Age.value_counts(dropna = False)"
   ]
  },
  {
   "cell_type": "code",
   "execution_count": 62,
   "metadata": {
    "ExecuteTime": {
     "end_time": "2024-03-29T13:20:32.352583Z",
     "start_time": "2024-03-29T13:20:32.340433Z"
    },
    "execution": {
     "iopub.execute_input": "2022-09-14T09:59:27.038019Z",
     "iopub.status.busy": "2022-09-14T09:59:27.037525Z",
     "iopub.status.idle": "2022-09-14T09:59:27.057113Z",
     "shell.execute_reply": "2022-09-14T09:59:27.056138Z",
     "shell.execute_reply.started": "2022-09-14T09:59:27.037977Z"
    },
    "executionInfo": {
     "elapsed": 43,
     "status": "ok",
     "timestamp": 1639566131854,
     "user": {
      "displayName": "Mesut Bilgin",
      "photoUrl": "https://lh3.googleusercontent.com/a/default-user=s64",
      "userId": "17511617768644180086"
     },
     "user_tz": -180
    },
    "id": "5rU4ANQxoJ_v",
    "outputId": "9f835a2c-ea13-4ca1-ea3d-629f03fe8bf3"
   },
   "outputs": [
    {
     "data": {
      "text/html": [
       "<div>\n",
       "<style scoped>\n",
       "    .dataframe tbody tr th:only-of-type {\n",
       "        vertical-align: middle;\n",
       "    }\n",
       "\n",
       "    .dataframe tbody tr th {\n",
       "        vertical-align: top;\n",
       "    }\n",
       "\n",
       "    .dataframe thead th {\n",
       "        text-align: right;\n",
       "    }\n",
       "</style>\n",
       "<table border=\"1\" class=\"dataframe\">\n",
       "  <thead>\n",
       "    <tr style=\"text-align: right;\">\n",
       "      <th></th>\n",
       "      <th>PassengerId</th>\n",
       "      <th>Survived</th>\n",
       "      <th>Pclass</th>\n",
       "      <th>Name</th>\n",
       "      <th>Sex</th>\n",
       "      <th>Age</th>\n",
       "      <th>SibSp</th>\n",
       "      <th>Parch</th>\n",
       "      <th>Ticket</th>\n",
       "      <th>Fare</th>\n",
       "      <th>Cabin</th>\n",
       "      <th>Embarked</th>\n",
       "    </tr>\n",
       "  </thead>\n",
       "  <tbody>\n",
       "    <tr>\n",
       "      <th>0</th>\n",
       "      <td>1</td>\n",
       "      <td>0</td>\n",
       "      <td>3</td>\n",
       "      <td>Braund, Mr. Owen Harris</td>\n",
       "      <td>male</td>\n",
       "      <td>22.0</td>\n",
       "      <td>1</td>\n",
       "      <td>0</td>\n",
       "      <td>A/5 21171</td>\n",
       "      <td>7.2500</td>\n",
       "      <td>NaN</td>\n",
       "      <td>S</td>\n",
       "    </tr>\n",
       "    <tr>\n",
       "      <th>1</th>\n",
       "      <td>2</td>\n",
       "      <td>1</td>\n",
       "      <td>1</td>\n",
       "      <td>Cumings, Mrs. John Bradley (Florence Briggs Th...</td>\n",
       "      <td>female</td>\n",
       "      <td>38.0</td>\n",
       "      <td>1</td>\n",
       "      <td>0</td>\n",
       "      <td>PC 17599</td>\n",
       "      <td>71.2833</td>\n",
       "      <td>C85</td>\n",
       "      <td>C</td>\n",
       "    </tr>\n",
       "    <tr>\n",
       "      <th>2</th>\n",
       "      <td>3</td>\n",
       "      <td>1</td>\n",
       "      <td>3</td>\n",
       "      <td>Heikkinen, Miss. Laina</td>\n",
       "      <td>female</td>\n",
       "      <td>26.0</td>\n",
       "      <td>0</td>\n",
       "      <td>0</td>\n",
       "      <td>STON/O2. 3101282</td>\n",
       "      <td>7.9250</td>\n",
       "      <td>NaN</td>\n",
       "      <td>S</td>\n",
       "    </tr>\n",
       "    <tr>\n",
       "      <th>3</th>\n",
       "      <td>4</td>\n",
       "      <td>1</td>\n",
       "      <td>1</td>\n",
       "      <td>Futrelle, Mrs. Jacques Heath (Lily May Peel)</td>\n",
       "      <td>female</td>\n",
       "      <td>35.0</td>\n",
       "      <td>1</td>\n",
       "      <td>0</td>\n",
       "      <td>113803</td>\n",
       "      <td>53.1000</td>\n",
       "      <td>C123</td>\n",
       "      <td>S</td>\n",
       "    </tr>\n",
       "    <tr>\n",
       "      <th>4</th>\n",
       "      <td>5</td>\n",
       "      <td>0</td>\n",
       "      <td>3</td>\n",
       "      <td>Allen, Mr. William Henry</td>\n",
       "      <td>male</td>\n",
       "      <td>35.0</td>\n",
       "      <td>0</td>\n",
       "      <td>0</td>\n",
       "      <td>373450</td>\n",
       "      <td>8.0500</td>\n",
       "      <td>NaN</td>\n",
       "      <td>S</td>\n",
       "    </tr>\n",
       "  </tbody>\n",
       "</table>\n",
       "</div>"
      ],
      "text/plain": [
       "   PassengerId  Survived  Pclass  \\\n",
       "0            1         0       3   \n",
       "1            2         1       1   \n",
       "2            3         1       3   \n",
       "3            4         1       1   \n",
       "4            5         0       3   \n",
       "\n",
       "                                                Name     Sex   Age  SibSp  \\\n",
       "0                            Braund, Mr. Owen Harris    male  22.0      1   \n",
       "1  Cumings, Mrs. John Bradley (Florence Briggs Th...  female  38.0      1   \n",
       "2                             Heikkinen, Miss. Laina  female  26.0      0   \n",
       "3       Futrelle, Mrs. Jacques Heath (Lily May Peel)  female  35.0      1   \n",
       "4                           Allen, Mr. William Henry    male  35.0      0   \n",
       "\n",
       "   Parch            Ticket     Fare Cabin Embarked  \n",
       "0      0         A/5 21171   7.2500   NaN        S  \n",
       "1      0          PC 17599  71.2833   C85        C  \n",
       "2      0  STON/O2. 3101282   7.9250   NaN        S  \n",
       "3      0            113803  53.1000  C123        S  \n",
       "4      0            373450   8.0500   NaN        S  "
      ]
     },
     "execution_count": 62,
     "metadata": {},
     "output_type": "execute_result"
    }
   ],
   "source": [
    "train.head()"
   ]
  },
  {
   "cell_type": "code",
   "execution_count": 63,
   "metadata": {
    "ExecuteTime": {
     "end_time": "2024-03-29T13:20:32.881187Z",
     "start_time": "2024-03-29T13:20:32.858192Z"
    },
    "execution": {
     "iopub.execute_input": "2022-09-14T09:59:27.059230Z",
     "iopub.status.busy": "2022-09-14T09:59:27.058648Z",
     "iopub.status.idle": "2022-09-14T09:59:27.068849Z",
     "shell.execute_reply": "2022-09-14T09:59:27.068121Z",
     "shell.execute_reply.started": "2022-09-14T09:59:27.059185Z"
    },
    "executionInfo": {
     "elapsed": 42,
     "status": "ok",
     "timestamp": 1639566131855,
     "user": {
      "displayName": "Mesut Bilgin",
      "photoUrl": "https://lh3.googleusercontent.com/a/default-user=s64",
      "userId": "17511617768644180086"
     },
     "user_tz": -180
    },
    "id": "UI7Om9w9oJ9R",
    "outputId": "096fd415-d7b3-43b7-a37d-278724bd0962"
   },
   "outputs": [
    {
     "data": {
      "text/plain": [
       "Pclass  Embarked\n",
       "1       S           127\n",
       "        C            85\n",
       "        NaN           2\n",
       "        Q             2\n",
       "2       S           164\n",
       "        C            17\n",
       "        Q             3\n",
       "3       S           353\n",
       "        Q            72\n",
       "        C            66\n",
       "Name: Embarked, dtype: int64"
      ]
     },
     "execution_count": 63,
     "metadata": {},
     "output_type": "execute_result"
    }
   ],
   "source": [
    "train.Embarked.groupby(train.Pclass).value_counts(dropna = False)"
   ]
  },
  {
   "cell_type": "code",
   "execution_count": 64,
   "metadata": {
    "ExecuteTime": {
     "end_time": "2024-03-29T13:20:33.392261Z",
     "start_time": "2024-03-29T13:20:33.369243Z"
    },
    "execution": {
     "iopub.execute_input": "2022-09-14T09:59:27.075817Z",
     "iopub.status.busy": "2022-09-14T09:59:27.074776Z",
     "iopub.status.idle": "2022-09-14T09:59:27.092755Z",
     "shell.execute_reply": "2022-09-14T09:59:27.091767Z",
     "shell.execute_reply.started": "2022-09-14T09:59:27.075750Z"
    },
    "executionInfo": {
     "elapsed": 40,
     "status": "ok",
     "timestamp": 1639566131856,
     "user": {
      "displayName": "Mesut Bilgin",
      "photoUrl": "https://lh3.googleusercontent.com/a/default-user=s64",
      "userId": "17511617768644180086"
     },
     "user_tz": -180
    },
    "id": "syVSVoPRoJ6i",
    "outputId": "85da2392-beb9-4bf2-8738-4bce778145c7"
   },
   "outputs": [
    {
     "data": {
      "text/html": [
       "<div>\n",
       "<style scoped>\n",
       "    .dataframe tbody tr th:only-of-type {\n",
       "        vertical-align: middle;\n",
       "    }\n",
       "\n",
       "    .dataframe tbody tr th {\n",
       "        vertical-align: top;\n",
       "    }\n",
       "\n",
       "    .dataframe thead th {\n",
       "        text-align: right;\n",
       "    }\n",
       "</style>\n",
       "<table border=\"1\" class=\"dataframe\">\n",
       "  <thead>\n",
       "    <tr style=\"text-align: right;\">\n",
       "      <th></th>\n",
       "      <th>PassengerId</th>\n",
       "      <th>Survived</th>\n",
       "      <th>Pclass</th>\n",
       "      <th>Name</th>\n",
       "      <th>Sex</th>\n",
       "      <th>Age</th>\n",
       "      <th>SibSp</th>\n",
       "      <th>Parch</th>\n",
       "      <th>Ticket</th>\n",
       "      <th>Fare</th>\n",
       "      <th>Cabin</th>\n",
       "      <th>Embarked</th>\n",
       "    </tr>\n",
       "  </thead>\n",
       "  <tbody>\n",
       "    <tr>\n",
       "      <th>61</th>\n",
       "      <td>62</td>\n",
       "      <td>1</td>\n",
       "      <td>1</td>\n",
       "      <td>Icard, Miss. Amelie</td>\n",
       "      <td>female</td>\n",
       "      <td>38.0</td>\n",
       "      <td>0</td>\n",
       "      <td>0</td>\n",
       "      <td>113572</td>\n",
       "      <td>80.0</td>\n",
       "      <td>B28</td>\n",
       "      <td>NaN</td>\n",
       "    </tr>\n",
       "    <tr>\n",
       "      <th>829</th>\n",
       "      <td>830</td>\n",
       "      <td>1</td>\n",
       "      <td>1</td>\n",
       "      <td>Stone, Mrs. George Nelson (Martha Evelyn)</td>\n",
       "      <td>female</td>\n",
       "      <td>62.0</td>\n",
       "      <td>0</td>\n",
       "      <td>0</td>\n",
       "      <td>113572</td>\n",
       "      <td>80.0</td>\n",
       "      <td>B28</td>\n",
       "      <td>NaN</td>\n",
       "    </tr>\n",
       "  </tbody>\n",
       "</table>\n",
       "</div>"
      ],
      "text/plain": [
       "     PassengerId  Survived  Pclass                                       Name  \\\n",
       "61            62         1       1                        Icard, Miss. Amelie   \n",
       "829          830         1       1  Stone, Mrs. George Nelson (Martha Evelyn)   \n",
       "\n",
       "        Sex   Age  SibSp  Parch  Ticket  Fare Cabin Embarked  \n",
       "61   female  38.0      0      0  113572  80.0   B28      NaN  \n",
       "829  female  62.0      0      0  113572  80.0   B28      NaN  "
      ]
     },
     "execution_count": 64,
     "metadata": {},
     "output_type": "execute_result"
    }
   ],
   "source": [
    "train[pd.isna(train.Embarked)]"
   ]
  },
  {
   "cell_type": "code",
   "execution_count": 65,
   "metadata": {
    "ExecuteTime": {
     "end_time": "2024-03-29T13:20:33.907171Z",
     "start_time": "2024-03-29T13:20:33.901196Z"
    },
    "execution": {
     "iopub.execute_input": "2022-09-14T09:59:27.094796Z",
     "iopub.status.busy": "2022-09-14T09:59:27.094457Z",
     "iopub.status.idle": "2022-09-14T09:59:27.104211Z",
     "shell.execute_reply": "2022-09-14T09:59:27.103432Z",
     "shell.execute_reply.started": "2022-09-14T09:59:27.094754Z"
    },
    "executionInfo": {
     "elapsed": 39,
     "status": "ok",
     "timestamp": 1639566131857,
     "user": {
      "displayName": "Mesut Bilgin",
      "photoUrl": "https://lh3.googleusercontent.com/a/default-user=s64",
      "userId": "17511617768644180086"
     },
     "user_tz": -180
    },
    "id": "8KuByuA4oJ34"
   },
   "outputs": [],
   "source": [
    "train.Embarked.fillna(\"S\", inplace = True)"
   ]
  },
  {
   "cell_type": "code",
   "execution_count": 66,
   "metadata": {
    "ExecuteTime": {
     "end_time": "2024-03-29T13:20:34.453075Z",
     "start_time": "2024-03-29T13:20:34.439826Z"
    },
    "execution": {
     "iopub.execute_input": "2022-09-14T09:59:27.106633Z",
     "iopub.status.busy": "2022-09-14T09:59:27.106375Z",
     "iopub.status.idle": "2022-09-14T09:59:27.119548Z",
     "shell.execute_reply": "2022-09-14T09:59:27.118796Z",
     "shell.execute_reply.started": "2022-09-14T09:59:27.106604Z"
    },
    "executionInfo": {
     "elapsed": 38,
     "status": "ok",
     "timestamp": 1639566131857,
     "user": {
      "displayName": "Mesut Bilgin",
      "photoUrl": "https://lh3.googleusercontent.com/a/default-user=s64",
      "userId": "17511617768644180086"
     },
     "user_tz": -180
    },
    "id": "Oy0H88g5oJxJ",
    "outputId": "55431c20-fbee-4317-fdf7-0437261b805b"
   },
   "outputs": [
    {
     "data": {
      "text/plain": [
       "S    646\n",
       "C    168\n",
       "Q     77\n",
       "Name: Embarked, dtype: int64"
      ]
     },
     "execution_count": 66,
     "metadata": {},
     "output_type": "execute_result"
    }
   ],
   "source": [
    "train.Embarked.value_counts(dropna = False)"
   ]
  },
  {
   "cell_type": "code",
   "execution_count": 67,
   "metadata": {
    "ExecuteTime": {
     "end_time": "2024-03-29T13:20:34.995077Z",
     "start_time": "2024-03-29T13:20:34.973596Z"
    },
    "execution": {
     "iopub.execute_input": "2022-09-14T09:59:27.121552Z",
     "iopub.status.busy": "2022-09-14T09:59:27.120813Z",
     "iopub.status.idle": "2022-09-14T09:59:27.138708Z",
     "shell.execute_reply": "2022-09-14T09:59:27.137710Z",
     "shell.execute_reply.started": "2022-09-14T09:59:27.121507Z"
    },
    "executionInfo": {
     "elapsed": 38,
     "status": "ok",
     "timestamp": 1639566131858,
     "user": {
      "displayName": "Mesut Bilgin",
      "photoUrl": "https://lh3.googleusercontent.com/a/default-user=s64",
      "userId": "17511617768644180086"
     },
     "user_tz": -180
    },
    "id": "k-mMBsMEoUdE",
    "outputId": "f86791a6-a3a8-4542-df45-8a81fc638a02"
   },
   "outputs": [
    {
     "data": {
      "text/plain": [
       "PassengerId      0\n",
       "Pclass           0\n",
       "Name             0\n",
       "Sex              0\n",
       "Age              0\n",
       "SibSp            0\n",
       "Parch            0\n",
       "Ticket           0\n",
       "Fare             1\n",
       "Cabin          327\n",
       "Embarked         0\n",
       "dtype: int64"
      ]
     },
     "execution_count": 67,
     "metadata": {},
     "output_type": "execute_result"
    }
   ],
   "source": [
    "test.isna().sum()"
   ]
  },
  {
   "cell_type": "code",
   "execution_count": 68,
   "metadata": {
    "ExecuteTime": {
     "end_time": "2024-03-29T13:20:35.480620Z",
     "start_time": "2024-03-29T13:20:35.465742Z"
    },
    "execution": {
     "iopub.execute_input": "2022-09-14T09:59:27.140457Z",
     "iopub.status.busy": "2022-09-14T09:59:27.139852Z",
     "iopub.status.idle": "2022-09-14T09:59:27.159701Z",
     "shell.execute_reply": "2022-09-14T09:59:27.158751Z",
     "shell.execute_reply.started": "2022-09-14T09:59:27.140407Z"
    },
    "executionInfo": {
     "elapsed": 37,
     "status": "ok",
     "timestamp": 1639566131859,
     "user": {
      "displayName": "Mesut Bilgin",
      "photoUrl": "https://lh3.googleusercontent.com/a/default-user=s64",
      "userId": "17511617768644180086"
     },
     "user_tz": -180
    },
    "id": "0ED8x9W3ocrO",
    "outputId": "4050d5f5-29b8-49e5-d46e-b27e4664c3d0"
   },
   "outputs": [
    {
     "data": {
      "text/html": [
       "<div>\n",
       "<style scoped>\n",
       "    .dataframe tbody tr th:only-of-type {\n",
       "        vertical-align: middle;\n",
       "    }\n",
       "\n",
       "    .dataframe tbody tr th {\n",
       "        vertical-align: top;\n",
       "    }\n",
       "\n",
       "    .dataframe thead th {\n",
       "        text-align: right;\n",
       "    }\n",
       "</style>\n",
       "<table border=\"1\" class=\"dataframe\">\n",
       "  <thead>\n",
       "    <tr style=\"text-align: right;\">\n",
       "      <th></th>\n",
       "      <th>PassengerId</th>\n",
       "      <th>Pclass</th>\n",
       "      <th>Name</th>\n",
       "      <th>Sex</th>\n",
       "      <th>Age</th>\n",
       "      <th>SibSp</th>\n",
       "      <th>Parch</th>\n",
       "      <th>Ticket</th>\n",
       "      <th>Fare</th>\n",
       "      <th>Cabin</th>\n",
       "      <th>Embarked</th>\n",
       "    </tr>\n",
       "  </thead>\n",
       "  <tbody>\n",
       "    <tr>\n",
       "      <th>152</th>\n",
       "      <td>1044</td>\n",
       "      <td>3</td>\n",
       "      <td>Storey, Mr. Thomas</td>\n",
       "      <td>male</td>\n",
       "      <td>60.5</td>\n",
       "      <td>0</td>\n",
       "      <td>0</td>\n",
       "      <td>3701</td>\n",
       "      <td>NaN</td>\n",
       "      <td>NaN</td>\n",
       "      <td>S</td>\n",
       "    </tr>\n",
       "  </tbody>\n",
       "</table>\n",
       "</div>"
      ],
      "text/plain": [
       "     PassengerId  Pclass                Name   Sex   Age  SibSp  Parch Ticket  \\\n",
       "152         1044       3  Storey, Mr. Thomas  male  60.5      0      0   3701   \n",
       "\n",
       "     Fare Cabin Embarked  \n",
       "152   NaN   NaN        S  "
      ]
     },
     "execution_count": 68,
     "metadata": {},
     "output_type": "execute_result"
    }
   ],
   "source": [
    "test[pd.isna(test.Fare)]"
   ]
  },
  {
   "cell_type": "code",
   "execution_count": 69,
   "metadata": {
    "ExecuteTime": {
     "end_time": "2024-03-29T13:20:36.272891Z",
     "start_time": "2024-03-29T13:20:36.264891Z"
    },
    "execution": {
     "iopub.execute_input": "2022-09-14T09:59:27.161582Z",
     "iopub.status.busy": "2022-09-14T09:59:27.160957Z",
     "iopub.status.idle": "2022-09-14T09:59:27.167033Z",
     "shell.execute_reply": "2022-09-14T09:59:27.166207Z",
     "shell.execute_reply.started": "2022-09-14T09:59:27.161549Z"
    },
    "executionInfo": {
     "elapsed": 35,
     "status": "ok",
     "timestamp": 1639566131859,
     "user": {
      "displayName": "Mesut Bilgin",
      "photoUrl": "https://lh3.googleusercontent.com/a/default-user=s64",
      "userId": "17511617768644180086"
     },
     "user_tz": -180
    },
    "id": "YhqfGDjRoqV5"
   },
   "outputs": [],
   "source": [
    "test.Fare.fillna(test.Fare[test.Pclass == 3].median(), inplace = True)"
   ]
  },
  {
   "cell_type": "code",
   "execution_count": 70,
   "metadata": {
    "ExecuteTime": {
     "end_time": "2024-03-29T13:20:36.768669Z",
     "start_time": "2024-03-29T13:20:36.757928Z"
    },
    "execution": {
     "iopub.execute_input": "2022-09-14T09:59:27.168896Z",
     "iopub.status.busy": "2022-09-14T09:59:27.168291Z",
     "iopub.status.idle": "2022-09-14T09:59:27.184484Z",
     "shell.execute_reply": "2022-09-14T09:59:27.183909Z",
     "shell.execute_reply.started": "2022-09-14T09:59:27.168862Z"
    },
    "executionInfo": {
     "elapsed": 5,
     "status": "ok",
     "timestamp": 1639566132142,
     "user": {
      "displayName": "Mesut Bilgin",
      "photoUrl": "https://lh3.googleusercontent.com/a/default-user=s64",
      "userId": "17511617768644180086"
     },
     "user_tz": -180
    },
    "id": "-HmkocG4oqBn",
    "outputId": "8af9f92c-f1f5-41be-e659-0840aaa5de14"
   },
   "outputs": [
    {
     "data": {
      "text/plain": [
       "PassengerId      0\n",
       "Pclass           0\n",
       "Name             0\n",
       "Sex              0\n",
       "Age              0\n",
       "SibSp            0\n",
       "Parch            0\n",
       "Ticket           0\n",
       "Fare             0\n",
       "Cabin          327\n",
       "Embarked         0\n",
       "dtype: int64"
      ]
     },
     "execution_count": 70,
     "metadata": {},
     "output_type": "execute_result"
    }
   ],
   "source": [
    "test.isna().sum()"
   ]
  },
  {
   "cell_type": "markdown",
   "metadata": {
    "id": "6BkE509EREXS"
   },
   "source": [
    "# Dependent and Independent Variables"
   ]
  },
  {
   "cell_type": "code",
   "execution_count": 71,
   "metadata": {
    "ExecuteTime": {
     "end_time": "2024-03-29T13:20:38.249641Z",
     "start_time": "2024-03-29T13:20:38.242609Z"
    },
    "execution": {
     "iopub.execute_input": "2022-09-14T09:59:27.185908Z",
     "iopub.status.busy": "2022-09-14T09:59:27.185473Z",
     "iopub.status.idle": "2022-09-14T09:59:27.197726Z",
     "shell.execute_reply": "2022-09-14T09:59:27.196744Z",
     "shell.execute_reply.started": "2022-09-14T09:59:27.185874Z"
    },
    "executionInfo": {
     "elapsed": 38,
     "status": "ok",
     "timestamp": 1639566133741,
     "user": {
      "displayName": "Mesut Bilgin",
      "photoUrl": "https://lh3.googleusercontent.com/a/default-user=s64",
      "userId": "17511617768644180086"
     },
     "user_tz": -180
    },
    "id": "wwhpAQaBqOud",
    "outputId": "6de90c63-ab0f-41f3-d536-3a467ad2fb8a"
   },
   "outputs": [
    {
     "data": {
      "text/plain": [
       "891"
      ]
     },
     "execution_count": 71,
     "metadata": {},
     "output_type": "execute_result"
    }
   ],
   "source": [
    "len_train = len(train)\n",
    "len_train"
   ]
  },
  {
   "cell_type": "code",
   "execution_count": 72,
   "metadata": {
    "ExecuteTime": {
     "end_time": "2024-03-29T13:20:38.950339Z",
     "start_time": "2024-03-29T13:20:38.939813Z"
    },
    "execution": {
     "iopub.execute_input": "2022-09-14T09:59:27.199896Z",
     "iopub.status.busy": "2022-09-14T09:59:27.199207Z",
     "iopub.status.idle": "2022-09-14T09:59:27.209614Z",
     "shell.execute_reply": "2022-09-14T09:59:27.208719Z",
     "shell.execute_reply.started": "2022-09-14T09:59:27.199846Z"
    },
    "executionInfo": {
     "elapsed": 37,
     "status": "ok",
     "timestamp": 1639566133745,
     "user": {
      "displayName": "Mesut Bilgin",
      "photoUrl": "https://lh3.googleusercontent.com/a/default-user=s64",
      "userId": "17511617768644180086"
     },
     "user_tz": -180
    },
    "id": "KPU4-PbFqqXN",
    "outputId": "2a11b99d-ab86-414c-82f2-2015cd8bf86a"
   },
   "outputs": [
    {
     "data": {
      "text/plain": [
       "418"
      ]
     },
     "execution_count": 72,
     "metadata": {},
     "output_type": "execute_result"
    }
   ],
   "source": [
    "len_test = len(test)\n",
    "len_test"
   ]
  },
  {
   "cell_type": "code",
   "execution_count": 73,
   "metadata": {
    "ExecuteTime": {
     "end_time": "2024-03-29T13:20:39.541563Z",
     "start_time": "2024-03-29T13:20:39.533346Z"
    },
    "execution": {
     "iopub.execute_input": "2022-09-14T09:59:27.212116Z",
     "iopub.status.busy": "2022-09-14T09:59:27.210969Z",
     "iopub.status.idle": "2022-09-14T09:59:27.225016Z",
     "shell.execute_reply": "2022-09-14T09:59:27.224016Z",
     "shell.execute_reply.started": "2022-09-14T09:59:27.212044Z"
    },
    "executionInfo": {
     "elapsed": 36,
     "status": "ok",
     "timestamp": 1639566133746,
     "user": {
      "displayName": "Mesut Bilgin",
      "photoUrl": "https://lh3.googleusercontent.com/a/default-user=s64",
      "userId": "17511617768644180086"
     },
     "user_tz": -180
    },
    "id": "HlikvyneqWwE"
   },
   "outputs": [],
   "source": [
    "train = pd.concat([train, test], axis = 0)"
   ]
  },
  {
   "cell_type": "code",
   "execution_count": 74,
   "metadata": {
    "ExecuteTime": {
     "end_time": "2024-03-29T13:20:40.153108Z",
     "start_time": "2024-03-29T13:20:40.135285Z"
    },
    "execution": {
     "iopub.execute_input": "2022-09-14T09:59:27.227118Z",
     "iopub.status.busy": "2022-09-14T09:59:27.226306Z",
     "iopub.status.idle": "2022-09-14T09:59:27.250079Z",
     "shell.execute_reply": "2022-09-14T09:59:27.248905Z",
     "shell.execute_reply.started": "2022-09-14T09:59:27.227082Z"
    },
    "executionInfo": {
     "elapsed": 39,
     "status": "ok",
     "timestamp": 1639566133750,
     "user": {
      "displayName": "Mesut Bilgin",
      "photoUrl": "https://lh3.googleusercontent.com/a/default-user=s64",
      "userId": "17511617768644180086"
     },
     "user_tz": -180
    },
    "id": "kaVqPl8UoJui",
    "outputId": "b7e15dcf-bff6-4ca4-e3ea-d3726e61384d"
   },
   "outputs": [
    {
     "data": {
      "text/html": [
       "<div>\n",
       "<style scoped>\n",
       "    .dataframe tbody tr th:only-of-type {\n",
       "        vertical-align: middle;\n",
       "    }\n",
       "\n",
       "    .dataframe tbody tr th {\n",
       "        vertical-align: top;\n",
       "    }\n",
       "\n",
       "    .dataframe thead th {\n",
       "        text-align: right;\n",
       "    }\n",
       "</style>\n",
       "<table border=\"1\" class=\"dataframe\">\n",
       "  <thead>\n",
       "    <tr style=\"text-align: right;\">\n",
       "      <th></th>\n",
       "      <th>PassengerId</th>\n",
       "      <th>Survived</th>\n",
       "      <th>Pclass</th>\n",
       "      <th>Name</th>\n",
       "      <th>Sex</th>\n",
       "      <th>Age</th>\n",
       "      <th>SibSp</th>\n",
       "      <th>Parch</th>\n",
       "      <th>Ticket</th>\n",
       "      <th>Fare</th>\n",
       "      <th>Cabin</th>\n",
       "      <th>Embarked</th>\n",
       "    </tr>\n",
       "  </thead>\n",
       "  <tbody>\n",
       "    <tr>\n",
       "      <th>0</th>\n",
       "      <td>1</td>\n",
       "      <td>0.0</td>\n",
       "      <td>3</td>\n",
       "      <td>Braund, Mr. Owen Harris</td>\n",
       "      <td>male</td>\n",
       "      <td>22.0</td>\n",
       "      <td>1</td>\n",
       "      <td>0</td>\n",
       "      <td>A/5 21171</td>\n",
       "      <td>7.2500</td>\n",
       "      <td>NaN</td>\n",
       "      <td>S</td>\n",
       "    </tr>\n",
       "    <tr>\n",
       "      <th>1</th>\n",
       "      <td>2</td>\n",
       "      <td>1.0</td>\n",
       "      <td>1</td>\n",
       "      <td>Cumings, Mrs. John Bradley (Florence Briggs Th...</td>\n",
       "      <td>female</td>\n",
       "      <td>38.0</td>\n",
       "      <td>1</td>\n",
       "      <td>0</td>\n",
       "      <td>PC 17599</td>\n",
       "      <td>71.2833</td>\n",
       "      <td>C85</td>\n",
       "      <td>C</td>\n",
       "    </tr>\n",
       "    <tr>\n",
       "      <th>2</th>\n",
       "      <td>3</td>\n",
       "      <td>1.0</td>\n",
       "      <td>3</td>\n",
       "      <td>Heikkinen, Miss. Laina</td>\n",
       "      <td>female</td>\n",
       "      <td>26.0</td>\n",
       "      <td>0</td>\n",
       "      <td>0</td>\n",
       "      <td>STON/O2. 3101282</td>\n",
       "      <td>7.9250</td>\n",
       "      <td>NaN</td>\n",
       "      <td>S</td>\n",
       "    </tr>\n",
       "    <tr>\n",
       "      <th>3</th>\n",
       "      <td>4</td>\n",
       "      <td>1.0</td>\n",
       "      <td>1</td>\n",
       "      <td>Futrelle, Mrs. Jacques Heath (Lily May Peel)</td>\n",
       "      <td>female</td>\n",
       "      <td>35.0</td>\n",
       "      <td>1</td>\n",
       "      <td>0</td>\n",
       "      <td>113803</td>\n",
       "      <td>53.1000</td>\n",
       "      <td>C123</td>\n",
       "      <td>S</td>\n",
       "    </tr>\n",
       "    <tr>\n",
       "      <th>4</th>\n",
       "      <td>5</td>\n",
       "      <td>0.0</td>\n",
       "      <td>3</td>\n",
       "      <td>Allen, Mr. William Henry</td>\n",
       "      <td>male</td>\n",
       "      <td>35.0</td>\n",
       "      <td>0</td>\n",
       "      <td>0</td>\n",
       "      <td>373450</td>\n",
       "      <td>8.0500</td>\n",
       "      <td>NaN</td>\n",
       "      <td>S</td>\n",
       "    </tr>\n",
       "  </tbody>\n",
       "</table>\n",
       "</div>"
      ],
      "text/plain": [
       "   PassengerId  Survived  Pclass  \\\n",
       "0            1       0.0       3   \n",
       "1            2       1.0       1   \n",
       "2            3       1.0       3   \n",
       "3            4       1.0       1   \n",
       "4            5       0.0       3   \n",
       "\n",
       "                                                Name     Sex   Age  SibSp  \\\n",
       "0                            Braund, Mr. Owen Harris    male  22.0      1   \n",
       "1  Cumings, Mrs. John Bradley (Florence Briggs Th...  female  38.0      1   \n",
       "2                             Heikkinen, Miss. Laina  female  26.0      0   \n",
       "3       Futrelle, Mrs. Jacques Heath (Lily May Peel)  female  35.0      1   \n",
       "4                           Allen, Mr. William Henry    male  35.0      0   \n",
       "\n",
       "   Parch            Ticket     Fare Cabin Embarked  \n",
       "0      0         A/5 21171   7.2500   NaN        S  \n",
       "1      0          PC 17599  71.2833   C85        C  \n",
       "2      0  STON/O2. 3101282   7.9250   NaN        S  \n",
       "3      0            113803  53.1000  C123        S  \n",
       "4      0            373450   8.0500   NaN        S  "
      ]
     },
     "execution_count": 74,
     "metadata": {},
     "output_type": "execute_result"
    }
   ],
   "source": [
    "train.head()"
   ]
  },
  {
   "cell_type": "code",
   "execution_count": 75,
   "metadata": {
    "ExecuteTime": {
     "end_time": "2024-03-29T13:20:40.941949Z",
     "start_time": "2024-03-29T13:20:40.935943Z"
    },
    "execution": {
     "iopub.execute_input": "2022-09-14T09:59:27.251995Z",
     "iopub.status.busy": "2022-09-14T09:59:27.251514Z",
     "iopub.status.idle": "2022-09-14T09:59:27.255266Z",
     "shell.execute_reply": "2022-09-14T09:59:27.254698Z",
     "shell.execute_reply.started": "2022-09-14T09:59:27.251947Z"
    },
    "executionInfo": {
     "elapsed": 4,
     "status": "ok",
     "timestamp": 1639566259689,
     "user": {
      "displayName": "Mesut Bilgin",
      "photoUrl": "https://lh3.googleusercontent.com/a/default-user=s64",
      "userId": "17511617768644180086"
     },
     "user_tz": -180
    },
    "id": "mHBqe4W6YAfs"
   },
   "outputs": [],
   "source": [
    "from sklearn.preprocessing import LabelEncoder"
   ]
  },
  {
   "cell_type": "code",
   "execution_count": 76,
   "metadata": {
    "ExecuteTime": {
     "end_time": "2024-03-29T13:20:41.737668Z",
     "start_time": "2024-03-29T13:20:41.715649Z"
    },
    "execution": {
     "iopub.execute_input": "2022-09-14T09:59:27.256491Z",
     "iopub.status.busy": "2022-09-14T09:59:27.256214Z",
     "iopub.status.idle": "2022-09-14T09:59:27.282064Z",
     "shell.execute_reply": "2022-09-14T09:59:27.281192Z",
     "shell.execute_reply.started": "2022-09-14T09:59:27.256456Z"
    },
    "executionInfo": {
     "elapsed": 8,
     "status": "ok",
     "timestamp": 1639566261289,
     "user": {
      "displayName": "Mesut Bilgin",
      "photoUrl": "https://lh3.googleusercontent.com/a/default-user=s64",
      "userId": "17511617768644180086"
     },
     "user_tz": -180
    },
    "id": "9RI0FK8vcAot",
    "outputId": "3fd42af5-56b1-4bab-ddd2-d503f4de30f5"
   },
   "outputs": [
    {
     "data": {
      "text/html": [
       "<div>\n",
       "<style scoped>\n",
       "    .dataframe tbody tr th:only-of-type {\n",
       "        vertical-align: middle;\n",
       "    }\n",
       "\n",
       "    .dataframe tbody tr th {\n",
       "        vertical-align: top;\n",
       "    }\n",
       "\n",
       "    .dataframe thead th {\n",
       "        text-align: right;\n",
       "    }\n",
       "</style>\n",
       "<table border=\"1\" class=\"dataframe\">\n",
       "  <thead>\n",
       "    <tr style=\"text-align: right;\">\n",
       "      <th></th>\n",
       "      <th>PassengerId</th>\n",
       "      <th>Survived</th>\n",
       "      <th>Pclass</th>\n",
       "      <th>Name</th>\n",
       "      <th>Sex</th>\n",
       "      <th>Age</th>\n",
       "      <th>SibSp</th>\n",
       "      <th>Parch</th>\n",
       "      <th>Ticket</th>\n",
       "      <th>Fare</th>\n",
       "      <th>Cabin</th>\n",
       "      <th>Embarked</th>\n",
       "    </tr>\n",
       "  </thead>\n",
       "  <tbody>\n",
       "    <tr>\n",
       "      <th>0</th>\n",
       "      <td>1</td>\n",
       "      <td>0.0</td>\n",
       "      <td>3</td>\n",
       "      <td>Braund, Mr. Owen Harris</td>\n",
       "      <td>1</td>\n",
       "      <td>22.0</td>\n",
       "      <td>1</td>\n",
       "      <td>0</td>\n",
       "      <td>A/5 21171</td>\n",
       "      <td>7.2500</td>\n",
       "      <td>NaN</td>\n",
       "      <td>S</td>\n",
       "    </tr>\n",
       "    <tr>\n",
       "      <th>1</th>\n",
       "      <td>2</td>\n",
       "      <td>1.0</td>\n",
       "      <td>1</td>\n",
       "      <td>Cumings, Mrs. John Bradley (Florence Briggs Th...</td>\n",
       "      <td>0</td>\n",
       "      <td>38.0</td>\n",
       "      <td>1</td>\n",
       "      <td>0</td>\n",
       "      <td>PC 17599</td>\n",
       "      <td>71.2833</td>\n",
       "      <td>C85</td>\n",
       "      <td>C</td>\n",
       "    </tr>\n",
       "    <tr>\n",
       "      <th>2</th>\n",
       "      <td>3</td>\n",
       "      <td>1.0</td>\n",
       "      <td>3</td>\n",
       "      <td>Heikkinen, Miss. Laina</td>\n",
       "      <td>0</td>\n",
       "      <td>26.0</td>\n",
       "      <td>0</td>\n",
       "      <td>0</td>\n",
       "      <td>STON/O2. 3101282</td>\n",
       "      <td>7.9250</td>\n",
       "      <td>NaN</td>\n",
       "      <td>S</td>\n",
       "    </tr>\n",
       "    <tr>\n",
       "      <th>3</th>\n",
       "      <td>4</td>\n",
       "      <td>1.0</td>\n",
       "      <td>1</td>\n",
       "      <td>Futrelle, Mrs. Jacques Heath (Lily May Peel)</td>\n",
       "      <td>0</td>\n",
       "      <td>35.0</td>\n",
       "      <td>1</td>\n",
       "      <td>0</td>\n",
       "      <td>113803</td>\n",
       "      <td>53.1000</td>\n",
       "      <td>C123</td>\n",
       "      <td>S</td>\n",
       "    </tr>\n",
       "    <tr>\n",
       "      <th>4</th>\n",
       "      <td>5</td>\n",
       "      <td>0.0</td>\n",
       "      <td>3</td>\n",
       "      <td>Allen, Mr. William Henry</td>\n",
       "      <td>1</td>\n",
       "      <td>35.0</td>\n",
       "      <td>0</td>\n",
       "      <td>0</td>\n",
       "      <td>373450</td>\n",
       "      <td>8.0500</td>\n",
       "      <td>NaN</td>\n",
       "      <td>S</td>\n",
       "    </tr>\n",
       "  </tbody>\n",
       "</table>\n",
       "</div>"
      ],
      "text/plain": [
       "   PassengerId  Survived  Pclass  \\\n",
       "0            1       0.0       3   \n",
       "1            2       1.0       1   \n",
       "2            3       1.0       3   \n",
       "3            4       1.0       1   \n",
       "4            5       0.0       3   \n",
       "\n",
       "                                                Name  Sex   Age  SibSp  Parch  \\\n",
       "0                            Braund, Mr. Owen Harris    1  22.0      1      0   \n",
       "1  Cumings, Mrs. John Bradley (Florence Briggs Th...    0  38.0      1      0   \n",
       "2                             Heikkinen, Miss. Laina    0  26.0      0      0   \n",
       "3       Futrelle, Mrs. Jacques Heath (Lily May Peel)    0  35.0      1      0   \n",
       "4                           Allen, Mr. William Henry    1  35.0      0      0   \n",
       "\n",
       "             Ticket     Fare Cabin Embarked  \n",
       "0         A/5 21171   7.2500   NaN        S  \n",
       "1          PC 17599  71.2833   C85        C  \n",
       "2  STON/O2. 3101282   7.9250   NaN        S  \n",
       "3            113803  53.1000  C123        S  \n",
       "4            373450   8.0500   NaN        S  "
      ]
     },
     "execution_count": 76,
     "metadata": {},
     "output_type": "execute_result"
    }
   ],
   "source": [
    "le=LabelEncoder()\n",
    "train[\"Sex\"]=le.fit_transform(train[\"Sex\"])\n",
    "train.head()"
   ]
  },
  {
   "cell_type": "code",
   "execution_count": 77,
   "metadata": {
    "ExecuteTime": {
     "end_time": "2024-03-29T13:20:42.236428Z",
     "start_time": "2024-03-29T13:20:42.217178Z"
    },
    "execution": {
     "iopub.execute_input": "2022-09-14T09:59:27.284056Z",
     "iopub.status.busy": "2022-09-14T09:59:27.283413Z",
     "iopub.status.idle": "2022-09-14T09:59:27.300538Z",
     "shell.execute_reply": "2022-09-14T09:59:27.299644Z",
     "shell.execute_reply.started": "2022-09-14T09:59:27.284011Z"
    }
   },
   "outputs": [],
   "source": [
    "embarked = train.Embarked.str.get_dummies()\n",
    "train = pd.concat([train, embarked], axis =1)"
   ]
  },
  {
   "cell_type": "code",
   "execution_count": 78,
   "metadata": {
    "ExecuteTime": {
     "end_time": "2024-03-29T13:20:42.736728Z",
     "start_time": "2024-03-29T13:20:42.728397Z"
    },
    "execution": {
     "iopub.execute_input": "2022-09-14T09:59:27.302121Z",
     "iopub.status.busy": "2022-09-14T09:59:27.301870Z",
     "iopub.status.idle": "2022-09-14T09:59:27.308239Z",
     "shell.execute_reply": "2022-09-14T09:59:27.307647Z",
     "shell.execute_reply.started": "2022-09-14T09:59:27.302091Z"
    }
   },
   "outputs": [],
   "source": [
    "train[\"relative\"] = train[\"SibSp\"] + train[\"Parch\"]"
   ]
  },
  {
   "cell_type": "code",
   "execution_count": 79,
   "metadata": {
    "ExecuteTime": {
     "end_time": "2024-03-29T13:20:45.449363Z",
     "start_time": "2024-03-29T13:20:45.442274Z"
    },
    "execution": {
     "iopub.execute_input": "2022-09-14T09:59:27.309654Z",
     "iopub.status.busy": "2022-09-14T09:59:27.309303Z",
     "iopub.status.idle": "2022-09-14T09:59:27.318743Z",
     "shell.execute_reply": "2022-09-14T09:59:27.317873Z",
     "shell.execute_reply.started": "2022-09-14T09:59:27.309623Z"
    },
    "executionInfo": {
     "elapsed": 262,
     "status": "ok",
     "timestamp": 1639566266341,
     "user": {
      "displayName": "Mesut Bilgin",
      "photoUrl": "https://lh3.googleusercontent.com/a/default-user=s64",
      "userId": "17511617768644180086"
     },
     "user_tz": -180
    },
    "id": "omX--RgRq92E"
   },
   "outputs": [],
   "source": [
    "test = train[891:]"
   ]
  },
  {
   "cell_type": "code",
   "execution_count": 80,
   "metadata": {
    "ExecuteTime": {
     "end_time": "2024-03-29T13:20:45.902946Z",
     "start_time": "2024-03-29T13:20:45.899301Z"
    },
    "execution": {
     "iopub.execute_input": "2022-09-14T09:59:27.320247Z",
     "iopub.status.busy": "2022-09-14T09:59:27.319991Z",
     "iopub.status.idle": "2022-09-14T09:59:27.332151Z",
     "shell.execute_reply": "2022-09-14T09:59:27.331251Z",
     "shell.execute_reply.started": "2022-09-14T09:59:27.320217Z"
    },
    "executionInfo": {
     "elapsed": 5,
     "status": "ok",
     "timestamp": 1639566267517,
     "user": {
      "displayName": "Mesut Bilgin",
      "photoUrl": "https://lh3.googleusercontent.com/a/default-user=s64",
      "userId": "17511617768644180086"
     },
     "user_tz": -180
    },
    "id": "Uj4eThUsq3Oe"
   },
   "outputs": [],
   "source": [
    "train = train[:891]"
   ]
  },
  {
   "cell_type": "code",
   "execution_count": 81,
   "metadata": {
    "ExecuteTime": {
     "end_time": "2024-03-29T13:20:46.397488Z",
     "start_time": "2024-03-29T13:20:46.380985Z"
    },
    "execution": {
     "iopub.execute_input": "2022-09-14T09:59:27.333863Z",
     "iopub.status.busy": "2022-09-14T09:59:27.333321Z",
     "iopub.status.idle": "2022-09-14T09:59:27.350194Z",
     "shell.execute_reply": "2022-09-14T09:59:27.348905Z",
     "shell.execute_reply.started": "2022-09-14T09:59:27.333811Z"
    },
    "executionInfo": {
     "elapsed": 4,
     "status": "ok",
     "timestamp": 1639566268924,
     "user": {
      "displayName": "Mesut Bilgin",
      "photoUrl": "https://lh3.googleusercontent.com/a/default-user=s64",
      "userId": "17511617768644180086"
     },
     "user_tz": -180
    },
    "id": "WHqC3fV9q3G6",
    "outputId": "ee0da6de-1a95-4ee7-cc02-f02bff93fb54"
   },
   "outputs": [
    {
     "data": {
      "text/plain": [
       "(418, 16)"
      ]
     },
     "execution_count": 81,
     "metadata": {},
     "output_type": "execute_result"
    }
   ],
   "source": [
    "test.shape"
   ]
  },
  {
   "cell_type": "code",
   "execution_count": 82,
   "metadata": {
    "ExecuteTime": {
     "end_time": "2024-03-29T13:20:46.882584Z",
     "start_time": "2024-03-29T13:20:46.867938Z"
    },
    "execution": {
     "iopub.execute_input": "2022-09-14T09:59:27.352072Z",
     "iopub.status.busy": "2022-09-14T09:59:27.351464Z",
     "iopub.status.idle": "2022-09-14T09:59:27.373160Z",
     "shell.execute_reply": "2022-09-14T09:59:27.372432Z",
     "shell.execute_reply.started": "2022-09-14T09:59:27.352026Z"
    },
    "executionInfo": {
     "elapsed": 284,
     "status": "ok",
     "timestamp": 1639566270958,
     "user": {
      "displayName": "Mesut Bilgin",
      "photoUrl": "https://lh3.googleusercontent.com/a/default-user=s64",
      "userId": "17511617768644180086"
     },
     "user_tz": -180
    },
    "id": "sotF9USFuR7s",
    "outputId": "d95e7042-388d-4e8d-b0b9-05e71cefde4d"
   },
   "outputs": [
    {
     "name": "stdout",
     "output_type": "stream",
     "text": [
      "<class 'pandas.core.frame.DataFrame'>\n",
      "Int64Index: 418 entries, 0 to 417\n",
      "Data columns (total 16 columns):\n",
      " #   Column       Non-Null Count  Dtype  \n",
      "---  ------       --------------  -----  \n",
      " 0   PassengerId  418 non-null    int64  \n",
      " 1   Survived     0 non-null      float64\n",
      " 2   Pclass       418 non-null    int64  \n",
      " 3   Name         418 non-null    object \n",
      " 4   Sex          418 non-null    int32  \n",
      " 5   Age          418 non-null    float64\n",
      " 6   SibSp        418 non-null    int64  \n",
      " 7   Parch        418 non-null    int64  \n",
      " 8   Ticket       418 non-null    object \n",
      " 9   Fare         418 non-null    float64\n",
      " 10  Cabin        91 non-null     object \n",
      " 11  Embarked     418 non-null    object \n",
      " 12  C            418 non-null    int64  \n",
      " 13  Q            418 non-null    int64  \n",
      " 14  S            418 non-null    int64  \n",
      " 15  relative     418 non-null    int64  \n",
      "dtypes: float64(3), int32(1), int64(8), object(4)\n",
      "memory usage: 53.9+ KB\n"
     ]
    }
   ],
   "source": [
    "test.info()"
   ]
  },
  {
   "cell_type": "code",
   "execution_count": 83,
   "metadata": {
    "ExecuteTime": {
     "end_time": "2024-03-29T13:20:47.445843Z",
     "start_time": "2024-03-29T13:20:47.436839Z"
    },
    "execution": {
     "iopub.execute_input": "2022-09-14T09:59:27.375143Z",
     "iopub.status.busy": "2022-09-14T09:59:27.374262Z",
     "iopub.status.idle": "2022-09-14T09:59:27.380874Z",
     "shell.execute_reply": "2022-09-14T09:59:27.380063Z",
     "shell.execute_reply.started": "2022-09-14T09:59:27.375106Z"
    },
    "executionInfo": {
     "elapsed": 268,
     "status": "ok",
     "timestamp": 1639566272788,
     "user": {
      "displayName": "Mesut Bilgin",
      "photoUrl": "https://lh3.googleusercontent.com/a/default-user=s64",
      "userId": "17511617768644180086"
     },
     "user_tz": -180
    },
    "id": "0dHOjMe0q242",
    "outputId": "1b6bbd14-0270-47e4-859c-47194520106c"
   },
   "outputs": [
    {
     "data": {
      "text/plain": [
       "(891, 16)"
      ]
     },
     "execution_count": 83,
     "metadata": {},
     "output_type": "execute_result"
    }
   ],
   "source": [
    "train.shape"
   ]
  },
  {
   "cell_type": "code",
   "execution_count": 84,
   "metadata": {
    "ExecuteTime": {
     "end_time": "2024-03-29T13:20:48.134602Z",
     "start_time": "2024-03-29T13:20:48.113906Z"
    },
    "execution": {
     "iopub.execute_input": "2022-09-14T09:59:27.382419Z",
     "iopub.status.busy": "2022-09-14T09:59:27.382051Z",
     "iopub.status.idle": "2022-09-14T09:59:27.396790Z",
     "shell.execute_reply": "2022-09-14T09:59:27.395911Z",
     "shell.execute_reply.started": "2022-09-14T09:59:27.382374Z"
    },
    "executionInfo": {
     "elapsed": 506,
     "status": "ok",
     "timestamp": 1639566274844,
     "user": {
      "displayName": "Mesut Bilgin",
      "photoUrl": "https://lh3.googleusercontent.com/a/default-user=s64",
      "userId": "17511617768644180086"
     },
     "user_tz": -180
    },
    "id": "qdvrmKi0rKd8"
   },
   "outputs": [],
   "source": [
    "y_test = df.Survived\n",
    "X_test = test.drop(columns = [\"PassengerId\", \"Name\", \"Cabin\", \"Ticket\", \"Survived\", \"Embarked\", \"SibSp\", \"Parch\"])\n",
    "y_train = train.Survived\n",
    "X_train = train.drop(columns = [\"PassengerId\", \"Name\", \"Cabin\", \"Ticket\", \"Survived\", \"Embarked\", \"SibSp\", \"Parch\"])"
   ]
  },
  {
   "cell_type": "code",
   "execution_count": 85,
   "metadata": {
    "ExecuteTime": {
     "end_time": "2024-03-29T13:20:48.898719Z",
     "start_time": "2024-03-29T13:20:48.877728Z"
    },
    "execution": {
     "iopub.execute_input": "2022-09-14T09:59:27.398878Z",
     "iopub.status.busy": "2022-09-14T09:59:27.398143Z",
     "iopub.status.idle": "2022-09-14T09:59:27.417921Z",
     "shell.execute_reply": "2022-09-14T09:59:27.417021Z",
     "shell.execute_reply.started": "2022-09-14T09:59:27.398843Z"
    },
    "executionInfo": {
     "elapsed": 16,
     "status": "ok",
     "timestamp": 1639566280982,
     "user": {
      "displayName": "Mesut Bilgin",
      "photoUrl": "https://lh3.googleusercontent.com/a/default-user=s64",
      "userId": "17511617768644180086"
     },
     "user_tz": -180
    },
    "id": "CCN3ppHkcAhU",
    "outputId": "50748db1-307c-4c6b-e231-5099a10d382e"
   },
   "outputs": [
    {
     "data": {
      "text/html": [
       "<div>\n",
       "<style scoped>\n",
       "    .dataframe tbody tr th:only-of-type {\n",
       "        vertical-align: middle;\n",
       "    }\n",
       "\n",
       "    .dataframe tbody tr th {\n",
       "        vertical-align: top;\n",
       "    }\n",
       "\n",
       "    .dataframe thead th {\n",
       "        text-align: right;\n",
       "    }\n",
       "</style>\n",
       "<table border=\"1\" class=\"dataframe\">\n",
       "  <thead>\n",
       "    <tr style=\"text-align: right;\">\n",
       "      <th></th>\n",
       "      <th>Pclass</th>\n",
       "      <th>Sex</th>\n",
       "      <th>Age</th>\n",
       "      <th>Fare</th>\n",
       "      <th>C</th>\n",
       "      <th>Q</th>\n",
       "      <th>S</th>\n",
       "      <th>relative</th>\n",
       "    </tr>\n",
       "  </thead>\n",
       "  <tbody>\n",
       "    <tr>\n",
       "      <th>0</th>\n",
       "      <td>3</td>\n",
       "      <td>1</td>\n",
       "      <td>22.0</td>\n",
       "      <td>7.2500</td>\n",
       "      <td>0</td>\n",
       "      <td>0</td>\n",
       "      <td>1</td>\n",
       "      <td>1</td>\n",
       "    </tr>\n",
       "    <tr>\n",
       "      <th>1</th>\n",
       "      <td>1</td>\n",
       "      <td>0</td>\n",
       "      <td>38.0</td>\n",
       "      <td>71.2833</td>\n",
       "      <td>1</td>\n",
       "      <td>0</td>\n",
       "      <td>0</td>\n",
       "      <td>1</td>\n",
       "    </tr>\n",
       "    <tr>\n",
       "      <th>2</th>\n",
       "      <td>3</td>\n",
       "      <td>0</td>\n",
       "      <td>26.0</td>\n",
       "      <td>7.9250</td>\n",
       "      <td>0</td>\n",
       "      <td>0</td>\n",
       "      <td>1</td>\n",
       "      <td>0</td>\n",
       "    </tr>\n",
       "    <tr>\n",
       "      <th>3</th>\n",
       "      <td>1</td>\n",
       "      <td>0</td>\n",
       "      <td>35.0</td>\n",
       "      <td>53.1000</td>\n",
       "      <td>0</td>\n",
       "      <td>0</td>\n",
       "      <td>1</td>\n",
       "      <td>1</td>\n",
       "    </tr>\n",
       "    <tr>\n",
       "      <th>4</th>\n",
       "      <td>3</td>\n",
       "      <td>1</td>\n",
       "      <td>35.0</td>\n",
       "      <td>8.0500</td>\n",
       "      <td>0</td>\n",
       "      <td>0</td>\n",
       "      <td>1</td>\n",
       "      <td>0</td>\n",
       "    </tr>\n",
       "  </tbody>\n",
       "</table>\n",
       "</div>"
      ],
      "text/plain": [
       "   Pclass  Sex   Age     Fare  C  Q  S  relative\n",
       "0       3    1  22.0   7.2500  0  0  1         1\n",
       "1       1    0  38.0  71.2833  1  0  0         1\n",
       "2       3    0  26.0   7.9250  0  0  1         0\n",
       "3       1    0  35.0  53.1000  0  0  1         1\n",
       "4       3    1  35.0   8.0500  0  0  1         0"
      ]
     },
     "execution_count": 85,
     "metadata": {},
     "output_type": "execute_result"
    }
   ],
   "source": [
    "X_train.head()"
   ]
  },
  {
   "cell_type": "code",
   "execution_count": 86,
   "metadata": {
    "ExecuteTime": {
     "end_time": "2024-03-29T13:20:49.537655Z",
     "start_time": "2024-03-29T13:20:49.531185Z"
    },
    "execution": {
     "iopub.execute_input": "2022-09-14T09:59:27.420131Z",
     "iopub.status.busy": "2022-09-14T09:59:27.419337Z",
     "iopub.status.idle": "2022-09-14T09:59:27.437739Z",
     "shell.execute_reply": "2022-09-14T09:59:27.436533Z",
     "shell.execute_reply.started": "2022-09-14T09:59:27.420086Z"
    }
   },
   "outputs": [
    {
     "name": "stdout",
     "output_type": "stream",
     "text": [
      "<class 'pandas.core.frame.DataFrame'>\n",
      "Int64Index: 891 entries, 0 to 890\n",
      "Data columns (total 8 columns):\n",
      " #   Column    Non-Null Count  Dtype  \n",
      "---  ------    --------------  -----  \n",
      " 0   Pclass    891 non-null    int64  \n",
      " 1   Sex       891 non-null    int32  \n",
      " 2   Age       891 non-null    float64\n",
      " 3   Fare      891 non-null    float64\n",
      " 4   C         891 non-null    int64  \n",
      " 5   Q         891 non-null    int64  \n",
      " 6   S         891 non-null    int64  \n",
      " 7   relative  891 non-null    int64  \n",
      "dtypes: float64(2), int32(1), int64(5)\n",
      "memory usage: 59.2 KB\n"
     ]
    }
   ],
   "source": [
    "X_train.info()"
   ]
  },
  {
   "cell_type": "code",
   "execution_count": 87,
   "metadata": {
    "ExecuteTime": {
     "end_time": "2024-03-29T13:22:19.850753Z",
     "start_time": "2024-03-29T13:22:19.842755Z"
    },
    "execution": {
     "iopub.execute_input": "2022-09-14T09:59:27.439740Z",
     "iopub.status.busy": "2022-09-14T09:59:27.439317Z",
     "iopub.status.idle": "2022-09-14T09:59:27.450534Z",
     "shell.execute_reply": "2022-09-14T09:59:27.449631Z",
     "shell.execute_reply.started": "2022-09-14T09:59:27.439696Z"
    }
   },
   "outputs": [],
   "source": [
    "n = 31"
   ]
  },
  {
   "cell_type": "markdown",
   "metadata": {},
   "source": [
    "# Gradient Boosting Modelling and Model Performance"
   ]
  },
  {
   "cell_type": "code",
   "execution_count": 88,
   "metadata": {
    "ExecuteTime": {
     "end_time": "2024-03-29T13:22:20.925177Z",
     "start_time": "2024-03-29T13:22:20.916044Z"
    },
    "execution": {
     "iopub.execute_input": "2022-09-14T09:59:27.452712Z",
     "iopub.status.busy": "2022-09-14T09:59:27.451897Z",
     "iopub.status.idle": "2022-09-14T09:59:27.462210Z",
     "shell.execute_reply": "2022-09-14T09:59:27.461475Z",
     "shell.execute_reply.started": "2022-09-14T09:59:27.452666Z"
    }
   },
   "outputs": [],
   "source": [
    "from sklearn.ensemble import GradientBoostingClassifier"
   ]
  },
  {
   "cell_type": "code",
   "execution_count": 89,
   "metadata": {
    "ExecuteTime": {
     "end_time": "2024-03-29T13:22:21.456082Z",
     "start_time": "2024-03-29T13:22:21.439079Z"
    },
    "execution": {
     "iopub.execute_input": "2022-09-14T09:59:27.464169Z",
     "iopub.status.busy": "2022-09-14T09:59:27.463492Z",
     "iopub.status.idle": "2022-09-14T09:59:27.475502Z",
     "shell.execute_reply": "2022-09-14T09:59:27.474349Z",
     "shell.execute_reply.started": "2022-09-14T09:59:27.464123Z"
    }
   },
   "outputs": [],
   "source": [
    "gradient_model = GradientBoostingClassifier(random_state = n)"
   ]
  },
  {
   "cell_type": "code",
   "execution_count": 90,
   "metadata": {
    "ExecuteTime": {
     "end_time": "2024-03-29T13:22:22.252480Z",
     "start_time": "2024-03-29T13:22:22.167257Z"
    },
    "execution": {
     "iopub.execute_input": "2022-09-14T09:59:27.477783Z",
     "iopub.status.busy": "2022-09-14T09:59:27.476840Z",
     "iopub.status.idle": "2022-09-14T09:59:27.609478Z",
     "shell.execute_reply": "2022-09-14T09:59:27.608477Z",
     "shell.execute_reply.started": "2022-09-14T09:59:27.477729Z"
    }
   },
   "outputs": [
    {
     "data": {
      "text/plain": [
       "GradientBoostingClassifier(random_state=31)"
      ]
     },
     "execution_count": 90,
     "metadata": {},
     "output_type": "execute_result"
    }
   ],
   "source": [
    "gradient_model.fit(X_train, y_train)"
   ]
  },
  {
   "cell_type": "code",
   "execution_count": 91,
   "metadata": {
    "ExecuteTime": {
     "end_time": "2024-03-29T13:22:22.798821Z",
     "start_time": "2024-03-29T13:22:22.779719Z"
    },
    "execution": {
     "iopub.execute_input": "2022-09-14T09:59:27.610974Z",
     "iopub.status.busy": "2022-09-14T09:59:27.610720Z",
     "iopub.status.idle": "2022-09-14T09:59:27.621875Z",
     "shell.execute_reply": "2022-09-14T09:59:27.621187Z",
     "shell.execute_reply.started": "2022-09-14T09:59:27.610944Z"
    }
   },
   "outputs": [],
   "source": [
    "y_pred = gradient_model.predict(X_test)\n",
    "y_train_pred = gradient_model.predict(X_train)"
   ]
  },
  {
   "cell_type": "code",
   "execution_count": 92,
   "metadata": {
    "ExecuteTime": {
     "end_time": "2024-03-29T13:22:23.329707Z",
     "start_time": "2024-03-29T13:22:23.314743Z"
    },
    "execution": {
     "iopub.execute_input": "2022-09-14T09:59:27.623428Z",
     "iopub.status.busy": "2022-09-14T09:59:27.623061Z",
     "iopub.status.idle": "2022-09-14T09:59:27.631651Z",
     "shell.execute_reply": "2022-09-14T09:59:27.630777Z",
     "shell.execute_reply.started": "2022-09-14T09:59:27.623398Z"
    }
   },
   "outputs": [
    {
     "name": "stdout",
     "output_type": "stream",
     "text": [
      "[[253  13]\n",
      " [ 28 124]]\n"
     ]
    }
   ],
   "source": [
    "print(confusion_matrix(y_test, y_pred))"
   ]
  },
  {
   "cell_type": "code",
   "execution_count": 93,
   "metadata": {
    "ExecuteTime": {
     "end_time": "2024-03-29T13:22:23.843939Z",
     "start_time": "2024-03-29T13:22:23.839940Z"
    },
    "execution": {
     "iopub.execute_input": "2022-09-14T09:59:27.633721Z",
     "iopub.status.busy": "2022-09-14T09:59:27.633364Z",
     "iopub.status.idle": "2022-09-14T09:59:27.642925Z",
     "shell.execute_reply": "2022-09-14T09:59:27.641949Z",
     "shell.execute_reply.started": "2022-09-14T09:59:27.633679Z"
    }
   },
   "outputs": [
    {
     "data": {
      "text/plain": [
       "0.9019138755980861"
      ]
     },
     "execution_count": 93,
     "metadata": {},
     "output_type": "execute_result"
    }
   ],
   "source": [
    "accuracy_score(y_test, y_pred)"
   ]
  },
  {
   "cell_type": "code",
   "execution_count": 94,
   "metadata": {
    "ExecuteTime": {
     "end_time": "2024-03-29T13:22:24.389089Z",
     "start_time": "2024-03-29T13:22:24.373093Z"
    },
    "execution": {
     "iopub.execute_input": "2022-09-14T09:59:27.647337Z",
     "iopub.status.busy": "2022-09-14T09:59:27.646854Z",
     "iopub.status.idle": "2022-09-14T09:59:27.654636Z",
     "shell.execute_reply": "2022-09-14T09:59:27.653789Z",
     "shell.execute_reply.started": "2022-09-14T09:59:27.647300Z"
    }
   },
   "outputs": [
    {
     "name": "stdout",
     "output_type": "stream",
     "text": [
      "[[524  25]\n",
      " [ 62 280]]\n"
     ]
    }
   ],
   "source": [
    "print(confusion_matrix(y_train, y_train_pred))"
   ]
  },
  {
   "cell_type": "code",
   "execution_count": 95,
   "metadata": {
    "ExecuteTime": {
     "end_time": "2024-03-29T13:22:25.060106Z",
     "start_time": "2024-03-29T13:22:25.054421Z"
    },
    "execution": {
     "iopub.execute_input": "2022-09-14T09:59:27.656137Z",
     "iopub.status.busy": "2022-09-14T09:59:27.655908Z",
     "iopub.status.idle": "2022-09-14T09:59:27.667940Z",
     "shell.execute_reply": "2022-09-14T09:59:27.667051Z",
     "shell.execute_reply.started": "2022-09-14T09:59:27.656110Z"
    }
   },
   "outputs": [
    {
     "data": {
      "text/plain": [
       "0.9023569023569024"
      ]
     },
     "execution_count": 95,
     "metadata": {},
     "output_type": "execute_result"
    }
   ],
   "source": [
    "accuracy_score(y_train, y_train_pred)"
   ]
  },
  {
   "cell_type": "markdown",
   "metadata": {},
   "source": [
    "## Grid Search"
   ]
  },
  {
   "cell_type": "code",
   "execution_count": 96,
   "metadata": {
    "ExecuteTime": {
     "end_time": "2024-03-29T13:22:26.195694Z",
     "start_time": "2024-03-29T13:22:26.180064Z"
    },
    "execution": {
     "iopub.execute_input": "2022-09-14T09:59:27.669508Z",
     "iopub.status.busy": "2022-09-14T09:59:27.669243Z",
     "iopub.status.idle": "2022-09-14T09:59:27.676880Z",
     "shell.execute_reply": "2022-09-14T09:59:27.675963Z",
     "shell.execute_reply.started": "2022-09-14T09:59:27.669471Z"
    }
   },
   "outputs": [],
   "source": [
    "gradient_model = GradientBoostingClassifier(random_state = n)"
   ]
  },
  {
   "cell_type": "code",
   "execution_count": 97,
   "metadata": {
    "ExecuteTime": {
     "end_time": "2024-03-29T13:22:26.663296Z",
     "start_time": "2024-03-29T13:22:26.659252Z"
    },
    "execution": {
     "iopub.execute_input": "2022-09-14T09:59:27.678701Z",
     "iopub.status.busy": "2022-09-14T09:59:27.678153Z",
     "iopub.status.idle": "2022-09-14T09:59:27.689065Z",
     "shell.execute_reply": "2022-09-14T09:59:27.688337Z",
     "shell.execute_reply.started": "2022-09-14T09:59:27.678666Z"
    }
   },
   "outputs": [],
   "source": [
    "param_grid = {\"n_estimators\": range(1, 51, 5), \"max_depth\" : [5], \"learning_rate\" : [ 0.01, 0.1],\n",
    "            \"subsample\" : [0.5, 1], \"max_features\" : [None, 2, 3, 4]}"
   ]
  },
  {
   "cell_type": "code",
   "execution_count": 98,
   "metadata": {
    "ExecuteTime": {
     "end_time": "2024-03-29T13:22:43.612908Z",
     "start_time": "2024-03-29T13:22:27.124503Z"
    },
    "execution": {
     "iopub.execute_input": "2022-09-14T09:59:27.690667Z",
     "iopub.status.busy": "2022-09-14T09:59:27.690259Z",
     "iopub.status.idle": "2022-09-14T10:00:01.998832Z",
     "shell.execute_reply": "2022-09-14T10:00:01.997735Z",
     "shell.execute_reply.started": "2022-09-14T09:59:27.690620Z"
    }
   },
   "outputs": [
    {
     "data": {
      "text/plain": [
       "GridSearchCV(estimator=GradientBoostingClassifier(random_state=31),\n",
       "             param_grid={'learning_rate': [0.01, 0.1], 'max_depth': [5],\n",
       "                         'max_features': [None, 2, 3, 4],\n",
       "                         'n_estimators': range(1, 51, 5),\n",
       "                         'subsample': [0.5, 1]},\n",
       "             scoring='accuracy')"
      ]
     },
     "execution_count": 98,
     "metadata": {},
     "output_type": "execute_result"
    }
   ],
   "source": [
    "gradient_grid_model = GridSearchCV(gradient_model, param_grid, scoring= 'accuracy')\n",
    "gradient_grid_model.fit(X_train, y_train)"
   ]
  },
  {
   "cell_type": "code",
   "execution_count": 99,
   "metadata": {
    "ExecuteTime": {
     "end_time": "2024-03-29T13:22:43.628354Z",
     "start_time": "2024-03-29T13:22:43.614879Z"
    },
    "execution": {
     "iopub.execute_input": "2022-09-14T10:00:02.000286Z",
     "iopub.status.busy": "2022-09-14T10:00:02.000046Z",
     "iopub.status.idle": "2022-09-14T10:00:02.006879Z",
     "shell.execute_reply": "2022-09-14T10:00:02.005946Z",
     "shell.execute_reply.started": "2022-09-14T10:00:02.000257Z"
    }
   },
   "outputs": [
    {
     "data": {
      "text/plain": [
       "{'learning_rate': 0.1,\n",
       " 'max_depth': 5,\n",
       " 'max_features': 4,\n",
       " 'n_estimators': 36,\n",
       " 'subsample': 1}"
      ]
     },
     "execution_count": 99,
     "metadata": {},
     "output_type": "execute_result"
    }
   ],
   "source": [
    "gradient_grid_model.best_params_"
   ]
  },
  {
   "cell_type": "code",
   "execution_count": 100,
   "metadata": {
    "ExecuteTime": {
     "end_time": "2024-03-29T13:22:43.644237Z",
     "start_time": "2024-03-29T13:22:43.629837Z"
    },
    "execution": {
     "iopub.execute_input": "2022-09-14T10:00:02.008497Z",
     "iopub.status.busy": "2022-09-14T10:00:02.008158Z",
     "iopub.status.idle": "2022-09-14T10:00:02.025745Z",
     "shell.execute_reply": "2022-09-14T10:00:02.024721Z",
     "shell.execute_reply.started": "2022-09-14T10:00:02.008434Z"
    }
   },
   "outputs": [],
   "source": [
    "y_pred = gradient_grid_model.predict(X_test)\n",
    "y_train_pred = gradient_grid_model.predict(X_train)"
   ]
  },
  {
   "cell_type": "code",
   "execution_count": 101,
   "metadata": {
    "ExecuteTime": {
     "end_time": "2024-03-29T13:22:45.734292Z",
     "start_time": "2024-03-29T13:22:45.727384Z"
    },
    "execution": {
     "iopub.execute_input": "2022-09-14T10:00:02.027649Z",
     "iopub.status.busy": "2022-09-14T10:00:02.027133Z",
     "iopub.status.idle": "2022-09-14T10:00:02.041278Z",
     "shell.execute_reply": "2022-09-14T10:00:02.040212Z",
     "shell.execute_reply.started": "2022-09-14T10:00:02.027611Z"
    }
   },
   "outputs": [
    {
     "name": "stdout",
     "output_type": "stream",
     "text": [
      "[[255  11]\n",
      " [ 32 120]]\n"
     ]
    }
   ],
   "source": [
    "print(confusion_matrix(y_test, y_pred))"
   ]
  },
  {
   "cell_type": "code",
   "execution_count": 102,
   "metadata": {
    "ExecuteTime": {
     "end_time": "2024-03-29T13:22:46.372509Z",
     "start_time": "2024-03-29T13:22:46.364221Z"
    },
    "execution": {
     "iopub.execute_input": "2022-09-14T10:00:02.044375Z",
     "iopub.status.busy": "2022-09-14T10:00:02.044027Z",
     "iopub.status.idle": "2022-09-14T10:00:02.053173Z",
     "shell.execute_reply": "2022-09-14T10:00:02.052369Z",
     "shell.execute_reply.started": "2022-09-14T10:00:02.044304Z"
    }
   },
   "outputs": [
    {
     "data": {
      "text/plain": [
       "0.8971291866028708"
      ]
     },
     "execution_count": 102,
     "metadata": {},
     "output_type": "execute_result"
    }
   ],
   "source": [
    "accuracy_score(y_test, y_pred)"
   ]
  },
  {
   "cell_type": "code",
   "execution_count": 103,
   "metadata": {
    "ExecuteTime": {
     "end_time": "2024-03-29T13:22:47.176879Z",
     "start_time": "2024-03-29T13:22:47.164832Z"
    },
    "execution": {
     "iopub.execute_input": "2022-09-14T10:00:02.054796Z",
     "iopub.status.busy": "2022-09-14T10:00:02.054498Z",
     "iopub.status.idle": "2022-09-14T10:00:02.066567Z",
     "shell.execute_reply": "2022-09-14T10:00:02.065738Z",
     "shell.execute_reply.started": "2022-09-14T10:00:02.054761Z"
    }
   },
   "outputs": [
    {
     "name": "stdout",
     "output_type": "stream",
     "text": [
      "[[526  23]\n",
      " [ 68 274]]\n"
     ]
    }
   ],
   "source": [
    "print(confusion_matrix(y_train, y_train_pred))"
   ]
  },
  {
   "cell_type": "code",
   "execution_count": 104,
   "metadata": {
    "ExecuteTime": {
     "end_time": "2024-03-29T13:22:47.914313Z",
     "start_time": "2024-03-29T13:22:47.907830Z"
    },
    "execution": {
     "iopub.execute_input": "2022-09-14T10:00:02.068658Z",
     "iopub.status.busy": "2022-09-14T10:00:02.068121Z",
     "iopub.status.idle": "2022-09-14T10:00:02.080213Z",
     "shell.execute_reply": "2022-09-14T10:00:02.079277Z",
     "shell.execute_reply.started": "2022-09-14T10:00:02.068612Z"
    }
   },
   "outputs": [
    {
     "data": {
      "text/plain": [
       "0.8978675645342312"
      ]
     },
     "execution_count": 104,
     "metadata": {},
     "output_type": "execute_result"
    }
   ],
   "source": [
    "accuracy_score(y_train, y_train_pred)"
   ]
  },
  {
   "cell_type": "markdown",
   "metadata": {},
   "source": [
    "# XG Boositing "
   ]
  },
  {
   "cell_type": "code",
   "execution_count": 106,
   "metadata": {
    "ExecuteTime": {
     "end_time": "2024-03-29T13:22:57.403454Z",
     "start_time": "2024-03-29T13:22:57.255082Z"
    },
    "execution": {
     "iopub.execute_input": "2022-09-14T10:00:02.091858Z",
     "iopub.status.busy": "2022-09-14T10:00:02.091604Z",
     "iopub.status.idle": "2022-09-14T10:00:02.401324Z",
     "shell.execute_reply": "2022-09-14T10:00:02.400452Z",
     "shell.execute_reply.started": "2022-09-14T10:00:02.091828Z"
    }
   },
   "outputs": [
    {
     "data": {
      "text/plain": [
       "XGBClassifier(base_score=0.5, booster='gbtree', callbacks=None,\n",
       "              colsample_bylevel=1, colsample_bynode=1, colsample_bytree=1,\n",
       "              early_stopping_rounds=None, enable_categorical=False,\n",
       "              eval_metric=None, gamma=0, gpu_id=-1, grow_policy='depthwise',\n",
       "              importance_type=None, interaction_constraints='',\n",
       "              learning_rate=0.300000012, max_bin=256, max_cat_to_onehot=4,\n",
       "              max_delta_step=0, max_depth=6, max_leaves=0, min_child_weight=1,\n",
       "              missing=nan, monotone_constraints='()', n_estimators=100,\n",
       "              n_jobs=0, num_parallel_tree=1, predictor='auto', random_state=31,\n",
       "              reg_alpha=0, reg_lambda=1, ...)"
      ]
     },
     "execution_count": 106,
     "metadata": {},
     "output_type": "execute_result"
    }
   ],
   "source": [
    "xg_model = XGBClassifier(random_state = n)\n",
    "xg_model.fit(X_train, y_train)"
   ]
  },
  {
   "cell_type": "code",
   "execution_count": 107,
   "metadata": {
    "ExecuteTime": {
     "end_time": "2024-03-29T13:22:58.044019Z",
     "start_time": "2024-03-29T13:22:58.018871Z"
    },
    "execution": {
     "iopub.execute_input": "2022-09-14T10:00:19.546832Z",
     "iopub.status.busy": "2022-09-14T10:00:19.546239Z",
     "iopub.status.idle": "2022-09-14T10:00:19.565505Z",
     "shell.execute_reply": "2022-09-14T10:00:19.564808Z",
     "shell.execute_reply.started": "2022-09-14T10:00:19.546797Z"
    }
   },
   "outputs": [],
   "source": [
    "y_pred = xg_model.predict(X_test)\n",
    "y_train_pred = xg_model.predict(X_train)"
   ]
  },
  {
   "cell_type": "code",
   "execution_count": 109,
   "metadata": {
    "ExecuteTime": {
     "end_time": "2024-03-29T13:24:55.458080Z",
     "start_time": "2024-03-29T13:24:55.449103Z"
    },
    "execution": {
     "iopub.execute_input": "2022-09-14T10:00:22.841643Z",
     "iopub.status.busy": "2022-09-14T10:00:22.840937Z",
     "iopub.status.idle": "2022-09-14T10:00:22.848741Z",
     "shell.execute_reply": "2022-09-14T10:00:22.847715Z",
     "shell.execute_reply.started": "2022-09-14T10:00:22.841604Z"
    }
   },
   "outputs": [
    {
     "name": "stdout",
     "output_type": "stream",
     "text": [
      "0.8397129186602871\n",
      "0.9640852974186308\n"
     ]
    }
   ],
   "source": [
    "print(accuracy_score(y_test, y_pred))\n",
    "print(accuracy_score(y_train, y_train_pred))"
   ]
  },
  {
   "cell_type": "markdown",
   "metadata": {},
   "source": [
    "## Grid Search"
   ]
  },
  {
   "cell_type": "code",
   "execution_count": 110,
   "metadata": {
    "ExecuteTime": {
     "end_time": "2024-03-29T13:25:50.505235Z",
     "start_time": "2024-03-29T13:24:59.465187Z"
    },
    "execution": {
     "iopub.execute_input": "2022-09-14T10:03:40.802373Z",
     "iopub.status.busy": "2022-09-14T10:03:40.802067Z",
     "iopub.status.idle": "2022-09-14T10:09:26.424610Z",
     "shell.execute_reply": "2022-09-14T10:09:26.423693Z",
     "shell.execute_reply.started": "2022-09-14T10:03:40.802340Z"
    }
   },
   "outputs": [
    {
     "data": {
      "text/plain": [
       "GridSearchCV(estimator=XGBClassifier(base_score=None, booster=None,\n",
       "                                     callbacks=None, colsample_bylevel=None,\n",
       "                                     colsample_bynode=None,\n",
       "                                     colsample_bytree=None,\n",
       "                                     early_stopping_rounds=None,\n",
       "                                     enable_categorical=False, eval_metric=None,\n",
       "                                     gamma=None, gpu_id=None, grow_policy=None,\n",
       "                                     importance_type=None,\n",
       "                                     interaction_constraints=None,\n",
       "                                     learning_rate=None, max_bin=None,\n",
       "                                     max_cat_to_onehot=None,\n",
       "                                     max_delta_step=None, max_depth=None,\n",
       "                                     max_leaves=None, min_child_weight=None,\n",
       "                                     missing=nan, monotone_constraints=None,\n",
       "                                     n_estimators=100, n_jobs=None,\n",
       "                                     num_parallel_tree=None, predictor=None,\n",
       "                                     random_state=31, reg_alpha=None,\n",
       "                                     reg_lambda=None, ...),\n",
       "             param_grid={'learning_rate': [0.1, 1], 'max_depth': [3, 5, 6],\n",
       "                         'n_estimators': range(50, 101)},\n",
       "             scoring='accuracy')"
      ]
     },
     "execution_count": 110,
     "metadata": {},
     "output_type": "execute_result"
    }
   ],
   "source": [
    "xg2_model = XGBClassifier(random_state = n)\n",
    "param_grid = {\"n_estimators\": range(50, 101), \"max_depth\" : [3, 5, 6], \"learning_rate\" : [0.1, 1],\n",
    "            }\n",
    "xgb_grid = GridSearchCV(xg2_model, param_grid, scoring= 'accuracy', verbose = 0)\n",
    "xgb_grid.fit(X_train, y_train)"
   ]
  },
  {
   "cell_type": "code",
   "execution_count": 111,
   "metadata": {
    "ExecuteTime": {
     "end_time": "2024-03-29T13:25:56.176291Z",
     "start_time": "2024-03-29T13:25:56.162994Z"
    },
    "execution": {
     "iopub.execute_input": "2022-09-14T10:09:26.426171Z",
     "iopub.status.busy": "2022-09-14T10:09:26.425942Z",
     "iopub.status.idle": "2022-09-14T10:09:26.432758Z",
     "shell.execute_reply": "2022-09-14T10:09:26.431825Z",
     "shell.execute_reply.started": "2022-09-14T10:09:26.426144Z"
    }
   },
   "outputs": [
    {
     "data": {
      "text/plain": [
       "{'learning_rate': 1, 'max_depth': 3, 'n_estimators': 50}"
      ]
     },
     "execution_count": 111,
     "metadata": {},
     "output_type": "execute_result"
    }
   ],
   "source": [
    "xgb_grid.best_params_"
   ]
  },
  {
   "cell_type": "code",
   "execution_count": 112,
   "metadata": {
    "ExecuteTime": {
     "end_time": "2024-03-29T13:25:56.955800Z",
     "start_time": "2024-03-29T13:25:56.941837Z"
    },
    "execution": {
     "iopub.execute_input": "2022-09-14T10:09:58.905841Z",
     "iopub.status.busy": "2022-09-14T10:09:58.905496Z",
     "iopub.status.idle": "2022-09-14T10:09:58.928523Z",
     "shell.execute_reply": "2022-09-14T10:09:58.927803Z",
     "shell.execute_reply.started": "2022-09-14T10:09:58.905809Z"
    }
   },
   "outputs": [],
   "source": [
    "y_pred = xgb_grid.predict(X_test)\n",
    "y_train_pred = xgb_grid.predict(X_train)"
   ]
  },
  {
   "cell_type": "code",
   "execution_count": 114,
   "metadata": {
    "ExecuteTime": {
     "end_time": "2024-03-29T13:26:04.791371Z",
     "start_time": "2024-03-29T13:26:04.776112Z"
    },
    "execution": {
     "iopub.execute_input": "2022-09-14T10:10:02.284022Z",
     "iopub.status.busy": "2022-09-14T10:10:02.283127Z",
     "iopub.status.idle": "2022-09-14T10:10:02.291979Z",
     "shell.execute_reply": "2022-09-14T10:10:02.290884Z",
     "shell.execute_reply.started": "2022-09-14T10:10:02.283975Z"
    }
   },
   "outputs": [
    {
     "name": "stdout",
     "output_type": "stream",
     "text": [
      "[[232  34]\n",
      " [ 33 119]]\n"
     ]
    }
   ],
   "source": [
    "print(confusion_matrix(y_test, y_pred))"
   ]
  },
  {
   "cell_type": "code",
   "execution_count": 115,
   "metadata": {
    "ExecuteTime": {
     "end_time": "2024-03-29T13:26:05.461533Z",
     "start_time": "2024-03-29T13:26:05.451318Z"
    },
    "execution": {
     "iopub.execute_input": "2022-09-14T10:10:05.060484Z",
     "iopub.status.busy": "2022-09-14T10:10:05.059344Z",
     "iopub.status.idle": "2022-09-14T10:10:05.068733Z",
     "shell.execute_reply": "2022-09-14T10:10:05.067293Z",
     "shell.execute_reply.started": "2022-09-14T10:10:05.060417Z"
    }
   },
   "outputs": [
    {
     "data": {
      "text/plain": [
       "0.8397129186602871"
      ]
     },
     "execution_count": 115,
     "metadata": {},
     "output_type": "execute_result"
    }
   ],
   "source": [
    "accuracy_score(y_test, y_pred)"
   ]
  },
  {
   "cell_type": "code",
   "execution_count": 116,
   "metadata": {
    "ExecuteTime": {
     "end_time": "2024-03-29T13:26:06.152552Z",
     "start_time": "2024-03-29T13:26:06.144526Z"
    },
    "execution": {
     "iopub.execute_input": "2022-09-14T10:10:13.581603Z",
     "iopub.status.busy": "2022-09-14T10:10:13.581006Z",
     "iopub.status.idle": "2022-09-14T10:10:13.592413Z",
     "shell.execute_reply": "2022-09-14T10:10:13.591565Z",
     "shell.execute_reply.started": "2022-09-14T10:10:13.581553Z"
    }
   },
   "outputs": [
    {
     "name": "stdout",
     "output_type": "stream",
     "text": [
      "[[526  23]\n",
      " [ 37 305]]\n"
     ]
    }
   ],
   "source": [
    "print(confusion_matrix(y_train, y_train_pred))"
   ]
  },
  {
   "cell_type": "code",
   "execution_count": 117,
   "metadata": {
    "ExecuteTime": {
     "end_time": "2024-03-29T13:26:06.802014Z",
     "start_time": "2024-03-29T13:26:06.796920Z"
    },
    "execution": {
     "iopub.execute_input": "2022-09-14T10:10:22.243092Z",
     "iopub.status.busy": "2022-09-14T10:10:22.242764Z",
     "iopub.status.idle": "2022-09-14T10:10:22.250524Z",
     "shell.execute_reply": "2022-09-14T10:10:22.249643Z",
     "shell.execute_reply.started": "2022-09-14T10:10:22.243056Z"
    }
   },
   "outputs": [
    {
     "data": {
      "text/plain": [
       "0.9326599326599326"
      ]
     },
     "execution_count": 117,
     "metadata": {},
     "output_type": "execute_result"
    }
   ],
   "source": [
    "accuracy_score(y_train, y_train_pred)"
   ]
  },
  {
   "cell_type": "code",
   "execution_count": 118,
   "metadata": {
    "ExecuteTime": {
     "end_time": "2024-03-29T13:26:07.897732Z",
     "start_time": "2024-03-29T13:26:07.881041Z"
    },
    "execution": {
     "iopub.execute_input": "2022-09-14T10:10:35.979870Z",
     "iopub.status.busy": "2022-09-14T10:10:35.979600Z",
     "iopub.status.idle": "2022-09-14T10:10:35.988585Z",
     "shell.execute_reply": "2022-09-14T10:10:35.987915Z",
     "shell.execute_reply.started": "2022-09-14T10:10:35.979842Z"
    }
   },
   "outputs": [],
   "source": [
    "xg_grid_test =  accuracy_score(y_test, y_pred)\n",
    "xg_grid_f1_test  = f1_score(y_test, y_pred)\n",
    "xg_grid_acr_train = accuracy_score(y_train, y_train_pred)\n",
    "xg_grid_f1_train  = f1_score(y_train, y_train_pred)"
   ]
  },
  {
   "cell_type": "markdown",
   "metadata": {},
   "source": [
    "## Submission"
   ]
  },
  {
   "cell_type": "code",
   "execution_count": 120,
   "metadata": {
    "ExecuteTime": {
     "end_time": "2024-03-29T13:26:17.357703Z",
     "start_time": "2024-03-29T13:26:17.351225Z"
    },
    "execution": {
     "iopub.execute_input": "2022-09-14T10:10:40.563499Z",
     "iopub.status.busy": "2022-09-14T10:10:40.562945Z",
     "iopub.status.idle": "2022-09-14T10:10:40.576581Z",
     "shell.execute_reply": "2022-09-14T10:10:40.575723Z",
     "shell.execute_reply.started": "2022-09-14T10:10:40.563459Z"
    }
   },
   "outputs": [
    {
     "data": {
      "text/html": [
       "<div>\n",
       "<style scoped>\n",
       "    .dataframe tbody tr th:only-of-type {\n",
       "        vertical-align: middle;\n",
       "    }\n",
       "\n",
       "    .dataframe tbody tr th {\n",
       "        vertical-align: top;\n",
       "    }\n",
       "\n",
       "    .dataframe thead th {\n",
       "        text-align: right;\n",
       "    }\n",
       "</style>\n",
       "<table border=\"1\" class=\"dataframe\">\n",
       "  <thead>\n",
       "    <tr style=\"text-align: right;\">\n",
       "      <th></th>\n",
       "      <th>PassengerId</th>\n",
       "      <th>Survived</th>\n",
       "    </tr>\n",
       "  </thead>\n",
       "  <tbody>\n",
       "    <tr>\n",
       "      <th>0</th>\n",
       "      <td>892</td>\n",
       "      <td>0</td>\n",
       "    </tr>\n",
       "    <tr>\n",
       "      <th>1</th>\n",
       "      <td>893</td>\n",
       "      <td>0</td>\n",
       "    </tr>\n",
       "    <tr>\n",
       "      <th>2</th>\n",
       "      <td>894</td>\n",
       "      <td>0</td>\n",
       "    </tr>\n",
       "    <tr>\n",
       "      <th>3</th>\n",
       "      <td>895</td>\n",
       "      <td>0</td>\n",
       "    </tr>\n",
       "    <tr>\n",
       "      <th>4</th>\n",
       "      <td>896</td>\n",
       "      <td>0</td>\n",
       "    </tr>\n",
       "  </tbody>\n",
       "</table>\n",
       "</div>"
      ],
      "text/plain": [
       "   PassengerId  Survived\n",
       "0          892         0\n",
       "1          893         0\n",
       "2          894         0\n",
       "3          895         0\n",
       "4          896         0"
      ]
     },
     "execution_count": 120,
     "metadata": {},
     "output_type": "execute_result"
    }
   ],
   "source": [
    "submission = pd.DataFrame({'PassengerId':test['PassengerId'],'Survived':y_pred})\n",
    "submission.Survived = submission.Survived.astype(\"int\")\n",
    "submission.head()"
   ]
  },
  {
   "cell_type": "code",
   "execution_count": 121,
   "metadata": {
    "ExecuteTime": {
     "end_time": "2024-03-29T13:26:19.962272Z",
     "start_time": "2024-03-29T13:26:19.943337Z"
    },
    "execution": {
     "iopub.execute_input": "2022-09-14T10:10:49.549721Z",
     "iopub.status.busy": "2022-09-14T10:10:49.549323Z",
     "iopub.status.idle": "2022-09-14T10:10:49.560598Z",
     "shell.execute_reply": "2022-09-14T10:10:49.559540Z",
     "shell.execute_reply.started": "2022-09-14T10:10:49.549682Z"
    }
   },
   "outputs": [
    {
     "name": "stdout",
     "output_type": "stream",
     "text": [
      "Saved file: submission.csv\n"
     ]
    }
   ],
   "source": [
    "filename = 'submission.csv'\n",
    "\n",
    "submission.to_csv(filename,index=False)\n",
    "\n",
    "print('Saved file: ' + filename)"
   ]
  }
 ],
 "metadata": {
  "hide_input": false,
  "kernelspec": {
   "display_name": "Python 3 (ipykernel)",
   "language": "python",
   "name": "python3"
  },
  "language_info": {
   "codemirror_mode": {
    "name": "ipython",
    "version": 3
   },
   "file_extension": ".py",
   "mimetype": "text/x-python",
   "name": "python",
   "nbconvert_exporter": "python",
   "pygments_lexer": "ipython3",
   "version": "3.7.16"
  },
  "toc": {
   "base_numbering": 1,
   "nav_menu": {},
   "number_sections": true,
   "sideBar": true,
   "skip_h1_title": false,
   "title_cell": "Table of Contents",
   "title_sidebar": "Contents",
   "toc_cell": false,
   "toc_position": {},
   "toc_section_display": true,
   "toc_window_display": false
  }
 },
 "nbformat": 4,
 "nbformat_minor": 4
}
