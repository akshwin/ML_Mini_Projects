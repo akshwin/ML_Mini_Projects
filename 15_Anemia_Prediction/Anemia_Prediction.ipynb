{
 "cells": [
  {
   "cell_type": "markdown",
   "id": "d40caa92-d670-426e-80ce-10fc5b4a8416",
   "metadata": {},
   "source": [
    "# ANEMIA PREDICTION "
   ]
  },
  {
   "cell_type": "markdown",
   "id": "2ae881c5-10a8-421b-a561-02b26517a8ab",
   "metadata": {},
   "source": [
    "**IMPORT LIBRARIES**"
   ]
  },
  {
   "cell_type": "code",
   "execution_count": 1,
   "id": "725d94ee-8603-4bb9-976b-ae50cc011a63",
   "metadata": {},
   "outputs": [],
   "source": [
    "import numpy as np \n",
    "import pandas as pd "
   ]
  },
  {
   "cell_type": "code",
   "execution_count": 2,
   "id": "66832faa-3e6d-428f-837f-6f57bb186232",
   "metadata": {},
   "outputs": [
    {
     "data": {
      "text/html": [
       "<div>\n",
       "<style scoped>\n",
       "    .dataframe tbody tr th:only-of-type {\n",
       "        vertical-align: middle;\n",
       "    }\n",
       "\n",
       "    .dataframe tbody tr th {\n",
       "        vertical-align: top;\n",
       "    }\n",
       "\n",
       "    .dataframe thead th {\n",
       "        text-align: right;\n",
       "    }\n",
       "</style>\n",
       "<table border=\"1\" class=\"dataframe\">\n",
       "  <thead>\n",
       "    <tr style=\"text-align: right;\">\n",
       "      <th></th>\n",
       "      <th>Number</th>\n",
       "      <th>Name</th>\n",
       "      <th>%Red Pixel</th>\n",
       "      <th>%Green pixel</th>\n",
       "      <th>%Blue pixel</th>\n",
       "      <th>Hb</th>\n",
       "      <th>Anaemic</th>\n",
       "      <th>Unnamed: 7</th>\n",
       "      <th>Unnamed: 8</th>\n",
       "      <th>Unnamed: 9</th>\n",
       "      <th>Unnamed: 10</th>\n",
       "      <th>Unnamed: 11</th>\n",
       "      <th>Unnamed: 12</th>\n",
       "      <th>Unnamed: 13</th>\n",
       "    </tr>\n",
       "  </thead>\n",
       "  <tbody>\n",
       "    <tr>\n",
       "      <th>0</th>\n",
       "      <td>1</td>\n",
       "      <td>Jafor Alam</td>\n",
       "      <td>43.2555</td>\n",
       "      <td>30.8421</td>\n",
       "      <td>25.9025</td>\n",
       "      <td>6.3</td>\n",
       "      <td>Yes</td>\n",
       "      <td>NaN</td>\n",
       "      <td>NaN</td>\n",
       "      <td>NaN</td>\n",
       "      <td>NaN</td>\n",
       "      <td>NaN</td>\n",
       "      <td>NaN</td>\n",
       "      <td>NaN</td>\n",
       "    </tr>\n",
       "    <tr>\n",
       "      <th>1</th>\n",
       "      <td>2</td>\n",
       "      <td>khadiza</td>\n",
       "      <td>45.6033</td>\n",
       "      <td>28.1900</td>\n",
       "      <td>26.2067</td>\n",
       "      <td>13.5</td>\n",
       "      <td>No</td>\n",
       "      <td>NaN</td>\n",
       "      <td>NaN</td>\n",
       "      <td>NaN</td>\n",
       "      <td>NaN</td>\n",
       "      <td>NaN</td>\n",
       "      <td>NaN</td>\n",
       "      <td>NaN</td>\n",
       "    </tr>\n",
       "    <tr>\n",
       "      <th>2</th>\n",
       "      <td>3</td>\n",
       "      <td>Lalu</td>\n",
       "      <td>45.0107</td>\n",
       "      <td>28.9677</td>\n",
       "      <td>26.0215</td>\n",
       "      <td>11.7</td>\n",
       "      <td>No</td>\n",
       "      <td>NaN</td>\n",
       "      <td>NaN</td>\n",
       "      <td>NaN</td>\n",
       "      <td>NaN</td>\n",
       "      <td>NaN</td>\n",
       "      <td>NaN</td>\n",
       "      <td>NaN</td>\n",
       "    </tr>\n",
       "    <tr>\n",
       "      <th>3</th>\n",
       "      <td>4</td>\n",
       "      <td>Mira nath</td>\n",
       "      <td>44.5398</td>\n",
       "      <td>28.9899</td>\n",
       "      <td>26.4703</td>\n",
       "      <td>13.5</td>\n",
       "      <td>No</td>\n",
       "      <td>NaN</td>\n",
       "      <td>NaN</td>\n",
       "      <td>NaN</td>\n",
       "      <td>NaN</td>\n",
       "      <td>NaN</td>\n",
       "      <td>NaN</td>\n",
       "      <td>NaN</td>\n",
       "    </tr>\n",
       "    <tr>\n",
       "      <th>4</th>\n",
       "      <td>5</td>\n",
       "      <td>monoara</td>\n",
       "      <td>43.2870</td>\n",
       "      <td>30.6972</td>\n",
       "      <td>26.0158</td>\n",
       "      <td>12.4</td>\n",
       "      <td>No</td>\n",
       "      <td>NaN</td>\n",
       "      <td>NaN</td>\n",
       "      <td>NaN</td>\n",
       "      <td>NaN</td>\n",
       "      <td>NaN</td>\n",
       "      <td>NaN</td>\n",
       "      <td>NaN</td>\n",
       "    </tr>\n",
       "  </tbody>\n",
       "</table>\n",
       "</div>"
      ],
      "text/plain": [
       "   Number        Name  %Red Pixel  %Green pixel  %Blue pixel    Hb Anaemic  \\\n",
       "0       1  Jafor Alam     43.2555       30.8421      25.9025   6.3     Yes   \n",
       "1       2     khadiza     45.6033       28.1900      26.2067  13.5      No   \n",
       "2       3        Lalu     45.0107       28.9677      26.0215  11.7      No   \n",
       "3       4   Mira nath     44.5398       28.9899      26.4703  13.5      No   \n",
       "4       5     monoara     43.2870       30.6972      26.0158  12.4      No   \n",
       "\n",
       "   Unnamed: 7  Unnamed: 8  Unnamed: 9  Unnamed: 10  Unnamed: 11  Unnamed: 12  \\\n",
       "0         NaN         NaN         NaN          NaN          NaN          NaN   \n",
       "1         NaN         NaN         NaN          NaN          NaN          NaN   \n",
       "2         NaN         NaN         NaN          NaN          NaN          NaN   \n",
       "3         NaN         NaN         NaN          NaN          NaN          NaN   \n",
       "4         NaN         NaN         NaN          NaN          NaN          NaN   \n",
       "\n",
       "  Unnamed: 13  \n",
       "0         NaN  \n",
       "1         NaN  \n",
       "2         NaN  \n",
       "3         NaN  \n",
       "4         NaN  "
      ]
     },
     "execution_count": 2,
     "metadata": {},
     "output_type": "execute_result"
    }
   ],
   "source": [
    "df = pd.read_csv('anemia_dataset.csv')\n",
    "df.head()"
   ]
  },
  {
   "cell_type": "markdown",
   "id": "70299667-db32-43a0-9a68-fc97cc9547cf",
   "metadata": {},
   "source": [
    "**EXPLORATORY DATA ANALYSIS**"
   ]
  },
  {
   "cell_type": "code",
   "execution_count": 3,
   "id": "c77a9a3c-fa51-4a67-a378-ac140741428c",
   "metadata": {},
   "outputs": [
    {
     "data": {
      "text/plain": [
       "(104, 14)"
      ]
     },
     "execution_count": 3,
     "metadata": {},
     "output_type": "execute_result"
    }
   ],
   "source": [
    "df.shape"
   ]
  },
  {
   "cell_type": "code",
   "execution_count": 4,
   "id": "2ff74677-10ac-4799-9ac8-3a26ab7363f3",
   "metadata": {},
   "outputs": [
    {
     "data": {
      "text/plain": [
       "Number            0\n",
       "Name              0\n",
       "%Red Pixel        0\n",
       "%Green pixel      0\n",
       "%Blue pixel       0\n",
       "Hb                0\n",
       "Anaemic           0\n",
       "Unnamed: 7      104\n",
       "Unnamed: 8      104\n",
       "Unnamed: 9      104\n",
       "Unnamed: 10     104\n",
       "Unnamed: 11     104\n",
       "Unnamed: 12     104\n",
       "Unnamed: 13     103\n",
       "dtype: int64"
      ]
     },
     "execution_count": 4,
     "metadata": {},
     "output_type": "execute_result"
    }
   ],
   "source": [
    "df.isnull().sum()"
   ]
  },
  {
   "cell_type": "code",
   "execution_count": 5,
   "id": "5998d1f1-6b00-43a0-8b2b-f3da9c9abf29",
   "metadata": {},
   "outputs": [],
   "source": [
    "df = df.drop(['Unnamed: 7','Unnamed: 8','Unnamed: 9','Unnamed: 10','Unnamed: 11','Unnamed: 12','Unnamed: 13'],axis=1)"
   ]
  },
  {
   "cell_type": "code",
   "execution_count": 6,
   "id": "54bea48c-9c06-4a21-93ba-87d3d5f98c62",
   "metadata": {},
   "outputs": [
    {
     "data": {
      "text/html": [
       "<div>\n",
       "<style scoped>\n",
       "    .dataframe tbody tr th:only-of-type {\n",
       "        vertical-align: middle;\n",
       "    }\n",
       "\n",
       "    .dataframe tbody tr th {\n",
       "        vertical-align: top;\n",
       "    }\n",
       "\n",
       "    .dataframe thead th {\n",
       "        text-align: right;\n",
       "    }\n",
       "</style>\n",
       "<table border=\"1\" class=\"dataframe\">\n",
       "  <thead>\n",
       "    <tr style=\"text-align: right;\">\n",
       "      <th></th>\n",
       "      <th>Number</th>\n",
       "      <th>Name</th>\n",
       "      <th>%Red Pixel</th>\n",
       "      <th>%Green pixel</th>\n",
       "      <th>%Blue pixel</th>\n",
       "      <th>Hb</th>\n",
       "      <th>Anaemic</th>\n",
       "    </tr>\n",
       "  </thead>\n",
       "  <tbody>\n",
       "    <tr>\n",
       "      <th>0</th>\n",
       "      <td>1</td>\n",
       "      <td>Jafor Alam</td>\n",
       "      <td>43.2555</td>\n",
       "      <td>30.8421</td>\n",
       "      <td>25.9025</td>\n",
       "      <td>6.3</td>\n",
       "      <td>Yes</td>\n",
       "    </tr>\n",
       "    <tr>\n",
       "      <th>1</th>\n",
       "      <td>2</td>\n",
       "      <td>khadiza</td>\n",
       "      <td>45.6033</td>\n",
       "      <td>28.1900</td>\n",
       "      <td>26.2067</td>\n",
       "      <td>13.5</td>\n",
       "      <td>No</td>\n",
       "    </tr>\n",
       "    <tr>\n",
       "      <th>2</th>\n",
       "      <td>3</td>\n",
       "      <td>Lalu</td>\n",
       "      <td>45.0107</td>\n",
       "      <td>28.9677</td>\n",
       "      <td>26.0215</td>\n",
       "      <td>11.7</td>\n",
       "      <td>No</td>\n",
       "    </tr>\n",
       "    <tr>\n",
       "      <th>3</th>\n",
       "      <td>4</td>\n",
       "      <td>Mira nath</td>\n",
       "      <td>44.5398</td>\n",
       "      <td>28.9899</td>\n",
       "      <td>26.4703</td>\n",
       "      <td>13.5</td>\n",
       "      <td>No</td>\n",
       "    </tr>\n",
       "    <tr>\n",
       "      <th>4</th>\n",
       "      <td>5</td>\n",
       "      <td>monoara</td>\n",
       "      <td>43.2870</td>\n",
       "      <td>30.6972</td>\n",
       "      <td>26.0158</td>\n",
       "      <td>12.4</td>\n",
       "      <td>No</td>\n",
       "    </tr>\n",
       "  </tbody>\n",
       "</table>\n",
       "</div>"
      ],
      "text/plain": [
       "   Number        Name  %Red Pixel  %Green pixel  %Blue pixel    Hb Anaemic\n",
       "0       1  Jafor Alam     43.2555       30.8421      25.9025   6.3     Yes\n",
       "1       2     khadiza     45.6033       28.1900      26.2067  13.5      No\n",
       "2       3        Lalu     45.0107       28.9677      26.0215  11.7      No\n",
       "3       4   Mira nath     44.5398       28.9899      26.4703  13.5      No\n",
       "4       5     monoara     43.2870       30.6972      26.0158  12.4      No"
      ]
     },
     "execution_count": 6,
     "metadata": {},
     "output_type": "execute_result"
    }
   ],
   "source": [
    "df.head()"
   ]
  },
  {
   "cell_type": "code",
   "execution_count": 7,
   "id": "73315c43-d75a-4371-87ec-896bf5d0b94d",
   "metadata": {},
   "outputs": [
    {
     "data": {
      "text/plain": [
       "Number            int64\n",
       "Name             object\n",
       "%Red Pixel      float64\n",
       "%Green pixel    float64\n",
       "%Blue pixel     float64\n",
       "Hb              float64\n",
       "Anaemic          object\n",
       "dtype: object"
      ]
     },
     "execution_count": 7,
     "metadata": {},
     "output_type": "execute_result"
    }
   ],
   "source": [
    "df.dtypes"
   ]
  },
  {
   "cell_type": "code",
   "execution_count": 8,
   "id": "c2f14924-ad01-483c-97ec-9bbce355e5e4",
   "metadata": {},
   "outputs": [],
   "source": [
    "df = df.drop('Name',axis=1)"
   ]
  },
  {
   "cell_type": "code",
   "execution_count": 9,
   "id": "ca439dcd-ba5d-46cc-abc1-9af64090cb27",
   "metadata": {},
   "outputs": [
    {
     "data": {
      "text/plain": [
       "Number            int64\n",
       "%Red Pixel      float64\n",
       "%Green pixel    float64\n",
       "%Blue pixel     float64\n",
       "Hb              float64\n",
       "Anaemic          object\n",
       "dtype: object"
      ]
     },
     "execution_count": 9,
     "metadata": {},
     "output_type": "execute_result"
    }
   ],
   "source": [
    "df.dtypes"
   ]
  },
  {
   "cell_type": "code",
   "execution_count": 10,
   "id": "205e4b03-828f-4140-9654-aaee29314318",
   "metadata": {},
   "outputs": [],
   "source": [
    "x = df.drop('Anaemic',axis=1)"
   ]
  },
  {
   "cell_type": "code",
   "execution_count": 11,
   "id": "8326cfd6-77cf-4d2d-b47e-926d6d8fe3c0",
   "metadata": {},
   "outputs": [
    {
     "data": {
      "text/html": [
       "<div>\n",
       "<style scoped>\n",
       "    .dataframe tbody tr th:only-of-type {\n",
       "        vertical-align: middle;\n",
       "    }\n",
       "\n",
       "    .dataframe tbody tr th {\n",
       "        vertical-align: top;\n",
       "    }\n",
       "\n",
       "    .dataframe thead th {\n",
       "        text-align: right;\n",
       "    }\n",
       "</style>\n",
       "<table border=\"1\" class=\"dataframe\">\n",
       "  <thead>\n",
       "    <tr style=\"text-align: right;\">\n",
       "      <th></th>\n",
       "      <th>Number</th>\n",
       "      <th>%Red Pixel</th>\n",
       "      <th>%Green pixel</th>\n",
       "      <th>%Blue pixel</th>\n",
       "      <th>Hb</th>\n",
       "    </tr>\n",
       "  </thead>\n",
       "  <tbody>\n",
       "    <tr>\n",
       "      <th>0</th>\n",
       "      <td>1</td>\n",
       "      <td>43.2555</td>\n",
       "      <td>30.8421</td>\n",
       "      <td>25.9025</td>\n",
       "      <td>6.3</td>\n",
       "    </tr>\n",
       "    <tr>\n",
       "      <th>1</th>\n",
       "      <td>2</td>\n",
       "      <td>45.6033</td>\n",
       "      <td>28.1900</td>\n",
       "      <td>26.2067</td>\n",
       "      <td>13.5</td>\n",
       "    </tr>\n",
       "    <tr>\n",
       "      <th>2</th>\n",
       "      <td>3</td>\n",
       "      <td>45.0107</td>\n",
       "      <td>28.9677</td>\n",
       "      <td>26.0215</td>\n",
       "      <td>11.7</td>\n",
       "    </tr>\n",
       "    <tr>\n",
       "      <th>3</th>\n",
       "      <td>4</td>\n",
       "      <td>44.5398</td>\n",
       "      <td>28.9899</td>\n",
       "      <td>26.4703</td>\n",
       "      <td>13.5</td>\n",
       "    </tr>\n",
       "    <tr>\n",
       "      <th>4</th>\n",
       "      <td>5</td>\n",
       "      <td>43.2870</td>\n",
       "      <td>30.6972</td>\n",
       "      <td>26.0158</td>\n",
       "      <td>12.4</td>\n",
       "    </tr>\n",
       "  </tbody>\n",
       "</table>\n",
       "</div>"
      ],
      "text/plain": [
       "   Number  %Red Pixel  %Green pixel  %Blue pixel    Hb\n",
       "0       1     43.2555       30.8421      25.9025   6.3\n",
       "1       2     45.6033       28.1900      26.2067  13.5\n",
       "2       3     45.0107       28.9677      26.0215  11.7\n",
       "3       4     44.5398       28.9899      26.4703  13.5\n",
       "4       5     43.2870       30.6972      26.0158  12.4"
      ]
     },
     "execution_count": 11,
     "metadata": {},
     "output_type": "execute_result"
    }
   ],
   "source": [
    "x.head()"
   ]
  },
  {
   "cell_type": "code",
   "execution_count": 12,
   "id": "f1b9a9c1-a267-42b2-8fea-c07cc4d52e14",
   "metadata": {},
   "outputs": [
    {
     "data": {
      "text/plain": [
       "(104, 5)"
      ]
     },
     "execution_count": 12,
     "metadata": {},
     "output_type": "execute_result"
    }
   ],
   "source": [
    "x.shape"
   ]
  },
  {
   "cell_type": "code",
   "execution_count": 13,
   "id": "8cd4e9c2-edd3-48ef-b44e-25d3fc011c21",
   "metadata": {},
   "outputs": [],
   "source": [
    "y = df['Anaemic']"
   ]
  },
  {
   "cell_type": "code",
   "execution_count": 14,
   "id": "a7ccf19c-925d-4eec-b58b-07f5a76d9911",
   "metadata": {},
   "outputs": [
    {
     "data": {
      "text/plain": [
       "0      Yes\n",
       "1       No\n",
       "2       No\n",
       "3       No\n",
       "4       No\n",
       "      ... \n",
       "99     Yes\n",
       "100    Yes\n",
       "101     No\n",
       "102     No\n",
       "103     No\n",
       "Name: Anaemic, Length: 104, dtype: object"
      ]
     },
     "execution_count": 14,
     "metadata": {},
     "output_type": "execute_result"
    }
   ],
   "source": [
    "y"
   ]
  },
  {
   "cell_type": "code",
   "execution_count": 15,
   "id": "e593b108-f214-410f-9978-308f12bcf58e",
   "metadata": {},
   "outputs": [
    {
     "data": {
      "text/plain": [
       "array([1, 0, 0, 0, 0, 0, 1, 0, 0, 1, 0, 0, 1, 1, 0, 0, 1, 1, 0, 1, 0, 0,\n",
       "       0, 0, 1, 0, 0, 0, 0, 0, 0, 0, 0, 0, 0, 0, 0, 0, 0, 0, 0, 0, 0, 0,\n",
       "       0, 0, 0, 0, 0, 0, 0, 0, 0, 0, 0, 0, 0, 0, 1, 0, 0, 1, 0, 1, 1, 0,\n",
       "       1, 0, 1, 1, 0, 1, 0, 0, 0, 0, 1, 1, 1, 1, 0, 0, 1, 0, 0, 0, 0, 0,\n",
       "       0, 0, 0, 1, 0, 0, 1, 0, 0, 0, 0, 1, 1, 0, 0, 0])"
      ]
     },
     "execution_count": 15,
     "metadata": {},
     "output_type": "execute_result"
    }
   ],
   "source": [
    "from sklearn.preprocessing import LabelEncoder\n",
    "\n",
    "encoder = LabelEncoder()\n",
    "\n",
    "y = encoder.fit_transform(y)\n",
    "y"
   ]
  },
  {
   "cell_type": "code",
   "execution_count": 16,
   "id": "26ecdacf-4529-4373-9371-6b411bebea4d",
   "metadata": {},
   "outputs": [
    {
     "data": {
      "text/plain": [
       "(104,)"
      ]
     },
     "execution_count": 16,
     "metadata": {},
     "output_type": "execute_result"
    }
   ],
   "source": [
    "y.shape"
   ]
  },
  {
   "cell_type": "markdown",
   "id": "4bede082-f2be-4daf-b349-5d88b1d63e96",
   "metadata": {},
   "source": [
    "**MODEL BUILDING**"
   ]
  },
  {
   "cell_type": "code",
   "execution_count": 17,
   "id": "23ba7e73-f540-4f28-ab2d-c42caf642879",
   "metadata": {},
   "outputs": [],
   "source": [
    "from sklearn.model_selection import train_test_split \n",
    "\n",
    "x_train,x_test,y_train,y_test = train_test_split(x,y,test_size = 0.3,random_state = 2)"
   ]
  },
  {
   "cell_type": "code",
   "execution_count": 18,
   "id": "c0bb288c-e33c-414a-9796-79bf8e1f2d5e",
   "metadata": {},
   "outputs": [
    {
     "data": {
      "text/plain": [
       "(72, 5)"
      ]
     },
     "execution_count": 18,
     "metadata": {},
     "output_type": "execute_result"
    }
   ],
   "source": [
    "x_train.shape"
   ]
  },
  {
   "cell_type": "code",
   "execution_count": 19,
   "id": "ce702c33-78ea-4e0b-b4b5-ec045dbf9afe",
   "metadata": {},
   "outputs": [],
   "source": [
    "import tensorflow as tf \n",
    "from tensorflow import keras"
   ]
  },
  {
   "cell_type": "code",
   "execution_count": 20,
   "id": "e4d95612-12c9-466c-af26-1da820261138",
   "metadata": {},
   "outputs": [
    {
     "data": {
      "text/plain": [
       "(32, 5)"
      ]
     },
     "execution_count": 20,
     "metadata": {},
     "output_type": "execute_result"
    }
   ],
   "source": [
    "x_test.shape"
   ]
  },
  {
   "cell_type": "code",
   "execution_count": 21,
   "id": "59819758-fa4e-4225-8f2c-b6128cf5a815",
   "metadata": {},
   "outputs": [
    {
     "data": {
      "text/plain": [
       "(72,)"
      ]
     },
     "execution_count": 21,
     "metadata": {},
     "output_type": "execute_result"
    }
   ],
   "source": [
    "y_train.shape"
   ]
  },
  {
   "cell_type": "code",
   "execution_count": 22,
   "id": "57dab352-53f9-47fe-a35e-a0c9a3754d2a",
   "metadata": {},
   "outputs": [
    {
     "data": {
      "text/plain": [
       "(32,)"
      ]
     },
     "execution_count": 22,
     "metadata": {},
     "output_type": "execute_result"
    }
   ],
   "source": [
    "y_test.shape"
   ]
  },
  {
   "cell_type": "code",
   "execution_count": 23,
   "id": "705878c6-6ec1-433e-8a4a-e29c8ccdc694",
   "metadata": {},
   "outputs": [],
   "source": [
    "model = keras.Sequential([\n",
    "    keras.layers.Dense(80,input_dim=5,activation='relu'),\n",
    "    keras.layers.Dense(30,activation='relu'),\n",
    "    keras.layers.Dense(15,activation='relu'),\n",
    "    keras.layers.Dense(1,activation='sigmoid')])"
   ]
  },
  {
   "cell_type": "code",
   "execution_count": 24,
   "id": "73ec4153-8dc6-42ca-9485-a9c1eeb133b7",
   "metadata": {},
   "outputs": [],
   "source": [
    "model.compile(loss = 'binary_crossentropy',optimizer='adam',metrics=['accuracy'])"
   ]
  },
  {
   "cell_type": "code",
   "execution_count": 25,
   "id": "6e5ff1b2-f532-4a5b-875a-2110f3531508",
   "metadata": {},
   "outputs": [
    {
     "name": "stdout",
     "output_type": "stream",
     "text": [
      "Epoch 1/100\n",
      "7/7 [==============================] - 1s 36ms/step - loss: 0.8084 - accuracy: 0.7400 - val_loss: 1.0566 - val_accuracy: 0.1364\n",
      "Epoch 2/100\n",
      "7/7 [==============================] - 0s 8ms/step - loss: 0.6208 - accuracy: 0.5800 - val_loss: 0.3404 - val_accuracy: 0.9091\n",
      "Epoch 3/100\n",
      "7/7 [==============================] - 0s 8ms/step - loss: 0.5616 - accuracy: 0.6800 - val_loss: 0.5639 - val_accuracy: 0.7273\n",
      "Epoch 4/100\n",
      "7/7 [==============================] - 0s 7ms/step - loss: 0.4760 - accuracy: 0.8200 - val_loss: 0.4333 - val_accuracy: 0.8182\n",
      "Epoch 5/100\n",
      "7/7 [==============================] - 0s 6ms/step - loss: 0.4277 - accuracy: 0.7200 - val_loss: 0.2567 - val_accuracy: 0.9091\n",
      "Epoch 6/100\n",
      "7/7 [==============================] - 0s 8ms/step - loss: 0.4390 - accuracy: 0.8400 - val_loss: 0.3436 - val_accuracy: 1.0000\n",
      "Epoch 7/100\n",
      "7/7 [==============================] - 0s 7ms/step - loss: 0.4397 - accuracy: 0.8400 - val_loss: 0.4428 - val_accuracy: 0.8182\n",
      "Epoch 8/100\n",
      "7/7 [==============================] - 0s 6ms/step - loss: 0.4088 - accuracy: 0.8600 - val_loss: 0.4709 - val_accuracy: 0.7727\n",
      "Epoch 9/100\n",
      "7/7 [==============================] - 0s 7ms/step - loss: 0.4189 - accuracy: 0.8200 - val_loss: 0.2508 - val_accuracy: 0.9091\n",
      "Epoch 10/100\n",
      "7/7 [==============================] - 0s 7ms/step - loss: 0.4043 - accuracy: 0.7400 - val_loss: 0.2110 - val_accuracy: 0.9091\n",
      "Epoch 11/100\n",
      "7/7 [==============================] - 0s 7ms/step - loss: 0.3435 - accuracy: 0.9000 - val_loss: 0.4387 - val_accuracy: 0.7727\n",
      "Epoch 12/100\n",
      "7/7 [==============================] - 0s 6ms/step - loss: 0.3498 - accuracy: 0.8800 - val_loss: 0.3307 - val_accuracy: 0.8182\n",
      "Epoch 13/100\n",
      "7/7 [==============================] - 0s 7ms/step - loss: 0.3396 - accuracy: 0.9200 - val_loss: 0.3617 - val_accuracy: 0.8182\n",
      "Epoch 14/100\n",
      "7/7 [==============================] - 0s 8ms/step - loss: 0.3074 - accuracy: 0.9400 - val_loss: 0.3064 - val_accuracy: 0.8182\n",
      "Epoch 15/100\n",
      "7/7 [==============================] - 0s 6ms/step - loss: 0.2960 - accuracy: 0.9200 - val_loss: 0.3691 - val_accuracy: 0.8182\n",
      "Epoch 16/100\n",
      "7/7 [==============================] - 0s 7ms/step - loss: 0.3003 - accuracy: 0.8800 - val_loss: 0.3570 - val_accuracy: 0.8636\n",
      "Epoch 17/100\n",
      "7/7 [==============================] - 0s 7ms/step - loss: 0.2887 - accuracy: 0.9000 - val_loss: 0.3225 - val_accuracy: 0.8182\n",
      "Epoch 18/100\n",
      "7/7 [==============================] - 0s 7ms/step - loss: 0.2789 - accuracy: 0.9400 - val_loss: 0.3227 - val_accuracy: 0.8182\n",
      "Epoch 19/100\n",
      "7/7 [==============================] - 0s 7ms/step - loss: 0.2646 - accuracy: 0.8800 - val_loss: 0.3454 - val_accuracy: 0.8636\n",
      "Epoch 20/100\n",
      "7/7 [==============================] - 0s 6ms/step - loss: 0.2706 - accuracy: 0.8800 - val_loss: 0.2980 - val_accuracy: 0.8182\n",
      "Epoch 21/100\n",
      "7/7 [==============================] - 0s 5ms/step - loss: 0.2790 - accuracy: 0.9200 - val_loss: 0.2691 - val_accuracy: 0.7727\n",
      "Epoch 22/100\n",
      "7/7 [==============================] - 0s 7ms/step - loss: 0.2686 - accuracy: 0.8800 - val_loss: 0.4418 - val_accuracy: 0.8182\n",
      "Epoch 23/100\n",
      "7/7 [==============================] - 0s 7ms/step - loss: 0.2833 - accuracy: 0.8400 - val_loss: 0.2100 - val_accuracy: 0.9545\n",
      "Epoch 24/100\n",
      "7/7 [==============================] - 0s 5ms/step - loss: 0.2684 - accuracy: 0.9200 - val_loss: 0.4331 - val_accuracy: 0.8182\n",
      "Epoch 25/100\n",
      "7/7 [==============================] - 0s 7ms/step - loss: 0.2759 - accuracy: 0.8800 - val_loss: 0.2720 - val_accuracy: 0.8182\n",
      "Epoch 26/100\n",
      "7/7 [==============================] - 0s 7ms/step - loss: 0.2780 - accuracy: 0.9000 - val_loss: 0.2262 - val_accuracy: 0.8636\n",
      "Epoch 27/100\n",
      "7/7 [==============================] - 0s 8ms/step - loss: 0.3017 - accuracy: 0.8600 - val_loss: 0.3178 - val_accuracy: 0.8636\n",
      "Epoch 28/100\n",
      "7/7 [==============================] - 0s 8ms/step - loss: 0.2640 - accuracy: 0.8800 - val_loss: 0.3039 - val_accuracy: 0.8636\n",
      "Epoch 29/100\n",
      "7/7 [==============================] - 0s 8ms/step - loss: 0.2432 - accuracy: 0.9400 - val_loss: 0.1839 - val_accuracy: 0.9091\n",
      "Epoch 30/100\n",
      "7/7 [==============================] - 0s 7ms/step - loss: 0.2408 - accuracy: 0.9400 - val_loss: 0.3304 - val_accuracy: 0.8636\n",
      "Epoch 31/100\n",
      "7/7 [==============================] - 0s 7ms/step - loss: 0.3396 - accuracy: 0.8200 - val_loss: 0.2533 - val_accuracy: 0.9091\n",
      "Epoch 32/100\n",
      "7/7 [==============================] - 0s 7ms/step - loss: 0.2673 - accuracy: 0.8800 - val_loss: 0.2440 - val_accuracy: 0.8182\n",
      "Epoch 33/100\n",
      "7/7 [==============================] - 0s 7ms/step - loss: 0.2216 - accuracy: 0.9400 - val_loss: 0.3962 - val_accuracy: 0.7727\n",
      "Epoch 34/100\n",
      "7/7 [==============================] - 0s 8ms/step - loss: 0.2668 - accuracy: 0.8600 - val_loss: 0.2032 - val_accuracy: 0.8182\n",
      "Epoch 35/100\n",
      "7/7 [==============================] - 0s 11ms/step - loss: 0.3424 - accuracy: 0.8200 - val_loss: 0.1869 - val_accuracy: 0.9091\n",
      "Epoch 36/100\n",
      "7/7 [==============================] - 0s 8ms/step - loss: 0.2622 - accuracy: 0.8600 - val_loss: 0.3461 - val_accuracy: 0.8636\n",
      "Epoch 37/100\n",
      "7/7 [==============================] - 0s 10ms/step - loss: 0.2462 - accuracy: 0.9400 - val_loss: 0.2900 - val_accuracy: 0.7727\n",
      "Epoch 38/100\n",
      "7/7 [==============================] - 0s 11ms/step - loss: 0.2223 - accuracy: 0.9200 - val_loss: 0.3772 - val_accuracy: 0.8182\n",
      "Epoch 39/100\n",
      "7/7 [==============================] - 0s 10ms/step - loss: 0.3187 - accuracy: 0.8600 - val_loss: 0.2185 - val_accuracy: 0.9091\n",
      "Epoch 40/100\n",
      "7/7 [==============================] - 0s 8ms/step - loss: 0.3058 - accuracy: 0.9000 - val_loss: 0.2185 - val_accuracy: 0.8182\n",
      "Epoch 41/100\n",
      "7/7 [==============================] - 0s 9ms/step - loss: 0.2942 - accuracy: 0.8400 - val_loss: 0.3846 - val_accuracy: 0.7727\n",
      "Epoch 42/100\n",
      "7/7 [==============================] - 0s 7ms/step - loss: 0.2202 - accuracy: 0.9200 - val_loss: 0.2019 - val_accuracy: 0.8636\n",
      "Epoch 43/100\n",
      "7/7 [==============================] - 0s 7ms/step - loss: 0.2191 - accuracy: 0.9200 - val_loss: 0.2597 - val_accuracy: 0.8636\n",
      "Epoch 44/100\n",
      "7/7 [==============================] - 0s 8ms/step - loss: 0.1925 - accuracy: 0.9400 - val_loss: 0.2493 - val_accuracy: 0.8636\n",
      "Epoch 45/100\n",
      "7/7 [==============================] - 0s 8ms/step - loss: 0.2122 - accuracy: 0.9200 - val_loss: 0.2066 - val_accuracy: 0.9091\n",
      "Epoch 46/100\n",
      "7/7 [==============================] - 0s 8ms/step - loss: 0.1937 - accuracy: 0.9400 - val_loss: 0.2681 - val_accuracy: 0.8636\n",
      "Epoch 47/100\n",
      "7/7 [==============================] - 0s 8ms/step - loss: 0.1939 - accuracy: 0.9400 - val_loss: 0.3164 - val_accuracy: 0.8636\n",
      "Epoch 48/100\n",
      "7/7 [==============================] - 0s 7ms/step - loss: 0.1953 - accuracy: 0.9200 - val_loss: 0.3333 - val_accuracy: 0.8636\n",
      "Epoch 49/100\n",
      "7/7 [==============================] - 0s 8ms/step - loss: 0.2879 - accuracy: 0.8600 - val_loss: 0.1626 - val_accuracy: 0.9545\n",
      "Epoch 50/100\n",
      "7/7 [==============================] - 0s 8ms/step - loss: 0.2547 - accuracy: 0.9200 - val_loss: 0.2780 - val_accuracy: 0.8636\n",
      "Epoch 51/100\n",
      "7/7 [==============================] - 0s 6ms/step - loss: 0.3759 - accuracy: 0.8000 - val_loss: 0.3547 - val_accuracy: 0.8636\n",
      "Epoch 52/100\n",
      "7/7 [==============================] - 0s 10ms/step - loss: 0.2404 - accuracy: 0.9000 - val_loss: 0.1754 - val_accuracy: 0.9091\n",
      "Epoch 53/100\n",
      "7/7 [==============================] - 0s 11ms/step - loss: 0.2545 - accuracy: 0.9200 - val_loss: 0.3982 - val_accuracy: 0.7727\n",
      "Epoch 54/100\n",
      "7/7 [==============================] - 0s 9ms/step - loss: 0.2382 - accuracy: 0.9200 - val_loss: 0.2223 - val_accuracy: 0.8636\n",
      "Epoch 55/100\n",
      "7/7 [==============================] - 0s 8ms/step - loss: 0.1890 - accuracy: 0.9600 - val_loss: 0.2728 - val_accuracy: 0.8636\n",
      "Epoch 56/100\n",
      "7/7 [==============================] - 0s 9ms/step - loss: 0.1807 - accuracy: 0.9600 - val_loss: 0.2490 - val_accuracy: 0.9091\n",
      "Epoch 57/100\n",
      "7/7 [==============================] - 0s 7ms/step - loss: 0.1930 - accuracy: 0.9200 - val_loss: 0.1868 - val_accuracy: 0.8636\n",
      "Epoch 58/100\n",
      "7/7 [==============================] - 0s 7ms/step - loss: 0.1936 - accuracy: 0.9600 - val_loss: 0.2758 - val_accuracy: 0.8636\n",
      "Epoch 59/100\n",
      "7/7 [==============================] - 0s 8ms/step - loss: 0.1838 - accuracy: 0.9200 - val_loss: 0.2836 - val_accuracy: 0.8636\n",
      "Epoch 60/100\n",
      "7/7 [==============================] - 0s 7ms/step - loss: 0.1994 - accuracy: 0.9000 - val_loss: 0.2395 - val_accuracy: 0.9091\n",
      "Epoch 61/100\n",
      "7/7 [==============================] - 0s 9ms/step - loss: 0.2271 - accuracy: 0.9200 - val_loss: 0.2397 - val_accuracy: 0.9091\n",
      "Epoch 62/100\n",
      "7/7 [==============================] - 0s 7ms/step - loss: 0.1881 - accuracy: 0.9200 - val_loss: 0.2564 - val_accuracy: 0.9091\n",
      "Epoch 63/100\n",
      "7/7 [==============================] - 0s 8ms/step - loss: 0.1625 - accuracy: 0.9800 - val_loss: 0.2230 - val_accuracy: 0.9091\n",
      "Epoch 64/100\n",
      "7/7 [==============================] - 0s 8ms/step - loss: 0.1743 - accuracy: 0.9600 - val_loss: 0.3062 - val_accuracy: 0.8636\n",
      "Epoch 65/100\n",
      "7/7 [==============================] - 0s 7ms/step - loss: 0.1993 - accuracy: 0.9000 - val_loss: 0.2016 - val_accuracy: 0.9091\n",
      "Epoch 66/100\n",
      "7/7 [==============================] - 0s 6ms/step - loss: 0.1735 - accuracy: 0.9800 - val_loss: 0.2094 - val_accuracy: 0.9091\n",
      "Epoch 67/100\n",
      "7/7 [==============================] - 0s 7ms/step - loss: 0.1772 - accuracy: 0.9200 - val_loss: 0.2461 - val_accuracy: 0.9091\n",
      "Epoch 68/100\n",
      "7/7 [==============================] - 0s 7ms/step - loss: 0.1854 - accuracy: 0.9800 - val_loss: 0.2487 - val_accuracy: 0.9091\n",
      "Epoch 69/100\n",
      "7/7 [==============================] - 0s 7ms/step - loss: 0.2048 - accuracy: 0.9200 - val_loss: 0.2555 - val_accuracy: 0.9091\n",
      "Epoch 70/100\n",
      "7/7 [==============================] - 0s 7ms/step - loss: 0.2076 - accuracy: 0.9200 - val_loss: 0.2592 - val_accuracy: 0.8182\n",
      "Epoch 71/100\n",
      "7/7 [==============================] - 0s 7ms/step - loss: 0.1652 - accuracy: 0.9600 - val_loss: 0.3645 - val_accuracy: 0.8636\n",
      "Epoch 72/100\n",
      "7/7 [==============================] - 0s 7ms/step - loss: 0.1658 - accuracy: 0.9200 - val_loss: 0.2444 - val_accuracy: 0.9091\n",
      "Epoch 73/100\n",
      "7/7 [==============================] - 0s 8ms/step - loss: 0.1548 - accuracy: 0.9800 - val_loss: 0.2154 - val_accuracy: 0.9091\n",
      "Epoch 74/100\n",
      "7/7 [==============================] - 0s 7ms/step - loss: 0.1627 - accuracy: 0.9800 - val_loss: 0.2689 - val_accuracy: 0.8636\n",
      "Epoch 75/100\n",
      "7/7 [==============================] - 0s 8ms/step - loss: 0.1659 - accuracy: 0.9400 - val_loss: 0.2841 - val_accuracy: 0.9091\n",
      "Epoch 76/100\n",
      "7/7 [==============================] - 0s 7ms/step - loss: 0.1829 - accuracy: 0.9600 - val_loss: 0.3545 - val_accuracy: 0.8636\n",
      "Epoch 77/100\n",
      "7/7 [==============================] - 0s 7ms/step - loss: 0.1771 - accuracy: 0.9800 - val_loss: 0.3678 - val_accuracy: 0.8636\n",
      "Epoch 78/100\n",
      "7/7 [==============================] - 0s 8ms/step - loss: 0.1599 - accuracy: 0.9600 - val_loss: 0.1712 - val_accuracy: 0.9545\n",
      "Epoch 79/100\n",
      "7/7 [==============================] - 0s 6ms/step - loss: 0.1645 - accuracy: 0.9800 - val_loss: 0.2086 - val_accuracy: 0.9091\n",
      "Epoch 80/100\n",
      "7/7 [==============================] - 0s 7ms/step - loss: 0.1520 - accuracy: 0.9800 - val_loss: 0.2689 - val_accuracy: 0.9091\n",
      "Epoch 81/100\n",
      "7/7 [==============================] - 0s 7ms/step - loss: 0.2906 - accuracy: 0.8800 - val_loss: 0.2320 - val_accuracy: 0.9091\n",
      "Epoch 82/100\n",
      "7/7 [==============================] - 0s 10ms/step - loss: 0.2350 - accuracy: 0.9200 - val_loss: 0.1803 - val_accuracy: 0.9091\n",
      "Epoch 83/100\n",
      "7/7 [==============================] - 0s 10ms/step - loss: 0.3444 - accuracy: 0.8400 - val_loss: 0.3827 - val_accuracy: 0.7727\n",
      "Epoch 84/100\n",
      "7/7 [==============================] - 0s 7ms/step - loss: 0.2459 - accuracy: 0.8400 - val_loss: 0.2415 - val_accuracy: 0.8182\n",
      "Epoch 85/100\n",
      "7/7 [==============================] - 0s 7ms/step - loss: 0.1756 - accuracy: 0.9600 - val_loss: 0.3724 - val_accuracy: 0.8636\n",
      "Epoch 86/100\n",
      "7/7 [==============================] - 0s 6ms/step - loss: 0.1794 - accuracy: 0.9000 - val_loss: 0.2707 - val_accuracy: 0.9091\n",
      "Epoch 87/100\n",
      "7/7 [==============================] - 0s 7ms/step - loss: 0.1934 - accuracy: 0.9600 - val_loss: 0.2279 - val_accuracy: 0.8182\n",
      "Epoch 88/100\n",
      "7/7 [==============================] - 0s 7ms/step - loss: 0.1489 - accuracy: 0.9800 - val_loss: 0.4092 - val_accuracy: 0.8636\n",
      "Epoch 89/100\n",
      "7/7 [==============================] - 0s 8ms/step - loss: 0.1780 - accuracy: 0.9200 - val_loss: 0.3112 - val_accuracy: 0.8636\n",
      "Epoch 90/100\n",
      "7/7 [==============================] - 0s 8ms/step - loss: 0.1848 - accuracy: 0.9600 - val_loss: 0.1809 - val_accuracy: 0.8636\n",
      "Epoch 91/100\n",
      "7/7 [==============================] - 0s 6ms/step - loss: 0.1624 - accuracy: 0.9400 - val_loss: 0.2896 - val_accuracy: 0.8636\n",
      "Epoch 92/100\n",
      "7/7 [==============================] - 0s 7ms/step - loss: 0.1835 - accuracy: 0.9800 - val_loss: 0.2718 - val_accuracy: 0.8182\n",
      "Epoch 93/100\n",
      "7/7 [==============================] - 0s 8ms/step - loss: 0.1819 - accuracy: 0.9400 - val_loss: 0.4016 - val_accuracy: 0.8636\n",
      "Epoch 94/100\n",
      "7/7 [==============================] - 0s 6ms/step - loss: 0.1927 - accuracy: 0.9000 - val_loss: 0.2500 - val_accuracy: 0.9091\n",
      "Epoch 95/100\n",
      "7/7 [==============================] - 0s 7ms/step - loss: 0.1758 - accuracy: 0.9600 - val_loss: 0.1702 - val_accuracy: 0.9091\n",
      "Epoch 96/100\n",
      "7/7 [==============================] - 0s 6ms/step - loss: 0.1584 - accuracy: 0.9800 - val_loss: 0.2174 - val_accuracy: 0.9091\n",
      "Epoch 97/100\n",
      "7/7 [==============================] - 0s 6ms/step - loss: 0.1857 - accuracy: 0.9000 - val_loss: 0.2747 - val_accuracy: 0.9091\n",
      "Epoch 98/100\n",
      "7/7 [==============================] - 0s 6ms/step - loss: 0.1453 - accuracy: 0.9800 - val_loss: 0.2843 - val_accuracy: 0.8182\n",
      "Epoch 99/100\n",
      "7/7 [==============================] - 0s 8ms/step - loss: 0.1554 - accuracy: 0.9600 - val_loss: 0.2890 - val_accuracy: 0.9091\n",
      "Epoch 100/100\n",
      "7/7 [==============================] - 0s 7ms/step - loss: 0.1432 - accuracy: 0.9800 - val_loss: 0.2692 - val_accuracy: 0.9091\n"
     ]
    }
   ],
   "source": [
    "H = model.fit(x_train,y_train,epochs =100,batch_size = 8 , validation_split=0.3)"
   ]
  },
  {
   "cell_type": "code",
   "execution_count": 26,
   "id": "fe0a8380-d983-48eb-8c72-56b85daf2763",
   "metadata": {},
   "outputs": [
    {
     "name": "stdout",
     "output_type": "stream",
     "text": [
      "1/1 [==============================] - 0s 8ms/step - loss: 0.2183 - accuracy: 0.9062\n",
      "Test Accuracy :  90.625\n"
     ]
    }
   ],
   "source": [
    "loss , acc  = model.evaluate( x_test,y_test)\n",
    "print('Test Accuracy : ',acc*100)"
   ]
  },
  {
   "cell_type": "code",
   "execution_count": 27,
   "id": "aaa01d80-a556-441b-a159-02ebf73669cf",
   "metadata": {},
   "outputs": [
    {
     "name": "stdout",
     "output_type": "stream",
     "text": [
      "3/3 [==============================] - 0s 5ms/step - loss: 0.1854 - accuracy: 0.9583\n",
      "Test Accuracy :  95.83333134651184\n"
     ]
    }
   ],
   "source": [
    "loss , acc  = model.evaluate( x_train,y_train)\n",
    "print('Test Accuracy : ',acc*100)"
   ]
  },
  {
   "cell_type": "code",
   "execution_count": 28,
   "id": "639f7309-84fa-459e-9ea6-3d2072379278",
   "metadata": {},
   "outputs": [
    {
     "data": {
      "text/plain": [
       "<matplotlib.legend.Legend at 0x18445a536a0>"
      ]
     },
     "execution_count": 28,
     "metadata": {},
     "output_type": "execute_result"
    },
    {
     "data": {
      "image/png": "[encoded data removed]",
      "text/plain": [
       "<Figure size 1000x800 with 1 Axes>"
      ]
     },
     "metadata": {},
     "output_type": "display_data"
    }
   ],
   "source": [
    "import matplotlib.pyplot as plt \n",
    "\n",
    "epochs = np.arange(0,len(H.history['loss']))\n",
    "plt.figure(figsize = (10,8))\n",
    "plt.style.use('ggplot')\n",
    "\n",
    "plt.style.use('ggplot')\n",
    "plt.plot(epochs,H.history['loss'],label='train_loss')\n",
    "plt.plot(epochs,H.history['val_loss'],label='val_loss')\n",
    "plt.title(\"Training Vs Validation\")\n",
    "plt.xlabel('EPoch')\n",
    "plt.ylabel(\"Loss\")\n",
    "plt.legend()"
   ]
  }
 ],
 "metadata": {
  "kernelspec": {
   "display_name": "Python 3 (ipykernel)",
   "language": "python",
   "name": "python3"
  },
  "language_info": {
   "codemirror_mode": {
    "name": "ipython",
    "version": 3
   },
   "file_extension": ".py",
   "mimetype": "text/x-python",
   "name": "python",
   "nbconvert_exporter": "python",
   "pygments_lexer": "ipython3",
   "version": "3.8.18"
  }
 },
 "nbformat": 4,
 "nbformat_minor": 5
}
